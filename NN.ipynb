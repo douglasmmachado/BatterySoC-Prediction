{
  "nbformat": 4,
  "nbformat_minor": 0,
  "metadata": {
    "colab": {
      "provenance": [],
      "authorship_tag": "ABX9TyPFG0dksy3WW39Nmyugzjg0",
      "include_colab_link": true
    },
    "kernelspec": {
      "name": "python3",
      "display_name": "Python 3"
    },
    "language_info": {
      "name": "python"
    }
  },
  "cells": [
    {
      "cell_type": "markdown",
      "metadata": {
        "id": "view-in-github",
        "colab_type": "text"
      },
      "source": [
        "<a href=\"https://colab.research.google.com/github/douglasmmachado/Battery_SoC/blob/main/NN.ipynb\" target=\"_parent\"><img src=\"https://colab.research.google.com/assets/colab-badge.svg\" alt=\"Open In Colab\"/></a>"
      ]
    },
    {
      "cell_type": "code",
      "source": [
        "!pip install nnfs"
      ],
      "metadata": {
        "colab": {
          "base_uri": "https://localhost:8080/"
        },
        "id": "KQRuoIoNu7Dj",
        "outputId": "9532cf25-d624-4af1-994d-6cc4acf52d08"
      },
      "execution_count": 18,
      "outputs": [
        {
          "output_type": "stream",
          "name": "stdout",
          "text": [
            "Looking in indexes: https://pypi.org/simple, https://us-python.pkg.dev/colab-wheels/public/simple/\n",
            "Collecting nnfs\n",
            "  Downloading nnfs-0.5.1-py3-none-any.whl (9.1 kB)\n",
            "Requirement already satisfied: numpy in /usr/local/lib/python3.10/dist-packages (from nnfs) (1.22.4)\n",
            "Installing collected packages: nnfs\n",
            "Successfully installed nnfs-0.5.1\n"
          ]
        }
      ]
    },
    {
      "cell_type": "code",
      "execution_count": 19,
      "metadata": {
        "id": "ejxdgfqTT6Q7"
      },
      "outputs": [],
      "source": [
        "import pandas as pd\n",
        "import numpy as np\n",
        "from sklearn.model_selection import train_test_split\n",
        "import matplotlib.pyplot as plt\n",
        "import nnfs\n",
        "from nnfs.datasets import sine_data\n",
        "from sklearn.metrics import accuracy_score\n",
        "from sklearn.dummy import DummyRegressor\n",
        "from scipy import stats"
      ]
    },
    {
      "cell_type": "code",
      "source": [
        "def verify_range(df):\n",
        "  for column in df.columns:\n",
        "    print(f'Column: {column}\\n' +\n",
        "          f'Max: {df[column].max()} \\n' +\n",
        "          f'Min: {df[column].min()}\\n')"
      ],
      "metadata": {
        "id": "UiDHm-SuYaaC"
      },
      "execution_count": 3,
      "outputs": []
    },
    {
      "cell_type": "code",
      "source": [
        "df_data = pd.read_csv('https://raw.githubusercontent.com/douglasmmachado/Battery_SoC/main/1%20-%20NN/data.csv')\n",
        "verify_range(df_data)\n",
        "\n",
        "#Presence of non valid values for all variables."
      ],
      "metadata": {
        "id": "dtXeiSGKX-9J",
        "colab": {
          "base_uri": "https://localhost:8080/"
        },
        "outputId": "8cfb9595-6d1e-43d3-9880-323c4f9293c0"
      },
      "execution_count": 4,
      "outputs": [
        {
          "output_type": "stream",
          "name": "stdout",
          "text": [
            "Column: current_measured\n",
            "Max: 1.3708 \n",
            "Min: -0.54385\n",
            "\n",
            "Column: voltage_measured\n",
            "Max: 4.1501 \n",
            "Min: -30497.0\n",
            "\n",
            "Column: voc\n",
            "Max: 4.2 \n",
            "Min: -2.4903\n",
            "\n",
            "Column: rint\n",
            "Max: 0.06135 \n",
            "Min: 0.06\n",
            "\n",
            "Column: zeta\n",
            "Max: 100.0 \n",
            "Min: -30498.0\n",
            "\n"
          ]
        }
      ]
    },
    {
      "cell_type": "code",
      "source": [
        "#removing values below zero\n",
        "\n",
        "for column in df_data.columns:\n",
        "\n",
        "  df_data.drop(df_data[df_data[column] < 0].index, inplace = True)\n",
        "\n",
        "verify_range(df_data)\n"
      ],
      "metadata": {
        "colab": {
          "base_uri": "https://localhost:8080/"
        },
        "id": "ppvmbeobpcGb",
        "outputId": "0e65e075-e025-4b36-c86a-ff8327cdd452"
      },
      "execution_count": 5,
      "outputs": [
        {
          "output_type": "stream",
          "name": "stdout",
          "text": [
            "Column: current_measured\n",
            "Max: 1.3708 \n",
            "Min: 0.63347\n",
            "\n",
            "Column: voltage_measured\n",
            "Max: 4.1501 \n",
            "Min: 3.1217\n",
            "\n",
            "Column: voc\n",
            "Max: 4.2 \n",
            "Min: 3.1779\n",
            "\n",
            "Column: rint\n",
            "Max: 0.061266 \n",
            "Min: 0.06\n",
            "\n",
            "Column: zeta\n",
            "Max: 100.0 \n",
            "Min: 0.054278\n",
            "\n"
          ]
        }
      ]
    },
    {
      "cell_type": "code",
      "source": [
        "#Fill NaN with median\n",
        "df_data = df_data.fillna(df_data.median())"
      ],
      "metadata": {
        "id": "Ho0u1UK0Bcke"
      },
      "execution_count": 6,
      "outputs": []
    },
    {
      "cell_type": "code",
      "source": [
        "#Building y and X\n",
        "I = np.array(df_data['current_measured'])\n",
        "V = np.array(df_data['voltage_measured'])\n",
        "Voc = np.array(df_data['voc'])\n",
        "Rint = np.array(df_data['rint'])\n",
        "Zeta = np.array(df_data['zeta'])\n",
        "\n",
        "y = np.stack((Voc, Rint, Zeta), axis=1)\n",
        "X = np.stack((I, V), axis=1)"
      ],
      "metadata": {
        "id": "eGadtZ-Hrayu"
      },
      "execution_count": 46,
      "outputs": []
    },
    {
      "cell_type": "code",
      "source": [
        "dummy_regr = DummyRegressor(strategy=\"mean\")\n",
        "dummy_regr.fit(X, y)\n",
        "\n",
        "dummy_regr.predict(X)\n",
        "\n",
        "dummy_regr.score(X, y)\n"
      ],
      "metadata": {
        "colab": {
          "base_uri": "https://localhost:8080/"
        },
        "id": "9DsRekxpAkgY",
        "outputId": "450f1937-f2e4-4da4-e70b-a6bcdf286243"
      },
      "execution_count": 47,
      "outputs": [
        {
          "output_type": "execute_result",
          "data": {
            "text/plain": [
              "0.0"
            ]
          },
          "metadata": {},
          "execution_count": 47
        }
      ]
    },
    {
      "cell_type": "code",
      "source": [
        "#Using MLPRegressor\n",
        "\n",
        "from sklearn.neural_network import MLPRegressor\n",
        "\n",
        "'''\n",
        "hidden_layer_sizes=(100,),\n",
        "activation='relu', *,\n",
        "solver='adam',\n",
        "alpha=0.0001,\n",
        "batch_size='auto',\n",
        "learning_rate='constant',\n",
        "learning_rate_init=0.001,\n",
        "power_t=0.5,\n",
        "max_iter=200,\n",
        "shuffle=True,\n",
        "random_state=None,\n",
        "tol=0.0001,\n",
        "verbose=False,\n",
        "warm_start=False,\n",
        "momentum=0.9,\n",
        "nesterovs_momentum=True,\n",
        "early_stopping=False,\n",
        "validation_fraction=0.1,\n",
        "beta_1=0.9,\n",
        "beta_2=0.999,\n",
        "epsilon=1e-08,\n",
        "n_iter_no_change=10,\n",
        "max_fun=15000\n",
        "'''\n",
        "\n",
        "X_train, X_test, y_train, y_test = train_test_split(X, y, random_state=1)\n",
        "regr = MLPRegressor(hidden_layer_sizes = 512,\n",
        "                    activation = 'relu',\n",
        "                    alpha = 5e-4,\n",
        "                    learning_rate='adaptive',\n",
        "                    learning_rate_init = 0.002,\n",
        "                    random_state=1,\n",
        "                    max_iter=10000,\n",
        "                    shuffle = False).fit(X_train, y_train)"
      ],
      "metadata": {
        "id": "7_GpFfL5DsUm"
      },
      "execution_count": null,
      "outputs": []
    },
    {
      "cell_type": "code",
      "source": [
        "y_pred = regr.predict(X_test[:1000])"
      ],
      "metadata": {
        "id": "N7IeguYvpCs8"
      },
      "execution_count": null,
      "outputs": []
    },
    {
      "cell_type": "code",
      "source": [
        "plt.plot(y_pred[:1000,0])\n",
        "plt.plot(y_test[:1000,0])"
      ],
      "metadata": {
        "colab": {
          "base_uri": "https://localhost:8080/",
          "height": 448
        },
        "id": "6yh1yLfvv6tr",
        "outputId": "e301da81-3e50-4ad5-9fd4-dd51da1f2b99"
      },
      "execution_count": 53,
      "outputs": [
        {
          "output_type": "execute_result",
          "data": {
            "text/plain": [
              "[<matplotlib.lines.Line2D at 0x7f5c97d7c760>]"
            ]
          },
          "metadata": {},
          "execution_count": 53
        },
        {
          "output_type": "display_data",
          "data": {
            "text/plain": [
              "<Figure size 640x480 with 1 Axes>"
            ],
            "image/png": "[encoded data removed]"
          },
          "metadata": {}
        }
      ]
    },
    {
      "cell_type": "code",
      "source": [
        "regr.score(X_test, y_test)"
      ],
      "metadata": {
        "colab": {
          "base_uri": "https://localhost:8080/"
        },
        "id": "7t41FzAuvu_b",
        "outputId": "c03bdc02-2e63-416d-e643-d86335b55932"
      },
      "execution_count": 54,
      "outputs": [
        {
          "output_type": "execute_result",
          "data": {
            "text/plain": [
              "-0.6333908243880363"
            ]
          },
          "metadata": {},
          "execution_count": 54
        }
      ]
    },
    {
      "cell_type": "code",
      "source": [
        "loss = regr.loss_curve_\n",
        "plt.plot(loss)"
      ],
      "metadata": {
        "colab": {
          "base_uri": "https://localhost:8080/",
          "height": 448
        },
        "id": "rZdluhkuHwJZ",
        "outputId": "bf1b2d3c-9d50-4784-eb6e-92debadc6fc8"
      },
      "execution_count": 29,
      "outputs": [
        {
          "output_type": "execute_result",
          "data": {
            "text/plain": [
              "[<matplotlib.lines.Line2D at 0x7f5c987d4fd0>]"
            ]
          },
          "metadata": {},
          "execution_count": 29
        },
        {
          "output_type": "display_data",
          "data": {
            "text/plain": [
              "<Figure size 640x480 with 1 Axes>"
            ],
            "image/png": "[encoded data removed]"
          },
          "metadata": {}
        }
      ]
    },
    {
      "cell_type": "code",
      "source": [
        "#Using TimeSeriesSplit and approach to regression\n",
        "\n",
        "from sklearn.model_selection import TimeSeriesSplit\n",
        "\n",
        "ts_cv = TimeSeriesSplit(\n",
        "    n_splits=5,\n",
        "    gap=48,\n",
        "    max_train_size=10000,\n",
        "    test_size=1000,\n",
        ")\n",
        "\n",
        "all_splits = list(ts_cv.split(X, y))\n",
        "train_0, test_0 = all_splits[0]"
      ],
      "metadata": {
        "colab": {
          "base_uri": "https://localhost:8080/"
        },
        "id": "04isPWA4qBqz",
        "outputId": "ea13a2d8-84ad-46b9-d38d-4c37b993e4da"
      },
      "execution_count": 34,
      "outputs": [
        {
          "output_type": "execute_result",
          "data": {
            "text/plain": [
              "array([67825, 67826, 67827, 67828, 67829, 67830, 67831, 67832, 67833,\n",
              "       67834, 67835, 67836, 67837, 67838, 67839, 67840, 67841, 67842,\n",
              "       67843, 67844, 67845, 67846, 67847, 67848, 67849, 67850, 67851,\n",
              "       67852, 67853, 67854, 67855, 67856, 67857, 67858, 67859, 67860,\n",
              "       67861, 67862, 67863, 67864, 67865, 67866, 67867, 67868, 67869,\n",
              "       67870, 67871, 67872, 67873, 67874, 67875, 67876, 67877, 67878,\n",
              "       67879, 67880, 67881, 67882, 67883, 67884, 67885, 67886, 67887,\n",
              "       67888, 67889, 67890, 67891, 67892, 67893, 67894, 67895, 67896,\n",
              "       67897, 67898, 67899, 67900, 67901, 67902, 67903, 67904, 67905,\n",
              "       67906, 67907, 67908, 67909, 67910, 67911, 67912, 67913, 67914,\n",
              "       67915, 67916, 67917, 67918, 67919, 67920, 67921, 67922, 67923,\n",
              "       67924, 67925, 67926, 67927, 67928, 67929, 67930, 67931, 67932,\n",
              "       67933, 67934, 67935, 67936, 67937, 67938, 67939, 67940, 67941,\n",
              "       67942, 67943, 67944, 67945, 67946, 67947, 67948, 67949, 67950,\n",
              "       67951, 67952, 67953, 67954, 67955, 67956, 67957, 67958, 67959,\n",
              "       67960, 67961, 67962, 67963, 67964, 67965, 67966, 67967, 67968,\n",
              "       67969, 67970, 67971, 67972, 67973, 67974, 67975, 67976, 67977,\n",
              "       67978, 67979, 67980, 67981, 67982, 67983, 67984, 67985, 67986,\n",
              "       67987, 67988, 67989, 67990, 67991, 67992, 67993, 67994, 67995,\n",
              "       67996, 67997, 67998, 67999, 68000, 68001, 68002, 68003, 68004,\n",
              "       68005, 68006, 68007, 68008, 68009, 68010, 68011, 68012, 68013,\n",
              "       68014, 68015, 68016, 68017, 68018, 68019, 68020, 68021, 68022,\n",
              "       68023, 68024, 68025, 68026, 68027, 68028, 68029, 68030, 68031,\n",
              "       68032, 68033, 68034, 68035, 68036, 68037, 68038, 68039, 68040,\n",
              "       68041, 68042, 68043, 68044, 68045, 68046, 68047, 68048, 68049,\n",
              "       68050, 68051, 68052, 68053, 68054, 68055, 68056, 68057, 68058,\n",
              "       68059, 68060, 68061, 68062, 68063, 68064, 68065, 68066, 68067,\n",
              "       68068, 68069, 68070, 68071, 68072, 68073, 68074, 68075, 68076,\n",
              "       68077, 68078, 68079, 68080, 68081, 68082, 68083, 68084, 68085,\n",
              "       68086, 68087, 68088, 68089, 68090, 68091, 68092, 68093, 68094,\n",
              "       68095, 68096, 68097, 68098, 68099, 68100, 68101, 68102, 68103,\n",
              "       68104, 68105, 68106, 68107, 68108, 68109, 68110, 68111, 68112,\n",
              "       68113, 68114, 68115, 68116, 68117, 68118, 68119, 68120, 68121,\n",
              "       68122, 68123, 68124, 68125, 68126, 68127, 68128, 68129, 68130,\n",
              "       68131, 68132, 68133, 68134, 68135, 68136, 68137, 68138, 68139,\n",
              "       68140, 68141, 68142, 68143, 68144, 68145, 68146, 68147, 68148,\n",
              "       68149, 68150, 68151, 68152, 68153, 68154, 68155, 68156, 68157,\n",
              "       68158, 68159, 68160, 68161, 68162, 68163, 68164, 68165, 68166,\n",
              "       68167, 68168, 68169, 68170, 68171, 68172, 68173, 68174, 68175,\n",
              "       68176, 68177, 68178, 68179, 68180, 68181, 68182, 68183, 68184,\n",
              "       68185, 68186, 68187, 68188, 68189, 68190, 68191, 68192, 68193,\n",
              "       68194, 68195, 68196, 68197, 68198, 68199, 68200, 68201, 68202,\n",
              "       68203, 68204, 68205, 68206, 68207, 68208, 68209, 68210, 68211,\n",
              "       68212, 68213, 68214, 68215, 68216, 68217, 68218, 68219, 68220,\n",
              "       68221, 68222, 68223, 68224, 68225, 68226, 68227, 68228, 68229,\n",
              "       68230, 68231, 68232, 68233, 68234, 68235, 68236, 68237, 68238,\n",
              "       68239, 68240, 68241, 68242, 68243, 68244, 68245, 68246, 68247,\n",
              "       68248, 68249, 68250, 68251, 68252, 68253, 68254, 68255, 68256,\n",
              "       68257, 68258, 68259, 68260, 68261, 68262, 68263, 68264, 68265,\n",
              "       68266, 68267, 68268, 68269, 68270, 68271, 68272, 68273, 68274,\n",
              "       68275, 68276, 68277, 68278, 68279, 68280, 68281, 68282, 68283,\n",
              "       68284, 68285, 68286, 68287, 68288, 68289, 68290, 68291, 68292,\n",
              "       68293, 68294, 68295, 68296, 68297, 68298, 68299, 68300, 68301,\n",
              "       68302, 68303, 68304, 68305, 68306, 68307, 68308, 68309, 68310,\n",
              "       68311, 68312, 68313, 68314, 68315, 68316, 68317, 68318, 68319,\n",
              "       68320, 68321, 68322, 68323, 68324, 68325, 68326, 68327, 68328,\n",
              "       68329, 68330, 68331, 68332, 68333, 68334, 68335, 68336, 68337,\n",
              "       68338, 68339, 68340, 68341, 68342, 68343, 68344, 68345, 68346,\n",
              "       68347, 68348, 68349, 68350, 68351, 68352, 68353, 68354, 68355,\n",
              "       68356, 68357, 68358, 68359, 68360, 68361, 68362, 68363, 68364,\n",
              "       68365, 68366, 68367, 68368, 68369, 68370, 68371, 68372, 68373,\n",
              "       68374, 68375, 68376, 68377, 68378, 68379, 68380, 68381, 68382,\n",
              "       68383, 68384, 68385, 68386, 68387, 68388, 68389, 68390, 68391,\n",
              "       68392, 68393, 68394, 68395, 68396, 68397, 68398, 68399, 68400,\n",
              "       68401, 68402, 68403, 68404, 68405, 68406, 68407, 68408, 68409,\n",
              "       68410, 68411, 68412, 68413, 68414, 68415, 68416, 68417, 68418,\n",
              "       68419, 68420, 68421, 68422, 68423, 68424, 68425, 68426, 68427,\n",
              "       68428, 68429, 68430, 68431, 68432, 68433, 68434, 68435, 68436,\n",
              "       68437, 68438, 68439, 68440, 68441, 68442, 68443, 68444, 68445,\n",
              "       68446, 68447, 68448, 68449, 68450, 68451, 68452, 68453, 68454,\n",
              "       68455, 68456, 68457, 68458, 68459, 68460, 68461, 68462, 68463,\n",
              "       68464, 68465, 68466, 68467, 68468, 68469, 68470, 68471, 68472,\n",
              "       68473, 68474, 68475, 68476, 68477, 68478, 68479, 68480, 68481,\n",
              "       68482, 68483, 68484, 68485, 68486, 68487, 68488, 68489, 68490,\n",
              "       68491, 68492, 68493, 68494, 68495, 68496, 68497, 68498, 68499,\n",
              "       68500, 68501, 68502, 68503, 68504, 68505, 68506, 68507, 68508,\n",
              "       68509, 68510, 68511, 68512, 68513, 68514, 68515, 68516, 68517,\n",
              "       68518, 68519, 68520, 68521, 68522, 68523, 68524, 68525, 68526,\n",
              "       68527, 68528, 68529, 68530, 68531, 68532, 68533, 68534, 68535,\n",
              "       68536, 68537, 68538, 68539, 68540, 68541, 68542, 68543, 68544,\n",
              "       68545, 68546, 68547, 68548, 68549, 68550, 68551, 68552, 68553,\n",
              "       68554, 68555, 68556, 68557, 68558, 68559, 68560, 68561, 68562,\n",
              "       68563, 68564, 68565, 68566, 68567, 68568, 68569, 68570, 68571,\n",
              "       68572, 68573, 68574, 68575, 68576, 68577, 68578, 68579, 68580,\n",
              "       68581, 68582, 68583, 68584, 68585, 68586, 68587, 68588, 68589,\n",
              "       68590, 68591, 68592, 68593, 68594, 68595, 68596, 68597, 68598,\n",
              "       68599, 68600, 68601, 68602, 68603, 68604, 68605, 68606, 68607,\n",
              "       68608, 68609, 68610, 68611, 68612, 68613, 68614, 68615, 68616,\n",
              "       68617, 68618, 68619, 68620, 68621, 68622, 68623, 68624, 68625,\n",
              "       68626, 68627, 68628, 68629, 68630, 68631, 68632, 68633, 68634,\n",
              "       68635, 68636, 68637, 68638, 68639, 68640, 68641, 68642, 68643,\n",
              "       68644, 68645, 68646, 68647, 68648, 68649, 68650, 68651, 68652,\n",
              "       68653, 68654, 68655, 68656, 68657, 68658, 68659, 68660, 68661,\n",
              "       68662, 68663, 68664, 68665, 68666, 68667, 68668, 68669, 68670,\n",
              "       68671, 68672, 68673, 68674, 68675, 68676, 68677, 68678, 68679,\n",
              "       68680, 68681, 68682, 68683, 68684, 68685, 68686, 68687, 68688,\n",
              "       68689, 68690, 68691, 68692, 68693, 68694, 68695, 68696, 68697,\n",
              "       68698, 68699, 68700, 68701, 68702, 68703, 68704, 68705, 68706,\n",
              "       68707, 68708, 68709, 68710, 68711, 68712, 68713, 68714, 68715,\n",
              "       68716, 68717, 68718, 68719, 68720, 68721, 68722, 68723, 68724,\n",
              "       68725, 68726, 68727, 68728, 68729, 68730, 68731, 68732, 68733,\n",
              "       68734, 68735, 68736, 68737, 68738, 68739, 68740, 68741, 68742,\n",
              "       68743, 68744, 68745, 68746, 68747, 68748, 68749, 68750, 68751,\n",
              "       68752, 68753, 68754, 68755, 68756, 68757, 68758, 68759, 68760,\n",
              "       68761, 68762, 68763, 68764, 68765, 68766, 68767, 68768, 68769,\n",
              "       68770, 68771, 68772, 68773, 68774, 68775, 68776, 68777, 68778,\n",
              "       68779, 68780, 68781, 68782, 68783, 68784, 68785, 68786, 68787,\n",
              "       68788, 68789, 68790, 68791, 68792, 68793, 68794, 68795, 68796,\n",
              "       68797, 68798, 68799, 68800, 68801, 68802, 68803, 68804, 68805,\n",
              "       68806, 68807, 68808, 68809, 68810, 68811, 68812, 68813, 68814,\n",
              "       68815, 68816, 68817, 68818, 68819, 68820, 68821, 68822, 68823,\n",
              "       68824])"
            ]
          },
          "metadata": {},
          "execution_count": 34
        }
      ]
    }
  ]
}