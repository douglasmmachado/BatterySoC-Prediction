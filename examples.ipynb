{
  "nbformat": 4,
  "nbformat_minor": 0,
  "metadata": {
    "colab": {
      "provenance": [],
      "authorship_tag": "ABX9TyM8ZFoEu3yjOrT0kcfbVfjK",
      "include_colab_link": true
    },
    "kernelspec": {
      "name": "python3",
      "display_name": "Python 3"
    },
    "language_info": {
      "name": "python"
    }
  },
  "cells": [
    {
      "cell_type": "markdown",
      "metadata": {
        "id": "view-in-github",
        "colab_type": "text"
      },
      "source": [
        "<a href=\"https://colab.research.google.com/github/douglasmmachado/Battery_SoC/blob/main/examples.ipynb\" target=\"_parent\"><img src=\"https://colab.research.google.com/assets/colab-badge.svg\" alt=\"Open In Colab\"/></a>"
      ]
    },
    {
      "cell_type": "code",
      "source": [
        "import numpy as np\n",
        "import math as m\n",
        "import matplotlib.pyplot as plt\n",
        "import nnfs"
      ],
      "metadata": {
        "id": "gJNOy_7_uPt8"
      },
      "execution_count": 5,
      "outputs": []
    },
    {
      "cell_type": "code",
      "source": [
        "!pip install nnfs"
      ],
      "metadata": {
        "id": "pQNAWVZoHqOD",
        "colab": {
          "base_uri": "https://localhost:8080/"
        },
        "outputId": "779c74b9-704b-4896-c1ce-ea408632fabe"
      },
      "execution_count": 4,
      "outputs": [
        {
          "output_type": "stream",
          "name": "stdout",
          "text": [
            "Looking in indexes: https://pypi.org/simple, https://us-python.pkg.dev/colab-wheels/public/simple/\n",
            "Collecting nnfs\n",
            "  Downloading nnfs-0.5.1-py3-none-any.whl (9.1 kB)\n",
            "Requirement already satisfied: numpy in /usr/local/lib/python3.10/dist-packages (from nnfs) (1.22.4)\n",
            "Installing collected packages: nnfs\n",
            "Successfully installed nnfs-0.5.1\n"
          ]
        }
      ]
    },
    {
      "cell_type": "code",
      "execution_count": null,
      "metadata": {
        "colab": {
          "base_uri": "https://localhost:8080/"
        },
        "id": "6wCFrEZFt5cw",
        "outputId": "54970c5b-f2d4-4615-e1fe-c6534d67be38"
      },
      "outputs": [
        {
          "output_type": "execute_result",
          "data": {
            "text/plain": [
              "2.3"
            ]
          },
          "metadata": {},
          "execution_count": 3
        }
      ],
      "source": [
        "#Modeling 1 neuron 3 inputs 3 weights 1 output\n",
        "inputs = [1,2,3]\n",
        "weights = [0.2,0.8,-0.5]\n",
        "bias = 2\n",
        "\n",
        "output = (inputs[0]*weights[0] + inputs[1]*weights[1] + inputs[2]*weights[2] + bias)\n",
        "print(output)"
      ]
    },
    {
      "cell_type": "code",
      "source": [
        "#Modeling 1 neuron 4 inputs 4 weights 1 output\n",
        "inputs = [1,2,3,2.5]\n",
        "weights = [0.2,0.8,-0.5,1]\n",
        "bias = 2\n",
        "\n",
        "output = (inputs[0]*weights[0] + inputs[1]*weights[1] + inputs[2]*weights[2] + inputs[3]*weights[3] + bias)\n",
        "print(output)"
      ],
      "metadata": {
        "colab": {
          "base_uri": "https://localhost:8080/"
        },
        "id": "wnO3FSMmuXJu",
        "outputId": "2245f3dd-bf3d-43df-b0f9-d243750aecab"
      },
      "execution_count": null,
      "outputs": [
        {
          "output_type": "stream",
          "name": "stdout",
          "text": [
            "4.8\n"
          ]
        }
      ]
    },
    {
      "cell_type": "code",
      "source": [
        "#Modeling 3 neurons 4 inputs 4 weights 3 output\n",
        "inputs = [1,2,3,2.5]\n",
        "\n",
        "weights1 = [0.2, 0.8, -0.5, 1]\n",
        "weights2 = [0.5, -0.91, 0.26, -0.5]\n",
        "weights3 = [-0.26, -0.27, 0.17, 0.87]\n",
        "\n",
        "bias1 = 2\n",
        "bias2 = 3\n",
        "bias3 = 0.5\n",
        "\n",
        "output = [(inputs[0]*weights1[0] + inputs[1]*weights1[1] + inputs[2]*weights1[2] + inputs[3]*weights1[3] + bias1),\n",
        "          (inputs[0]*weights2[0] + inputs[1]*weights2[1] + inputs[2]*weights2[2] + inputs[3]*weights2[3] + bias2),\n",
        "          (inputs[0]*weights3[0] + inputs[1]*weights3[1] + inputs[2]*weights3[2] + inputs[3]*weights3[3] + bias3)]\n",
        "print(output)"
      ],
      "metadata": {
        "colab": {
          "base_uri": "https://localhost:8080/"
        },
        "id": "xa3C8dwPwCfD",
        "outputId": "5d79f2d2-5484-4247-9c6f-5a88d0df0572"
      },
      "execution_count": null,
      "outputs": [
        {
          "output_type": "stream",
          "name": "stdout",
          "text": [
            "[4.8, 1.21, 2.385]\n"
          ]
        }
      ]
    },
    {
      "cell_type": "code",
      "source": [
        "#Object-oriented NN\n",
        "\n",
        "inputs = [1,2,3,2.5]\n",
        "\n",
        "weights = [[0.2, 0.8, -0.5, 1],\n",
        "           [0.5, -0.91, 0.26, -0.5],\n",
        "           [-0.26, -0.27, 0.17, 0.87]]\n",
        "\n",
        "biases = [2,3,0.5]\n",
        "\n",
        "layer_outputs = []\n",
        "\n",
        "for neuron_weights, neuron_bias in zip(weights, biases):\n",
        "  \n",
        "  neuron_output = 0\n",
        "\n",
        "  for n_input, weight in zip(inputs, neuron_weights):\n",
        "    neuron_output += n_input*weight\n",
        "\n",
        "  neuron_output += neuron_bias\n",
        "  layer_outputs.append(neuron_output)\n",
        "\n",
        "print(layer_outputs)"
      ],
      "metadata": {
        "colab": {
          "base_uri": "https://localhost:8080/"
        },
        "id": "I_8D643sxBMm",
        "outputId": "45eff36b-47fb-450a-fbfa-7205684a7c86"
      },
      "execution_count": null,
      "outputs": [
        {
          "output_type": "execute_result",
          "data": {
            "text/plain": [
              "[4.8, 1.21, 2.385]"
            ]
          },
          "metadata": {},
          "execution_count": 7
        }
      ]
    },
    {
      "cell_type": "code",
      "source": [
        "#Using numpy\n",
        "import numpy as np\n",
        "\n",
        "inputs = np.array([1,2,3,2.5])\n",
        "\n",
        "print(f'Inputs shape: {inputs.shape}')\n",
        "\n",
        "weights = np.array([[0.2, 0.8, -0.5, 1],\n",
        "           [0.5, -0.91, 0.26, -0.5],\n",
        "           [-0.26, -0.27, 0.17, 0.87]])\n",
        "\n",
        "print(f'Weights shape: {weights.shape}')\n",
        "\n",
        "biases = [2,3,0.5]\n",
        "\n",
        "\n",
        "#To use dot here, we must consider the shape of inputs and weights, so weights.*inputs works but inputs.*weights don't\n",
        "layer_outputs = np.dot(weights,inputs) + biases\n",
        "\n",
        "print(layer_outputs)"
      ],
      "metadata": {
        "colab": {
          "base_uri": "https://localhost:8080/"
        },
        "id": "cuN25VL93LeX",
        "outputId": "ee7a8e06-2be6-424a-d4f9-829ba31d6fed"
      },
      "execution_count": null,
      "outputs": [
        {
          "output_type": "stream",
          "name": "stdout",
          "text": [
            "Inputs shape: (4,)\n",
            "Weights shape: (3, 4)\n",
            "[4.8   1.21  2.385]\n"
          ]
        }
      ]
    },
    {
      "cell_type": "code",
      "source": [
        "# A Layer of Neurons & Batch of Data w/ NumPy\n",
        "\n",
        "inputs = [[1.0,2.0,3.0,2.5],\n",
        "          [2.0,5.0,-1.0,2.0],\n",
        "          [-1.5,2.7,3.3,-0.8]]\n",
        "\n",
        "weights = [[0.2,0.8,-0.5,1.0],\n",
        "           [0.5,-0.91,0.26,-0.5],\n",
        "           [-0.26,-0.27,0.17,0.87]]\n",
        "biases = [2.0,3.0,0.5]\n",
        "\n",
        "outputs = np.dot(inputs, np.array(weights).T) + biases\n",
        "print(outputs)"
      ],
      "metadata": {
        "id": "vazUY5463OB6",
        "colab": {
          "base_uri": "https://localhost:8080/"
        },
        "outputId": "336cc657-616f-4a19-b1d9-bf47d8dc1989"
      },
      "execution_count": null,
      "outputs": [
        {
          "output_type": "stream",
          "name": "stdout",
          "text": [
            "[[ 4.8    1.21   2.385]\n",
            " [ 8.9   -1.81   0.2  ]\n",
            " [ 1.41   1.051  0.026]]\n"
          ]
        }
      ]
    },
    {
      "cell_type": "code",
      "source": [
        "# 2 Layers of Neurons & Batch of Data w/ NumPy\n",
        "\n",
        "\n",
        "inputs = [[1.0,2.0,3.0,2.5],\n",
        "          [2.0,5.0,-1.0,2.0],\n",
        "          [-1.5,2.7,3.3,-0.8]]\n",
        "\n",
        "weights1 = [[0.2,0.8,-0.5,1.0],\n",
        "           [0.5,-0.91,0.26,-0.5],\n",
        "           [-0.26,-0.27,0.17,0.87]]\n",
        "\n",
        "weights2 = [[0.1,-0.14,0.5],\n",
        "            [-0.5,0.12,-0.33],\n",
        "            [-0.44,0.73,-0.13]]\n",
        "\n",
        "biases1 = [2.0,3.0,0.5]\n",
        "biases2 = [-1,2,-0.5]\n",
        "\n",
        "layer1_outputs = np.dot(inputs, np.array(weights1).T) + biases1\n",
        "outputs = np.dot(layer1_outputs, np.array(weights2).T) + biases2\n",
        "print(outputs)"
      ],
      "metadata": {
        "colab": {
          "base_uri": "https://localhost:8080/"
        },
        "id": "2a6o03HQ_PxY",
        "outputId": "4ca8d2b0-48ab-41aa-a38d-ae5f2e350c44"
      },
      "execution_count": null,
      "outputs": [
        {
          "output_type": "stream",
          "name": "stdout",
          "text": [
            "[[ 0.5031  -1.04185 -2.03875]\n",
            " [ 0.2434  -2.7332  -5.7633 ]\n",
            " [-0.99314  1.41254 -0.35655]]\n"
          ]
        }
      ]
    },
    {
      "cell_type": "code",
      "source": [
        "#Training data\n",
        "from nnfs.datasets import spiral_data\n",
        "import nnfs\n",
        "import matplotlib.pyplot as plt\n",
        "nnfs.init()\n",
        "\n",
        "'''\n",
        "  The ​nnfs.init()​ does three things: it sets the random seed to 0 (by the default), creates a\n",
        "  float32​ dtype default, and overrides the original dot product from NumPy. All of these are meant\n",
        "  to ensure repeatable results for following along\n",
        "'''\n",
        "\n",
        "X, y = spiral_data(samples=100,classes = 3)\n",
        "plt.scatter(X[:,0],X[:,1], c=y, cmap='brg')\n",
        "plt.show()\n"
      ],
      "metadata": {
        "colab": {
          "base_uri": "https://localhost:8080/",
          "height": 430
        },
        "id": "Ao3fkpqKHXW4",
        "outputId": "ad8f29ee-8ca3-4f2f-8177-2a3b9b99df9a"
      },
      "execution_count": null,
      "outputs": [
        {
          "output_type": "display_data",
          "data": {
            "text/plain": [
              "<Figure size 640x480 with 1 Axes>"
            ],
            "image/png": "[encoded data removed]"
          },
          "metadata": {}
        }
      ]
    },
    {
      "cell_type": "code",
      "source": [
        "class Layer_Dense:\n",
        "\n",
        "  def __init__(self, n_inputs, n_neurons):\n",
        "\n",
        "    self.weights = 0.01 * np.random.randn(n_inputs,n_neurons)\n",
        "    self.biases = np.zeros((1, n_neurons))\n",
        "\n",
        "  def forward(self, inputs):\n",
        "    self.output = np.dot(inputs, self.weights) + self.biases\n",
        "\n",
        "  def backward(self, dvalues):\n",
        "    self.dweights = np.dot(self.inputs.T, dvalues)\n",
        "    self.dbiases = np.sum(dvalues, axis=0, keepdims = True)\n",
        "    self.dinputs = np.dot(dvalues, self.weights.T)"
      ],
      "metadata": {
        "id": "nMbSvxl_JS4w"
      },
      "execution_count": 3,
      "outputs": []
    },
    {
      "cell_type": "code",
      "source": [
        "class Activation_ReLU:\n",
        "\n",
        "  def forward(self, inputs):\n",
        "    self.inputs = inputs\n",
        "    self.output = np.maximum(0,inputs)\n",
        "  \n",
        "  def backward(self, dvalues):\n",
        "    self.dinputs = dvalues.copy()\n",
        "    self.dinputs[self.inputs <= 0 ] = 0"
      ],
      "metadata": {
        "id": "hKrIo06BbXkf"
      },
      "execution_count": 6,
      "outputs": []
    },
    {
      "cell_type": "code",
      "source": [
        "class Activation_SoftMax:\n",
        "  def forward(self, inputs):\n",
        "\n",
        "    exp_values = np.exp(inputs - np.max(inputs,axis=1, keepdims=True))\n",
        "\n",
        "    probabilities = exp_values / np.sum(exp_values, axis=1, keepdims=True)\n",
        "\n",
        "    self.output = probabilities\n",
        "\n",
        "  def backward(self, dvalues):\n",
        "    self.dinputs = np.empty_like(dvalues)\n",
        "\n",
        "    for index, (single_output, single_dvalues) in enumerate(zip(self.output, dvalues)):\n",
        "      sigle_output = single_output.reshape(-1,1)\n",
        "      jacobian_matrix = np.diagflat(single_output) - np.dot(single_output, single_output.T)\n",
        "      self.dinputs[index] = np.dot(jacobian_matrix, single_dvalues)\n"
      ],
      "metadata": {
        "id": "JUJkJtHje7zx"
      },
      "execution_count": 11,
      "outputs": []
    },
    {
      "cell_type": "code",
      "source": [
        "class Loss:\n",
        "  def calculate(self, output, y):\n",
        "    sample_losses = self.forward(output, y)\n",
        "    data_loss = np.mean(sample_losses)\n",
        "    return data_loss"
      ],
      "metadata": {
        "id": "thTrckESh2aG"
      },
      "execution_count": 9,
      "outputs": []
    },
    {
      "cell_type": "code",
      "source": [
        "class Loss_CategoricalCrossEntropy(Loss):\n",
        "\n",
        "  def forward(self, y_pred, y_true):\n",
        "    samples = len(y_pred)\n",
        "\n",
        "    # Clip data to prevent division by 0\n",
        "    y_pred_clipped = np.clip(y_pred, 1e-7, 1 - 1e-7)\n",
        "\n",
        "    # Probabilities for target values\n",
        "    # Only if categorical labels\n",
        "    if len(y_true.shape) == 1:\n",
        "      correct_confidences = y_pred_clipped[range(samples),y_true]\n",
        "    elif len(y_true.shape) == 2:\n",
        "      correct_confidences = np.sum(y_pred_clipped * y_true, axis=1)\n",
        "\n",
        "    negative_log_likelihoods = -np.log(correct_confidences)\n",
        "    return negative_log_likelihoods\n",
        "\n",
        "    '''\n",
        "      This class inherits the ​Loss​ class and performs all the error calculations that we derived\n",
        "      throughout this chapter and can be used as an object. For example, using the manually-created\n",
        "      output and targets:\n",
        "    '''\n",
        "  def backward(self, dvalues, y_true):\n",
        "    samples = len(dvalues)\n",
        "    labels = len(dvalues[0])\n",
        "    if len(y_true.shape) == 1:\n",
        "      y_true = np.eye(labels)[y_true]\n",
        "    self.dinputs = -y_true / dvalues\n",
        "    self.dinputs = self.dinputs / samples"
      ],
      "metadata": {
        "id": "2m7cPkXBiU81"
      },
      "execution_count": 10,
      "outputs": []
    },
    {
      "cell_type": "code",
      "source": [
        "if __name__ == '__main__':\n",
        "  X, y = spiral_data(samples=100,classes = 3)\n",
        "  dense1 = Layer_Dense(2,3)\n",
        "  activation1 = Activation_ReLU()\n",
        "  dense1.forward(X)\n",
        "  activation1.forward(dense1.output)\n",
        "  \n",
        "  dense2 = Layer_Dense(3,3)\n",
        "  activation2 = Activation_SoftMax()\n",
        "\n",
        "  dense2.forward(activation1.output)\n",
        "\n",
        "  activation2.forward(dense2.output)\n",
        "\n",
        "  print(activation2.output[:5])"
      ],
      "metadata": {
        "colab": {
          "base_uri": "https://localhost:8080/"
        },
        "id": "N3-9S8sFJmMD",
        "outputId": "eec11ee2-cc83-4974-fd90-64ab580314a1"
      },
      "execution_count": null,
      "outputs": [
        {
          "output_type": "stream",
          "name": "stdout",
          "text": [
            "[[0.33333334 0.33333334 0.33333334]\n",
            " [0.33333308 0.33333343 0.33333346]\n",
            " [0.33333334 0.33333334 0.33333334]\n",
            " [0.33333212 0.33333403 0.3333339 ]\n",
            " [0.33333266 0.33333355 0.33333376]]\n"
          ]
        }
      ]
    },
    {
      "cell_type": "code",
      "source": [
        "# Loss calculation test\n",
        "\n",
        "softmax_outputs = np.array([[0.7,0.1,0.2],\n",
        "                            [0.1,0.5,0.4],\n",
        "                            [0.02,0.9,0.08]])\n",
        "\n",
        "class_targets = np.array([[1,0,0],\n",
        "                          [0,1,0],\n",
        "                          [0,1,0]])\n",
        "\n",
        "loss_function = Loss_CategoricalCrossEntropy()\n",
        "loss = loss_function.calculate(softmax_outputs,class_targets)\n",
        "print(loss)"
      ],
      "metadata": {
        "colab": {
          "base_uri": "https://localhost:8080/"
        },
        "id": "04_r3-tNk8Ou",
        "outputId": "5d0675a1-e8b5-416e-d1d6-40ae234c20fd"
      },
      "execution_count": null,
      "outputs": [
        {
          "output_type": "stream",
          "name": "stdout",
          "text": [
            "0.38506088005216804\n"
          ]
        }
      ]
    },
    {
      "cell_type": "code",
      "source": [
        "# Calculating loss for the pratical example\n",
        "\n",
        "if __name__ == '__main__':\n",
        "\n",
        "  X, y = spiral_data(samples=100,classes = 3)\n",
        "  dense1 = Layer_Dense(2,3)\n",
        "  activation1 = Activation_ReLU()\n",
        "  dense1.forward(X)\n",
        "  activation1.forward(dense1.output)\n",
        "  \n",
        "  dense2 = Layer_Dense(3,3)\n",
        "  activation2 = Activation_SoftMax()\n",
        "\n",
        "  dense2.forward(activation1.output)\n",
        "\n",
        "  activation2.forward(dense2.output)\n",
        "  print('softmax output:',activation2.output[:5])\n",
        "\n",
        "  loss_function = Loss_CategoricalCrossEntropy()\n",
        "  loss = loss_function.calculate(activation2.output, y)\n",
        "  print('loss:', loss)"
      ],
      "metadata": {
        "colab": {
          "base_uri": "https://localhost:8080/"
        },
        "id": "_Zgv0R6al0bL",
        "outputId": "594312fc-92e6-46a6-8d32-8ce4d87b3b6a"
      },
      "execution_count": null,
      "outputs": [
        {
          "output_type": "stream",
          "name": "stdout",
          "text": [
            "softmax output: [[0.33333334 0.33333334 0.33333334]\n",
            " [0.33333334 0.33333334 0.33333334]\n",
            " [0.33333334 0.33333334 0.33333334]\n",
            " [0.3333333  0.33333334 0.33333334]\n",
            " [0.33333308 0.33333343 0.33333352]]\n",
            "loss: 1.0986102\n"
          ]
        }
      ]
    },
    {
      "cell_type": "code",
      "source": [
        "# Accuracy calculation test\n",
        "\n",
        "softmax_outputs = np.array([[0.7,0.1,0.2],\n",
        "                            [0.1,0.5,0.4],\n",
        "                            [0.02,0.9,0.08]])\n",
        "\n",
        "class_targets = np.array([[0,1,1]])\n",
        "\n",
        "predictions = np.argmax(softmax_outputs, axis=1)\n",
        "print('predictions: ',predictions)\n",
        "\n",
        "if len(class_targets.shape) == 2:\n",
        " class_targets = np.argmax(class_targets,axis=1)\n",
        "print('y: ', class_targets)\n",
        "\n",
        "accuracy = np.mean(predictions==class_targets)\n",
        "print('acc: ',accuracy)"
      ],
      "metadata": {
        "colab": {
          "base_uri": "https://localhost:8080/"
        },
        "id": "jJcWfLywl9qv",
        "outputId": "425c89bc-fe06-43c6-acc9-7429295af945"
      },
      "execution_count": null,
      "outputs": [
        {
          "output_type": "stream",
          "name": "stdout",
          "text": [
            "predictions:  [0 1 1]\n",
            "y:  [1]\n",
            "acc:  0.6666666666666666\n"
          ]
        }
      ]
    },
    {
      "cell_type": "code",
      "source": [
        "# Calculating loss for the pratical example + Accuracy\n",
        "\n",
        "if __name__ == '__main__':\n",
        "\n",
        "  X, y = spiral_data(samples=100,classes = 3)\n",
        "  dense1 = Layer_Dense(2,3)\n",
        "  activation1 = Activation_ReLU()\n",
        "  dense1.forward(X)\n",
        "  activation1.forward(dense1.output)\n",
        "  \n",
        "  dense2 = Layer_Dense(3,3)\n",
        "  activation2 = Activation_SoftMax()\n",
        "\n",
        "  dense2.forward(activation1.output)\n",
        "\n",
        "  activation2.forward(dense2.output)\n",
        "  print('softmax output:',activation2.output[:5])\n",
        "\n",
        "  loss_function = Loss_CategoricalCrossEntropy()\n",
        "  loss = loss_function.calculate(activation2.output, y)\n",
        "\n",
        "  predictions = np.argmax(activation2.output, axis=1)\n",
        "  if len(y.shape) == 2:\n",
        "    y = np.argmax(y,axis=1)\n",
        "  accuracy = np.mean(predictions==y)\n",
        "  print('acc: ', accuracy)\n",
        "  print('loss: ', loss)"
      ],
      "metadata": {
        "colab": {
          "base_uri": "https://localhost:8080/"
        },
        "id": "J0fRqcBgp3Os",
        "outputId": "a3766146-313f-4ff0-b774-8aa16b52d7cb"
      },
      "execution_count": null,
      "outputs": [
        {
          "output_type": "stream",
          "name": "stdout",
          "text": [
            "softmax output: [[0.33333334 0.33333334 0.33333334]\n",
            " [0.3333336  0.3333332  0.33333313]\n",
            " [0.33333394 0.3333331  0.33333296]\n",
            " [0.33333418 0.33333305 0.33333278]\n",
            " [0.3333345  0.3333329  0.33333257]]\n",
            "acc:  0.31333333333333335\n",
            "loss:  1.0986118\n"
          ]
        }
      ]
    },
    {
      "cell_type": "markdown",
      "source": [],
      "metadata": {
        "id": "-auPDPrsq7fx"
      }
    },
    {
      "cell_type": "markdown",
      "source": [],
      "metadata": {
        "id": "wPQy3UTRq7iM"
      }
    },
    {
      "cell_type": "markdown",
      "source": [
        "# Introducing optimization"
      ],
      "metadata": {
        "id": "qFc4GmHhq7jx"
      }
    },
    {
      "cell_type": "code",
      "source": [
        "from nnfs.datasets import vertical_data\n",
        "nnfs.init()\n",
        "\n",
        "X, y = vertical_data(samples=100,classes = 3)\n",
        "plt.scatter(X[:,0], X[:,1],c=y, s = 40, cmap = 'brg')\n",
        "plt.show()"
      ],
      "metadata": {
        "colab": {
          "base_uri": "https://localhost:8080/",
          "height": 430
        },
        "id": "37fJlekwq-Mn",
        "outputId": "f555f767-f13d-480d-e994-d183532c0857"
      },
      "execution_count": null,
      "outputs": [
        {
          "output_type": "display_data",
          "data": {
            "text/plain": [
              "<Figure size 640x480 with 1 Axes>"
            ],
            "image/png": "[encoded data removed]"
          },
          "metadata": {}
        }
      ]
    },
    {
      "cell_type": "code",
      "source": [
        "if __name__ == '__main__':\n",
        "  dense1 = Layer_Dense(2,3)\n",
        "  activation1 = Activation_ReLU()\n",
        "  dense2 = Layer_Dense(3,3)\n",
        "  activation2 = Activation_SoftMax()\n",
        "\n",
        "  loss_function = Loss_CategoricalCrossEntropy()\n",
        "\n",
        "  lowest_loss = 9999999\n",
        "  best_dense1_weights = dense1.weights.copy()\n",
        "  best_dense1_biases = dense1.biases.copy()\n",
        "\n",
        "  best_dense2_weights = dense2.weights.copy()\n",
        "  best_dense2_biases = dense2.biases.copy()\n",
        "  best_loss_list = []\n",
        "\n",
        "  for iteration in range(10000):\n",
        "    \n",
        "    #update weights with some small random values\n",
        "    dense1.weights += 0.05 * np.random.randn(2,3)\n",
        "    dense1.biases += 0.05 * np.random.randn(1,3)\n",
        "\n",
        "    dense2.weights += 0.05 * np.random.randn(3,3)\n",
        "    dense2.biases += 0.05 * np.random.randn(1,3)\n",
        "\n",
        "    # Perform a forward pass of our training data through this layer\n",
        "    dense1.forward(X)\n",
        "    activation1.forward(dense1.output)\n",
        "    dense2.forward(activation1.output)\n",
        "    activation2.forward(dense2.output)\n",
        "\n",
        "    loss = loss_function.calculate(activation2.output,y)\n",
        "\n",
        "    predictions = np.argmax(activation2.output, axis = 1)\n",
        "    accuracy = np.mean(predictions == y)\n",
        "\n",
        "    if loss < lowest_loss:\n",
        "      print('New set of weights found, iteration', iteration,\n",
        "            'loss: ', loss,\n",
        "            'acc: ', accuracy)\n",
        "      \n",
        "      best_dense1_weights = dense1.weights.copy()\n",
        "      best_dense1_biases = dense1.biases.copy()\n",
        "\n",
        "      best_dense2_weights = dense2.weights.copy()\n",
        "      best_dense2_biases = dense2.biases.copy()\n",
        "\n",
        "      lowest_loss = loss\n",
        "      best_loss_list.append(loss)\n",
        "\n",
        "    else:\n",
        "      dense1.weights = best_dense1_weights.copy()\n",
        "      dense1.biases = best_dense1_biases.copy()\n",
        "\n",
        "      dense2.weights = best_dense2_weights.copy()\n",
        "      dense2.biases = best_dense2_biases.copy()\n",
        "      best_loss_list.append(lowest_loss)\n"
      ],
      "metadata": {
        "colab": {
          "base_uri": "https://localhost:8080/"
        },
        "id": "V7786cOHr0Ni",
        "outputId": "25d509b0-e427-41d9-9c49-2d0f2d060ed7"
      },
      "execution_count": null,
      "outputs": [
        {
          "output_type": "stream",
          "name": "stdout",
          "text": [
            "New set of weights found, iteration 0 loss:  1.099118 acc:  0.3333333333333333\n",
            "New set of weights found, iteration 1 loss:  1.0989674 acc:  0.26666666666666666\n",
            "New set of weights found, iteration 4 loss:  1.0986066 acc:  0.3333333333333333\n",
            "New set of weights found, iteration 8 loss:  1.0982399 acc:  0.54\n",
            "New set of weights found, iteration 10 loss:  1.0959697 acc:  0.3333333333333333\n",
            "New set of weights found, iteration 11 loss:  1.0957791 acc:  0.3333333333333333\n",
            "New set of weights found, iteration 12 loss:  1.0937208 acc:  0.3333333333333333\n",
            "New set of weights found, iteration 13 loss:  1.0902215 acc:  0.3333333333333333\n",
            "New set of weights found, iteration 15 loss:  1.0880699 acc:  0.33666666666666667\n",
            "New set of weights found, iteration 21 loss:  1.0855219 acc:  0.3333333333333333\n",
            "New set of weights found, iteration 22 loss:  1.0832243 acc:  0.3333333333333333\n",
            "New set of weights found, iteration 23 loss:  1.0828549 acc:  0.3333333333333333\n",
            "New set of weights found, iteration 24 loss:  1.0789016 acc:  0.3333333333333333\n",
            "New set of weights found, iteration 25 loss:  1.0687817 acc:  0.3333333333333333\n",
            "New set of weights found, iteration 36 loss:  1.0671325 acc:  0.83\n",
            "New set of weights found, iteration 37 loss:  1.0634472 acc:  0.35333333333333333\n",
            "New set of weights found, iteration 38 loss:  1.0628151 acc:  0.33666666666666667\n",
            "New set of weights found, iteration 39 loss:  1.0588615 acc:  0.6233333333333333\n",
            "New set of weights found, iteration 42 loss:  1.054513 acc:  0.37333333333333335\n",
            "New set of weights found, iteration 43 loss:  1.0505725 acc:  0.44333333333333336\n",
            "New set of weights found, iteration 44 loss:  1.0477145 acc:  0.74\n",
            "New set of weights found, iteration 46 loss:  1.0475072 acc:  0.5066666666666667\n",
            "New set of weights found, iteration 47 loss:  1.0383803 acc:  0.8766666666666667\n",
            "New set of weights found, iteration 48 loss:  1.0334129 acc:  0.8033333333333333\n",
            "New set of weights found, iteration 52 loss:  1.0205468 acc:  0.5666666666666667\n",
            "New set of weights found, iteration 53 loss:  1.0166942 acc:  0.5133333333333333\n",
            "New set of weights found, iteration 57 loss:  1.0066854 acc:  0.5233333333333333\n",
            "New set of weights found, iteration 59 loss:  0.99996126 acc:  0.5433333333333333\n",
            "New set of weights found, iteration 61 loss:  0.9903992 acc:  0.59\n",
            "New set of weights found, iteration 62 loss:  0.9859196 acc:  0.5966666666666667\n",
            "New set of weights found, iteration 63 loss:  0.9858667 acc:  0.5733333333333334\n",
            "New set of weights found, iteration 69 loss:  0.9812035 acc:  0.5233333333333333\n",
            "New set of weights found, iteration 70 loss:  0.9787402 acc:  0.5433333333333333\n",
            "New set of weights found, iteration 71 loss:  0.9614815 acc:  0.65\n",
            "New set of weights found, iteration 73 loss:  0.96035767 acc:  0.6533333333333333\n",
            "New set of weights found, iteration 74 loss:  0.955246 acc:  0.6733333333333333\n",
            "New set of weights found, iteration 76 loss:  0.944104 acc:  0.9\n",
            "New set of weights found, iteration 77 loss:  0.9384617 acc:  0.8166666666666667\n",
            "New set of weights found, iteration 78 loss:  0.9310183 acc:  0.6666666666666666\n",
            "New set of weights found, iteration 79 loss:  0.9199223 acc:  0.7233333333333334\n",
            "New set of weights found, iteration 80 loss:  0.9147694 acc:  0.6666666666666666\n",
            "New set of weights found, iteration 82 loss:  0.9127993 acc:  0.6866666666666666\n",
            "New set of weights found, iteration 89 loss:  0.90366894 acc:  0.6666666666666666\n",
            "New set of weights found, iteration 92 loss:  0.90018505 acc:  0.91\n",
            "New set of weights found, iteration 95 loss:  0.8823704 acc:  0.8466666666666667\n",
            "New set of weights found, iteration 101 loss:  0.88098645 acc:  0.82\n",
            "New set of weights found, iteration 104 loss:  0.87247884 acc:  0.7433333333333333\n",
            "New set of weights found, iteration 106 loss:  0.86586607 acc:  0.6666666666666666\n",
            "New set of weights found, iteration 107 loss:  0.8655371 acc:  0.6766666666666666\n",
            "New set of weights found, iteration 110 loss:  0.8537732 acc:  0.66\n",
            "New set of weights found, iteration 114 loss:  0.8515207 acc:  0.66\n",
            "New set of weights found, iteration 116 loss:  0.8315622 acc:  0.6666666666666666\n",
            "New set of weights found, iteration 119 loss:  0.82448107 acc:  0.6666666666666666\n",
            "New set of weights found, iteration 120 loss:  0.8244423 acc:  0.6666666666666666\n",
            "New set of weights found, iteration 122 loss:  0.80448854 acc:  0.6666666666666666\n",
            "New set of weights found, iteration 124 loss:  0.80407894 acc:  0.67\n",
            "New set of weights found, iteration 128 loss:  0.79908407 acc:  0.82\n",
            "New set of weights found, iteration 130 loss:  0.7882182 acc:  0.9133333333333333\n",
            "New set of weights found, iteration 131 loss:  0.777364 acc:  0.8566666666666667\n",
            "New set of weights found, iteration 137 loss:  0.7765618 acc:  0.7666666666666667\n",
            "New set of weights found, iteration 139 loss:  0.7717672 acc:  0.8233333333333334\n",
            "New set of weights found, iteration 143 loss:  0.7706175 acc:  0.7733333333333333\n",
            "New set of weights found, iteration 144 loss:  0.7623658 acc:  0.68\n",
            "New set of weights found, iteration 147 loss:  0.75202024 acc:  0.82\n",
            "New set of weights found, iteration 149 loss:  0.73265177 acc:  0.76\n",
            "New set of weights found, iteration 150 loss:  0.72753024 acc:  0.84\n",
            "New set of weights found, iteration 151 loss:  0.72330195 acc:  0.7966666666666666\n",
            "New set of weights found, iteration 154 loss:  0.71848494 acc:  0.7833333333333333\n",
            "New set of weights found, iteration 156 loss:  0.7074316 acc:  0.9166666666666666\n",
            "New set of weights found, iteration 163 loss:  0.705335 acc:  0.9033333333333333\n",
            "New set of weights found, iteration 165 loss:  0.6972505 acc:  0.9166666666666666\n",
            "New set of weights found, iteration 166 loss:  0.69233847 acc:  0.89\n",
            "New set of weights found, iteration 171 loss:  0.68775344 acc:  0.9266666666666666\n",
            "New set of weights found, iteration 176 loss:  0.67197317 acc:  0.91\n",
            "New set of weights found, iteration 177 loss:  0.6503398 acc:  0.92\n",
            "New set of weights found, iteration 178 loss:  0.64786845 acc:  0.9266666666666666\n",
            "New set of weights found, iteration 182 loss:  0.64578915 acc:  0.8333333333333334\n",
            "New set of weights found, iteration 183 loss:  0.6439183 acc:  0.8033333333333333\n",
            "New set of weights found, iteration 185 loss:  0.6383349 acc:  0.7833333333333333\n",
            "New set of weights found, iteration 186 loss:  0.62414825 acc:  0.8133333333333334\n",
            "New set of weights found, iteration 187 loss:  0.61702055 acc:  0.8333333333333334\n",
            "New set of weights found, iteration 189 loss:  0.6075727 acc:  0.8833333333333333\n",
            "New set of weights found, iteration 191 loss:  0.6025951 acc:  0.8733333333333333\n",
            "New set of weights found, iteration 198 loss:  0.60114723 acc:  0.89\n",
            "New set of weights found, iteration 201 loss:  0.59870857 acc:  0.9\n",
            "New set of weights found, iteration 202 loss:  0.5984444 acc:  0.7966666666666666\n",
            "New set of weights found, iteration 209 loss:  0.591416 acc:  0.8266666666666667\n",
            "New set of weights found, iteration 210 loss:  0.5818924 acc:  0.83\n",
            "New set of weights found, iteration 212 loss:  0.571093 acc:  0.77\n",
            "New set of weights found, iteration 214 loss:  0.5647245 acc:  0.89\n",
            "New set of weights found, iteration 215 loss:  0.5613497 acc:  0.86\n",
            "New set of weights found, iteration 216 loss:  0.55324674 acc:  0.8333333333333334\n",
            "New set of weights found, iteration 217 loss:  0.54940736 acc:  0.88\n",
            "New set of weights found, iteration 223 loss:  0.5322059 acc:  0.8733333333333333\n",
            "New set of weights found, iteration 231 loss:  0.52160645 acc:  0.9066666666666666\n",
            "New set of weights found, iteration 232 loss:  0.52007 acc:  0.91\n",
            "New set of weights found, iteration 233 loss:  0.5169653 acc:  0.8966666666666666\n",
            "New set of weights found, iteration 234 loss:  0.5035256 acc:  0.9033333333333333\n",
            "New set of weights found, iteration 243 loss:  0.49152374 acc:  0.9166666666666666\n",
            "New set of weights found, iteration 245 loss:  0.49016622 acc:  0.9066666666666666\n",
            "New set of weights found, iteration 247 loss:  0.4884673 acc:  0.9166666666666666\n",
            "New set of weights found, iteration 248 loss:  0.48157725 acc:  0.9133333333333333\n",
            "New set of weights found, iteration 249 loss:  0.48045716 acc:  0.9166666666666666\n",
            "New set of weights found, iteration 250 loss:  0.476654 acc:  0.92\n",
            "New set of weights found, iteration 251 loss:  0.47284988 acc:  0.9166666666666666\n",
            "New set of weights found, iteration 255 loss:  0.4654718 acc:  0.9066666666666666\n",
            "New set of weights found, iteration 256 loss:  0.45469758 acc:  0.91\n",
            "New set of weights found, iteration 259 loss:  0.45158356 acc:  0.9033333333333333\n",
            "New set of weights found, iteration 262 loss:  0.44140756 acc:  0.9066666666666666\n",
            "New set of weights found, iteration 264 loss:  0.44020125 acc:  0.91\n",
            "New set of weights found, iteration 268 loss:  0.42998642 acc:  0.9133333333333333\n",
            "New set of weights found, iteration 269 loss:  0.4289172 acc:  0.9266666666666666\n",
            "New set of weights found, iteration 275 loss:  0.42616412 acc:  0.9166666666666666\n",
            "New set of weights found, iteration 282 loss:  0.40949905 acc:  0.9166666666666666\n",
            "New set of weights found, iteration 283 loss:  0.40386054 acc:  0.92\n",
            "New set of weights found, iteration 284 loss:  0.3899283 acc:  0.9133333333333333\n",
            "New set of weights found, iteration 287 loss:  0.38352406 acc:  0.92\n",
            "New set of weights found, iteration 295 loss:  0.37137273 acc:  0.9166666666666666\n",
            "New set of weights found, iteration 302 loss:  0.36485863 acc:  0.9166666666666666\n",
            "New set of weights found, iteration 305 loss:  0.36415645 acc:  0.9166666666666666\n",
            "New set of weights found, iteration 309 loss:  0.3615978 acc:  0.91\n",
            "New set of weights found, iteration 313 loss:  0.3588513 acc:  0.91\n",
            "New set of weights found, iteration 315 loss:  0.34404382 acc:  0.9166666666666666\n",
            "New set of weights found, iteration 317 loss:  0.33970305 acc:  0.9166666666666666\n",
            "New set of weights found, iteration 335 loss:  0.33769202 acc:  0.91\n",
            "New set of weights found, iteration 339 loss:  0.33273065 acc:  0.9066666666666666\n",
            "New set of weights found, iteration 340 loss:  0.32526723 acc:  0.9166666666666666\n",
            "New set of weights found, iteration 342 loss:  0.31842828 acc:  0.9166666666666666\n",
            "New set of weights found, iteration 343 loss:  0.31608474 acc:  0.9233333333333333\n",
            "New set of weights found, iteration 345 loss:  0.31455725 acc:  0.9233333333333333\n",
            "New set of weights found, iteration 347 loss:  0.31139955 acc:  0.91\n",
            "New set of weights found, iteration 350 loss:  0.30897257 acc:  0.92\n",
            "New set of weights found, iteration 355 loss:  0.30670485 acc:  0.92\n",
            "New set of weights found, iteration 356 loss:  0.30374143 acc:  0.9166666666666666\n",
            "New set of weights found, iteration 361 loss:  0.30348998 acc:  0.9166666666666666\n",
            "New set of weights found, iteration 366 loss:  0.299649 acc:  0.92\n",
            "New set of weights found, iteration 368 loss:  0.29782328 acc:  0.9233333333333333\n",
            "New set of weights found, iteration 369 loss:  0.29424667 acc:  0.9166666666666666\n",
            "New set of weights found, iteration 374 loss:  0.2897397 acc:  0.9266666666666666\n",
            "New set of weights found, iteration 375 loss:  0.28173324 acc:  0.92\n",
            "New set of weights found, iteration 384 loss:  0.2816491 acc:  0.9133333333333333\n",
            "New set of weights found, iteration 386 loss:  0.27949202 acc:  0.9166666666666666\n",
            "New set of weights found, iteration 389 loss:  0.27791128 acc:  0.92\n",
            "New set of weights found, iteration 392 loss:  0.27453202 acc:  0.91\n",
            "New set of weights found, iteration 399 loss:  0.27306908 acc:  0.91\n",
            "New set of weights found, iteration 412 loss:  0.2660284 acc:  0.92\n",
            "New set of weights found, iteration 426 loss:  0.26374343 acc:  0.9233333333333333\n",
            "New set of weights found, iteration 440 loss:  0.2621165 acc:  0.91\n",
            "New set of weights found, iteration 441 loss:  0.26137936 acc:  0.92\n",
            "New set of weights found, iteration 446 loss:  0.25741914 acc:  0.92\n",
            "New set of weights found, iteration 460 loss:  0.25582403 acc:  0.9233333333333333\n",
            "New set of weights found, iteration 467 loss:  0.2517714 acc:  0.9233333333333333\n",
            "New set of weights found, iteration 474 loss:  0.2476911 acc:  0.92\n",
            "New set of weights found, iteration 479 loss:  0.2465166 acc:  0.92\n",
            "New set of weights found, iteration 485 loss:  0.24365915 acc:  0.9233333333333333\n",
            "New set of weights found, iteration 486 loss:  0.24332666 acc:  0.9233333333333333\n",
            "New set of weights found, iteration 487 loss:  0.23537527 acc:  0.9233333333333333\n",
            "New set of weights found, iteration 490 loss:  0.23462738 acc:  0.9266666666666666\n",
            "New set of weights found, iteration 498 loss:  0.23348442 acc:  0.9166666666666666\n",
            "New set of weights found, iteration 500 loss:  0.23264326 acc:  0.92\n",
            "New set of weights found, iteration 501 loss:  0.22951993 acc:  0.9233333333333333\n",
            "New set of weights found, iteration 502 loss:  0.22788884 acc:  0.9266666666666666\n",
            "New set of weights found, iteration 503 loss:  0.22498052 acc:  0.9266666666666666\n",
            "New set of weights found, iteration 505 loss:  0.22307996 acc:  0.9233333333333333\n",
            "New set of weights found, iteration 514 loss:  0.22021286 acc:  0.92\n",
            "New set of weights found, iteration 521 loss:  0.21832883 acc:  0.9166666666666666\n",
            "New set of weights found, iteration 526 loss:  0.21759775 acc:  0.9233333333333333\n",
            "New set of weights found, iteration 573 loss:  0.21677297 acc:  0.9233333333333333\n",
            "New set of weights found, iteration 574 loss:  0.21511516 acc:  0.9266666666666666\n",
            "New set of weights found, iteration 577 loss:  0.21437685 acc:  0.92\n",
            "New set of weights found, iteration 579 loss:  0.21360224 acc:  0.91\n",
            "New set of weights found, iteration 583 loss:  0.20940183 acc:  0.91\n",
            "New set of weights found, iteration 585 loss:  0.20492946 acc:  0.9233333333333333\n",
            "New set of weights found, iteration 588 loss:  0.20433085 acc:  0.9266666666666666\n",
            "New set of weights found, iteration 591 loss:  0.20379019 acc:  0.9233333333333333\n",
            "New set of weights found, iteration 592 loss:  0.20132904 acc:  0.9233333333333333\n",
            "New set of weights found, iteration 599 loss:  0.20087005 acc:  0.9233333333333333\n",
            "New set of weights found, iteration 601 loss:  0.19991125 acc:  0.92\n",
            "New set of weights found, iteration 612 loss:  0.19801036 acc:  0.9233333333333333\n",
            "New set of weights found, iteration 615 loss:  0.19745106 acc:  0.9233333333333333\n",
            "New set of weights found, iteration 624 loss:  0.1973667 acc:  0.92\n",
            "New set of weights found, iteration 628 loss:  0.19703764 acc:  0.92\n",
            "New set of weights found, iteration 632 loss:  0.19640182 acc:  0.9133333333333333\n",
            "New set of weights found, iteration 633 loss:  0.19631451 acc:  0.93\n",
            "New set of weights found, iteration 635 loss:  0.19539665 acc:  0.92\n",
            "New set of weights found, iteration 636 loss:  0.19231245 acc:  0.9166666666666666\n",
            "New set of weights found, iteration 640 loss:  0.19227715 acc:  0.9166666666666666\n",
            "New set of weights found, iteration 642 loss:  0.19129689 acc:  0.9233333333333333\n",
            "New set of weights found, iteration 648 loss:  0.18906651 acc:  0.9233333333333333\n",
            "New set of weights found, iteration 654 loss:  0.18874831 acc:  0.9266666666666666\n",
            "New set of weights found, iteration 658 loss:  0.18757316 acc:  0.9233333333333333\n",
            "New set of weights found, iteration 667 loss:  0.18735135 acc:  0.9233333333333333\n",
            "New set of weights found, iteration 670 loss:  0.1868168 acc:  0.92\n",
            "New set of weights found, iteration 712 loss:  0.18662369 acc:  0.9233333333333333\n",
            "New set of weights found, iteration 713 loss:  0.1865193 acc:  0.9166666666666666\n",
            "New set of weights found, iteration 719 loss:  0.18531825 acc:  0.9233333333333333\n",
            "New set of weights found, iteration 732 loss:  0.18522204 acc:  0.9266666666666666\n",
            "New set of weights found, iteration 734 loss:  0.1843061 acc:  0.9233333333333333\n",
            "New set of weights found, iteration 735 loss:  0.18410967 acc:  0.92\n",
            "New set of weights found, iteration 736 loss:  0.18399127 acc:  0.92\n",
            "New set of weights found, iteration 743 loss:  0.18312834 acc:  0.9233333333333333\n",
            "New set of weights found, iteration 761 loss:  0.18268481 acc:  0.92\n",
            "New set of weights found, iteration 763 loss:  0.18240665 acc:  0.9233333333333333\n",
            "New set of weights found, iteration 768 loss:  0.1816941 acc:  0.9233333333333333\n",
            "New set of weights found, iteration 775 loss:  0.18109462 acc:  0.9266666666666666\n",
            "New set of weights found, iteration 814 loss:  0.18092743 acc:  0.9166666666666666\n",
            "New set of weights found, iteration 816 loss:  0.18090068 acc:  0.9233333333333333\n",
            "New set of weights found, iteration 827 loss:  0.18053728 acc:  0.92\n",
            "New set of weights found, iteration 863 loss:  0.17997582 acc:  0.9266666666666666\n",
            "New set of weights found, iteration 922 loss:  0.17949647 acc:  0.9266666666666666\n",
            "New set of weights found, iteration 961 loss:  0.17940141 acc:  0.93\n",
            "New set of weights found, iteration 978 loss:  0.17900449 acc:  0.93\n",
            "New set of weights found, iteration 1046 loss:  0.17894031 acc:  0.9266666666666666\n",
            "New set of weights found, iteration 1055 loss:  0.17888142 acc:  0.93\n",
            "New set of weights found, iteration 1057 loss:  0.17872716 acc:  0.93\n",
            "New set of weights found, iteration 1067 loss:  0.17834906 acc:  0.93\n",
            "New set of weights found, iteration 1134 loss:  0.17831685 acc:  0.93\n",
            "New set of weights found, iteration 1140 loss:  0.17809747 acc:  0.9233333333333333\n",
            "New set of weights found, iteration 1143 loss:  0.17779267 acc:  0.9266666666666666\n",
            "New set of weights found, iteration 1148 loss:  0.17768462 acc:  0.9233333333333333\n",
            "New set of weights found, iteration 1166 loss:  0.17748766 acc:  0.9233333333333333\n",
            "New set of weights found, iteration 1169 loss:  0.17711331 acc:  0.9266666666666666\n",
            "New set of weights found, iteration 1201 loss:  0.17709604 acc:  0.9233333333333333\n",
            "New set of weights found, iteration 1209 loss:  0.17698324 acc:  0.9233333333333333\n",
            "New set of weights found, iteration 1217 loss:  0.17685087 acc:  0.9266666666666666\n",
            "New set of weights found, iteration 1271 loss:  0.17680304 acc:  0.9266666666666666\n",
            "New set of weights found, iteration 1331 loss:  0.17662992 acc:  0.9266666666666666\n",
            "New set of weights found, iteration 1356 loss:  0.17649058 acc:  0.9233333333333333\n",
            "New set of weights found, iteration 1363 loss:  0.17646225 acc:  0.9233333333333333\n",
            "New set of weights found, iteration 1381 loss:  0.17628488 acc:  0.9266666666666666\n",
            "New set of weights found, iteration 1416 loss:  0.17614517 acc:  0.9266666666666666\n",
            "New set of weights found, iteration 1419 loss:  0.1759706 acc:  0.9266666666666666\n",
            "New set of weights found, iteration 1464 loss:  0.17592452 acc:  0.9266666666666666\n",
            "New set of weights found, iteration 1510 loss:  0.17576335 acc:  0.9266666666666666\n",
            "New set of weights found, iteration 1696 loss:  0.1757382 acc:  0.9266666666666666\n",
            "New set of weights found, iteration 1698 loss:  0.17568897 acc:  0.9266666666666666\n",
            "New set of weights found, iteration 1716 loss:  0.17546715 acc:  0.9266666666666666\n",
            "New set of weights found, iteration 1906 loss:  0.17542824 acc:  0.9266666666666666\n",
            "New set of weights found, iteration 1933 loss:  0.17541115 acc:  0.9233333333333333\n",
            "New set of weights found, iteration 1940 loss:  0.17533468 acc:  0.9266666666666666\n",
            "New set of weights found, iteration 2016 loss:  0.17516042 acc:  0.9266666666666666\n",
            "New set of weights found, iteration 2064 loss:  0.17513736 acc:  0.9266666666666666\n",
            "New set of weights found, iteration 2129 loss:  0.175056 acc:  0.9233333333333333\n",
            "New set of weights found, iteration 2387 loss:  0.1750223 acc:  0.9233333333333333\n",
            "New set of weights found, iteration 2404 loss:  0.17491838 acc:  0.9266666666666666\n",
            "New set of weights found, iteration 2418 loss:  0.17480813 acc:  0.9266666666666666\n",
            "New set of weights found, iteration 2420 loss:  0.17477499 acc:  0.9266666666666666\n",
            "New set of weights found, iteration 2459 loss:  0.17475373 acc:  0.9266666666666666\n",
            "New set of weights found, iteration 2462 loss:  0.17474057 acc:  0.9233333333333333\n",
            "New set of weights found, iteration 2463 loss:  0.17470162 acc:  0.9266666666666666\n",
            "New set of weights found, iteration 2764 loss:  0.17456207 acc:  0.9266666666666666\n",
            "New set of weights found, iteration 2984 loss:  0.1745586 acc:  0.9266666666666666\n",
            "New set of weights found, iteration 3116 loss:  0.17454033 acc:  0.9266666666666666\n",
            "New set of weights found, iteration 3119 loss:  0.17447796 acc:  0.9266666666666666\n",
            "New set of weights found, iteration 3231 loss:  0.1744525 acc:  0.9233333333333333\n",
            "New set of weights found, iteration 3256 loss:  0.1743586 acc:  0.9233333333333333\n",
            "New set of weights found, iteration 3431 loss:  0.1742558 acc:  0.9266666666666666\n",
            "New set of weights found, iteration 3442 loss:  0.17424066 acc:  0.9266666666666666\n",
            "New set of weights found, iteration 3483 loss:  0.17404602 acc:  0.9266666666666666\n",
            "New set of weights found, iteration 3585 loss:  0.17389385 acc:  0.9333333333333333\n",
            "New set of weights found, iteration 3597 loss:  0.17384166 acc:  0.93\n",
            "New set of weights found, iteration 3644 loss:  0.17376791 acc:  0.93\n",
            "New set of weights found, iteration 3695 loss:  0.17374612 acc:  0.9333333333333333\n",
            "New set of weights found, iteration 3906 loss:  0.17372485 acc:  0.9333333333333333\n",
            "New set of weights found, iteration 4168 loss:  0.17355399 acc:  0.93\n",
            "New set of weights found, iteration 4193 loss:  0.1734016 acc:  0.93\n",
            "New set of weights found, iteration 4207 loss:  0.17339249 acc:  0.93\n",
            "New set of weights found, iteration 4224 loss:  0.17333485 acc:  0.93\n",
            "New set of weights found, iteration 4241 loss:  0.17330739 acc:  0.93\n",
            "New set of weights found, iteration 4313 loss:  0.1730646 acc:  0.9333333333333333\n",
            "New set of weights found, iteration 4437 loss:  0.17301016 acc:  0.9333333333333333\n",
            "New set of weights found, iteration 4557 loss:  0.17299923 acc:  0.93\n",
            "New set of weights found, iteration 4857 loss:  0.17293616 acc:  0.9333333333333333\n",
            "New set of weights found, iteration 5234 loss:  0.17293306 acc:  0.9333333333333333\n",
            "New set of weights found, iteration 5425 loss:  0.1728974 acc:  0.9333333333333333\n",
            "New set of weights found, iteration 5706 loss:  0.17289314 acc:  0.93\n",
            "New set of weights found, iteration 5812 loss:  0.17288506 acc:  0.93\n",
            "New set of weights found, iteration 5935 loss:  0.17287363 acc:  0.93\n",
            "New set of weights found, iteration 6324 loss:  0.17285235 acc:  0.9333333333333333\n",
            "New set of weights found, iteration 6708 loss:  0.17284042 acc:  0.9333333333333333\n",
            "New set of weights found, iteration 7326 loss:  0.17282122 acc:  0.9333333333333333\n",
            "New set of weights found, iteration 9367 loss:  0.17281726 acc:  0.9333333333333333\n"
          ]
        }
      ]
    },
    {
      "cell_type": "code",
      "source": [
        "plt.plot(best_loss_list)\n",
        "plt.grid(True)\n",
        "plt.xlabel('Iterations')\n",
        "plt.ylabel('Loss')\n",
        "plt.title('Loss over iterations')"
      ],
      "metadata": {
        "colab": {
          "base_uri": "https://localhost:8080/",
          "height": 489
        },
        "id": "BxmNL9K6uDop",
        "outputId": "98462f26-b1d0-40d0-ccb8-0104745e017f"
      },
      "execution_count": null,
      "outputs": [
        {
          "output_type": "execute_result",
          "data": {
            "text/plain": [
              "Text(0.5, 1.0, 'Loss over iterations')"
            ]
          },
          "metadata": {},
          "execution_count": 121
        },
        {
          "output_type": "display_data",
          "data": {
            "text/plain": [
              "<Figure size 640x480 with 1 Axes>"
            ],
            "image/png": "[encoded data removed]"
          },
          "metadata": {}
        }
      ]
    },
    {
      "cell_type": "code",
      "source": [
        "#Trying with spiral dataset\n",
        "\n",
        "\n",
        "if __name__ == '__main__':\n",
        "  X, y = spiral_data(samples=100,classes = 3)\n",
        "  dense1 = Layer_Dense(2,3)\n",
        "  activation1 = Activation_ReLU()\n",
        "  dense2 = Layer_Dense(3,3)\n",
        "  activation2 = Activation_SoftMax()\n",
        "\n",
        "  loss_function = Loss_CategoricalCrossEntropy()\n",
        "\n",
        "  lowest_loss = 9999999\n",
        "  best_dense1_weights = dense1.weights.copy()\n",
        "  best_dense1_biases = dense1.biases.copy()\n",
        "\n",
        "  best_dense2_weights = dense2.weights.copy()\n",
        "  best_dense2_biases = dense2.biases.copy()\n",
        "  best_loss_list = []\n",
        "\n",
        "  for iteration in range(10000):\n",
        "    \n",
        "    #update weights with some small random values\n",
        "    dense1.weights += 0.05 * np.random.randn(2,3)\n",
        "    dense1.biases += 0.05 * np.random.randn(1,3)\n",
        "\n",
        "    dense2.weights += 0.05 * np.random.randn(3,3)\n",
        "    dense2.biases += 0.05 * np.random.randn(1,3)\n",
        "\n",
        "    # Perform a forward pass of our training data through this layer\n",
        "    dense1.forward(X)\n",
        "    activation1.forward(dense1.output)\n",
        "    dense2.forward(activation1.output)\n",
        "    activation2.forward(dense2.output)\n",
        "\n",
        "    loss = loss_function.calculate(activation2.output,y)\n",
        "\n",
        "    predictions = np.argmax(activation2.output, axis = 1)\n",
        "    accuracy = np.mean(predictions == y)\n",
        "\n",
        "    if loss < lowest_loss:\n",
        "      print('New set of weights found, iteration', iteration,\n",
        "            'loss: ', loss,\n",
        "            'acc: ', accuracy)\n",
        "      \n",
        "      best_dense1_weights = dense1.weights.copy()\n",
        "      best_dense1_biases = dense1.biases.copy()\n",
        "\n",
        "      best_dense2_weights = dense2.weights.copy()\n",
        "      best_dense2_biases = dense2.biases.copy()\n",
        "\n",
        "      lowest_loss = loss\n",
        "      best_loss_list.append(loss)\n",
        "\n",
        "    else:\n",
        "      dense1.weights = best_dense1_weights.copy()\n",
        "      dense1.biases = best_dense1_biases.copy()\n",
        "\n",
        "      dense2.weights = best_dense2_weights.copy()\n",
        "      dense2.biases = best_dense2_biases.copy()\n",
        "      best_loss_list.append(lowest_loss)\n"
      ],
      "metadata": {
        "colab": {
          "base_uri": "https://localhost:8080/"
        },
        "id": "U3hdOkFMvsAR",
        "outputId": "ac78f5fe-7bcf-4618-f43e-694632679fd0"
      },
      "execution_count": null,
      "outputs": [
        {
          "output_type": "stream",
          "name": "stdout",
          "text": [
            "New set of weights found, iteration 0 loss:  1.0990813 acc:  0.35\n",
            "New set of weights found, iteration 5 loss:  1.0982906 acc:  0.3333333333333333\n",
            "New set of weights found, iteration 8 loss:  1.098179 acc:  0.36\n",
            "New set of weights found, iteration 19 loss:  1.0978074 acc:  0.3333333333333333\n",
            "New set of weights found, iteration 20 loss:  1.096773 acc:  0.3933333333333333\n",
            "New set of weights found, iteration 22 loss:  1.0960612 acc:  0.35\n",
            "New set of weights found, iteration 27 loss:  1.0946094 acc:  0.36333333333333334\n",
            "New set of weights found, iteration 40 loss:  1.0937933 acc:  0.3433333333333333\n",
            "New set of weights found, iteration 42 loss:  1.0917206 acc:  0.33666666666666667\n",
            "New set of weights found, iteration 43 loss:  1.0908574 acc:  0.36666666666666664\n",
            "New set of weights found, iteration 44 loss:  1.0906197 acc:  0.38333333333333336\n",
            "New set of weights found, iteration 47 loss:  1.0881917 acc:  0.38666666666666666\n",
            "New set of weights found, iteration 49 loss:  1.0874748 acc:  0.38\n",
            "New set of weights found, iteration 51 loss:  1.086958 acc:  0.39666666666666667\n",
            "New set of weights found, iteration 52 loss:  1.0866067 acc:  0.37\n",
            "New set of weights found, iteration 69 loss:  1.0858229 acc:  0.4\n",
            "New set of weights found, iteration 70 loss:  1.083961 acc:  0.38\n",
            "New set of weights found, iteration 73 loss:  1.0831344 acc:  0.38\n",
            "New set of weights found, iteration 75 loss:  1.0818921 acc:  0.3933333333333333\n",
            "New set of weights found, iteration 76 loss:  1.0808347 acc:  0.39666666666666667\n",
            "New set of weights found, iteration 81 loss:  1.078737 acc:  0.41\n",
            "New set of weights found, iteration 101 loss:  1.0785091 acc:  0.37666666666666665\n",
            "New set of weights found, iteration 107 loss:  1.0784864 acc:  0.4033333333333333\n",
            "New set of weights found, iteration 108 loss:  1.0780165 acc:  0.39\n",
            "New set of weights found, iteration 111 loss:  1.0774665 acc:  0.42\n",
            "New set of weights found, iteration 125 loss:  1.0770447 acc:  0.41\n",
            "New set of weights found, iteration 135 loss:  1.0767862 acc:  0.4\n",
            "New set of weights found, iteration 144 loss:  1.0758417 acc:  0.41333333333333333\n",
            "New set of weights found, iteration 156 loss:  1.0754869 acc:  0.4066666666666667\n",
            "New set of weights found, iteration 163 loss:  1.0748909 acc:  0.4066666666666667\n",
            "New set of weights found, iteration 205 loss:  1.0747564 acc:  0.4166666666666667\n",
            "New set of weights found, iteration 243 loss:  1.0747427 acc:  0.41333333333333333\n",
            "New set of weights found, iteration 255 loss:  1.0745994 acc:  0.39666666666666667\n",
            "New set of weights found, iteration 256 loss:  1.0745156 acc:  0.4033333333333333\n",
            "New set of weights found, iteration 262 loss:  1.073877 acc:  0.41\n",
            "New set of weights found, iteration 291 loss:  1.0735393 acc:  0.41333333333333333\n",
            "New set of weights found, iteration 395 loss:  1.0733079 acc:  0.41\n",
            "New set of weights found, iteration 403 loss:  1.0733058 acc:  0.41333333333333333\n",
            "New set of weights found, iteration 404 loss:  1.0729551 acc:  0.41\n",
            "New set of weights found, iteration 467 loss:  1.0729499 acc:  0.4066666666666667\n",
            "New set of weights found, iteration 468 loss:  1.072773 acc:  0.4033333333333333\n",
            "New set of weights found, iteration 482 loss:  1.0725293 acc:  0.39666666666666667\n",
            "New set of weights found, iteration 507 loss:  1.0724657 acc:  0.4066666666666667\n",
            "New set of weights found, iteration 572 loss:  1.0720744 acc:  0.41333333333333333\n",
            "New set of weights found, iteration 594 loss:  1.0718231 acc:  0.39666666666666667\n",
            "New set of weights found, iteration 644 loss:  1.0716006 acc:  0.4166666666666667\n",
            "New set of weights found, iteration 652 loss:  1.0711194 acc:  0.41\n",
            "New set of weights found, iteration 653 loss:  1.0710559 acc:  0.41333333333333333\n",
            "New set of weights found, iteration 693 loss:  1.0708873 acc:  0.3933333333333333\n",
            "New set of weights found, iteration 695 loss:  1.0698786 acc:  0.4033333333333333\n",
            "New set of weights found, iteration 718 loss:  1.0698371 acc:  0.4166666666666667\n",
            "New set of weights found, iteration 735 loss:  1.0692228 acc:  0.4166666666666667\n",
            "New set of weights found, iteration 798 loss:  1.0688676 acc:  0.4066666666666667\n",
            "New set of weights found, iteration 818 loss:  1.068583 acc:  0.4\n",
            "New set of weights found, iteration 848 loss:  1.0681963 acc:  0.41333333333333333\n",
            "New set of weights found, iteration 858 loss:  1.0677986 acc:  0.4033333333333333\n",
            "New set of weights found, iteration 860 loss:  1.067578 acc:  0.4066666666666667\n",
            "New set of weights found, iteration 861 loss:  1.0673076 acc:  0.41333333333333333\n",
            "New set of weights found, iteration 862 loss:  1.0664862 acc:  0.4033333333333333\n",
            "New set of weights found, iteration 877 loss:  1.0659026 acc:  0.41\n",
            "New set of weights found, iteration 881 loss:  1.0649593 acc:  0.4066666666666667\n",
            "New set of weights found, iteration 923 loss:  1.0649445 acc:  0.4\n",
            "New set of weights found, iteration 930 loss:  1.0638019 acc:  0.4\n",
            "New set of weights found, iteration 935 loss:  1.0634409 acc:  0.4033333333333333\n",
            "New set of weights found, iteration 954 loss:  1.0631717 acc:  0.39666666666666667\n",
            "New set of weights found, iteration 992 loss:  1.0627849 acc:  0.38333333333333336\n",
            "New set of weights found, iteration 999 loss:  1.062669 acc:  0.4\n",
            "New set of weights found, iteration 1005 loss:  1.0621539 acc:  0.39666666666666667\n",
            "New set of weights found, iteration 1009 loss:  1.0611191 acc:  0.4166666666666667\n",
            "New set of weights found, iteration 1025 loss:  1.060757 acc:  0.4033333333333333\n",
            "New set of weights found, iteration 1078 loss:  1.06055 acc:  0.39\n",
            "New set of weights found, iteration 1098 loss:  1.0603929 acc:  0.41\n",
            "New set of weights found, iteration 1107 loss:  1.0598643 acc:  0.4166666666666667\n",
            "New set of weights found, iteration 1129 loss:  1.0594515 acc:  0.43\n",
            "New set of weights found, iteration 1134 loss:  1.0590023 acc:  0.41\n",
            "New set of weights found, iteration 1160 loss:  1.0588063 acc:  0.4166666666666667\n",
            "New set of weights found, iteration 1229 loss:  1.0579127 acc:  0.4033333333333333\n",
            "New set of weights found, iteration 1273 loss:  1.0577488 acc:  0.4033333333333333\n",
            "New set of weights found, iteration 1298 loss:  1.05738 acc:  0.4166666666666667\n",
            "New set of weights found, iteration 1301 loss:  1.056895 acc:  0.4066666666666667\n",
            "New set of weights found, iteration 1302 loss:  1.0561929 acc:  0.4166666666666667\n",
            "New set of weights found, iteration 1306 loss:  1.0560272 acc:  0.4166666666666667\n",
            "New set of weights found, iteration 1429 loss:  1.0552391 acc:  0.4033333333333333\n",
            "New set of weights found, iteration 1431 loss:  1.0551105 acc:  0.41\n",
            "New set of weights found, iteration 1440 loss:  1.0550505 acc:  0.43666666666666665\n",
            "New set of weights found, iteration 1449 loss:  1.0548187 acc:  0.4033333333333333\n",
            "New set of weights found, iteration 1542 loss:  1.0539781 acc:  0.38666666666666666\n",
            "New set of weights found, iteration 1578 loss:  1.0536239 acc:  0.3933333333333333\n",
            "New set of weights found, iteration 1581 loss:  1.0534799 acc:  0.42\n",
            "New set of weights found, iteration 1601 loss:  1.0532542 acc:  0.38666666666666666\n",
            "New set of weights found, iteration 1606 loss:  1.0528388 acc:  0.42333333333333334\n",
            "New set of weights found, iteration 1612 loss:  1.0520878 acc:  0.4166666666666667\n",
            "New set of weights found, iteration 1625 loss:  1.051962 acc:  0.4066666666666667\n",
            "New set of weights found, iteration 1759 loss:  1.0515711 acc:  0.4166666666666667\n",
            "New set of weights found, iteration 1764 loss:  1.0515301 acc:  0.42333333333333334\n",
            "New set of weights found, iteration 1786 loss:  1.05132 acc:  0.3933333333333333\n",
            "New set of weights found, iteration 1821 loss:  1.0512089 acc:  0.4066666666666667\n",
            "New set of weights found, iteration 1875 loss:  1.0507351 acc:  0.43\n",
            "New set of weights found, iteration 1911 loss:  1.0504307 acc:  0.41\n",
            "New set of weights found, iteration 1913 loss:  1.050223 acc:  0.39\n",
            "New set of weights found, iteration 1928 loss:  1.0501934 acc:  0.4033333333333333\n",
            "New set of weights found, iteration 1937 loss:  1.050119 acc:  0.43\n",
            "New set of weights found, iteration 1940 loss:  1.0498171 acc:  0.4166666666666667\n",
            "New set of weights found, iteration 1959 loss:  1.0486704 acc:  0.39\n",
            "New set of weights found, iteration 1984 loss:  1.0483519 acc:  0.42333333333333334\n",
            "New set of weights found, iteration 1993 loss:  1.0483025 acc:  0.42\n",
            "New set of weights found, iteration 2044 loss:  1.0479289 acc:  0.4033333333333333\n",
            "New set of weights found, iteration 2057 loss:  1.0474067 acc:  0.41333333333333333\n",
            "New set of weights found, iteration 2176 loss:  1.0470586 acc:  0.43666666666666665\n",
            "New set of weights found, iteration 2190 loss:  1.047012 acc:  0.4266666666666667\n",
            "New set of weights found, iteration 2192 loss:  1.0469148 acc:  0.42333333333333334\n",
            "New set of weights found, iteration 2195 loss:  1.046843 acc:  0.41\n",
            "New set of weights found, iteration 2273 loss:  1.046594 acc:  0.4266666666666667\n",
            "New set of weights found, iteration 2280 loss:  1.0461146 acc:  0.43\n",
            "New set of weights found, iteration 2285 loss:  1.0457846 acc:  0.44666666666666666\n",
            "New set of weights found, iteration 2343 loss:  1.0454445 acc:  0.39666666666666667\n",
            "New set of weights found, iteration 2356 loss:  1.0448611 acc:  0.42\n",
            "New set of weights found, iteration 2399 loss:  1.0447911 acc:  0.43666666666666665\n",
            "New set of weights found, iteration 2428 loss:  1.0447217 acc:  0.4066666666666667\n",
            "New set of weights found, iteration 2444 loss:  1.04426 acc:  0.41333333333333333\n",
            "New set of weights found, iteration 2475 loss:  1.0441128 acc:  0.4266666666666667\n",
            "New set of weights found, iteration 2731 loss:  1.0437487 acc:  0.42333333333333334\n",
            "New set of weights found, iteration 2754 loss:  1.043405 acc:  0.38666666666666666\n",
            "New set of weights found, iteration 2759 loss:  1.04325 acc:  0.39\n",
            "New set of weights found, iteration 2771 loss:  1.0429448 acc:  0.38666666666666666\n",
            "New set of weights found, iteration 3040 loss:  1.0427417 acc:  0.41\n",
            "New set of weights found, iteration 3058 loss:  1.0427262 acc:  0.41\n",
            "New set of weights found, iteration 3080 loss:  1.042342 acc:  0.42333333333333334\n",
            "New set of weights found, iteration 3098 loss:  1.0414486 acc:  0.3933333333333333\n",
            "New set of weights found, iteration 3106 loss:  1.0412661 acc:  0.4\n",
            "New set of weights found, iteration 3136 loss:  1.0410621 acc:  0.4066666666666667\n",
            "New set of weights found, iteration 3147 loss:  1.040466 acc:  0.4066666666666667\n",
            "New set of weights found, iteration 3150 loss:  1.0403175 acc:  0.4\n",
            "New set of weights found, iteration 3169 loss:  1.040145 acc:  0.41333333333333333\n",
            "New set of weights found, iteration 3197 loss:  1.0400896 acc:  0.4266666666666667\n",
            "New set of weights found, iteration 3202 loss:  1.0397745 acc:  0.41\n",
            "New set of weights found, iteration 3204 loss:  1.0391836 acc:  0.4033333333333333\n",
            "New set of weights found, iteration 3241 loss:  1.0388987 acc:  0.3933333333333333\n",
            "New set of weights found, iteration 3277 loss:  1.0386761 acc:  0.4166666666666667\n",
            "New set of weights found, iteration 3305 loss:  1.038332 acc:  0.4033333333333333\n",
            "New set of weights found, iteration 3316 loss:  1.0381494 acc:  0.4066666666666667\n",
            "New set of weights found, iteration 3352 loss:  1.0379057 acc:  0.4166666666666667\n",
            "New set of weights found, iteration 3355 loss:  1.0377657 acc:  0.3933333333333333\n",
            "New set of weights found, iteration 3432 loss:  1.0372243 acc:  0.38\n",
            "New set of weights found, iteration 3454 loss:  1.0370979 acc:  0.41333333333333333\n",
            "New set of weights found, iteration 3455 loss:  1.0367787 acc:  0.4033333333333333\n",
            "New set of weights found, iteration 3458 loss:  1.0366461 acc:  0.4\n",
            "New set of weights found, iteration 3462 loss:  1.0364138 acc:  0.4\n",
            "New set of weights found, iteration 3475 loss:  1.0356687 acc:  0.4033333333333333\n",
            "New set of weights found, iteration 3569 loss:  1.0355694 acc:  0.39\n",
            "New set of weights found, iteration 3603 loss:  1.0350784 acc:  0.39666666666666667\n",
            "New set of weights found, iteration 3611 loss:  1.0350555 acc:  0.41\n",
            "New set of weights found, iteration 3617 loss:  1.034513 acc:  0.41\n",
            "New set of weights found, iteration 3637 loss:  1.0342886 acc:  0.4033333333333333\n",
            "New set of weights found, iteration 3642 loss:  1.0335821 acc:  0.38333333333333336\n",
            "New set of weights found, iteration 3694 loss:  1.0326362 acc:  0.41333333333333333\n",
            "New set of weights found, iteration 3698 loss:  1.0323981 acc:  0.38666666666666666\n",
            "New set of weights found, iteration 3734 loss:  1.0323222 acc:  0.4166666666666667\n",
            "New set of weights found, iteration 3781 loss:  1.0323104 acc:  0.38\n",
            "New set of weights found, iteration 3823 loss:  1.0321262 acc:  0.39\n",
            "New set of weights found, iteration 3835 loss:  1.0318856 acc:  0.3933333333333333\n",
            "New set of weights found, iteration 3860 loss:  1.0313971 acc:  0.37666666666666665\n",
            "New set of weights found, iteration 3873 loss:  1.0312917 acc:  0.38\n",
            "New set of weights found, iteration 3930 loss:  1.0304229 acc:  0.4166666666666667\n",
            "New set of weights found, iteration 3933 loss:  1.0301905 acc:  0.38666666666666666\n",
            "New set of weights found, iteration 4079 loss:  1.030004 acc:  0.38333333333333336\n",
            "New set of weights found, iteration 4173 loss:  1.0295897 acc:  0.41333333333333333\n",
            "New set of weights found, iteration 4253 loss:  1.0294676 acc:  0.43333333333333335\n",
            "New set of weights found, iteration 4300 loss:  1.0293977 acc:  0.4033333333333333\n",
            "New set of weights found, iteration 4306 loss:  1.0286865 acc:  0.43333333333333335\n",
            "New set of weights found, iteration 4323 loss:  1.0280424 acc:  0.38666666666666666\n",
            "New set of weights found, iteration 4351 loss:  1.0278581 acc:  0.4033333333333333\n",
            "New set of weights found, iteration 4407 loss:  1.0278243 acc:  0.44\n",
            "New set of weights found, iteration 4477 loss:  1.0277548 acc:  0.4033333333333333\n",
            "New set of weights found, iteration 4499 loss:  1.0275363 acc:  0.38\n",
            "New set of weights found, iteration 4592 loss:  1.0274802 acc:  0.4533333333333333\n",
            "New set of weights found, iteration 4788 loss:  1.0274593 acc:  0.4166666666666667\n",
            "New set of weights found, iteration 4826 loss:  1.0271221 acc:  0.43\n",
            "New set of weights found, iteration 4881 loss:  1.0265756 acc:  0.4166666666666667\n",
            "New set of weights found, iteration 5041 loss:  1.026491 acc:  0.4266666666666667\n",
            "New set of weights found, iteration 5099 loss:  1.0263377 acc:  0.43333333333333335\n",
            "New set of weights found, iteration 5127 loss:  1.0260193 acc:  0.4533333333333333\n",
            "New set of weights found, iteration 5246 loss:  1.0260075 acc:  0.41\n",
            "New set of weights found, iteration 5346 loss:  1.0257359 acc:  0.41\n",
            "New set of weights found, iteration 5395 loss:  1.0254413 acc:  0.43333333333333335\n",
            "New set of weights found, iteration 5500 loss:  1.0251787 acc:  0.38333333333333336\n",
            "New set of weights found, iteration 5554 loss:  1.0246059 acc:  0.38\n",
            "New set of weights found, iteration 5576 loss:  1.0245068 acc:  0.39\n",
            "New set of weights found, iteration 5653 loss:  1.0244261 acc:  0.45666666666666667\n",
            "New set of weights found, iteration 5707 loss:  1.0243347 acc:  0.46\n",
            "New set of weights found, iteration 5726 loss:  1.0238949 acc:  0.4666666666666667\n",
            "New set of weights found, iteration 5740 loss:  1.0238423 acc:  0.44\n",
            "New set of weights found, iteration 5762 loss:  1.0236598 acc:  0.4266666666666667\n",
            "New set of weights found, iteration 5827 loss:  1.0236006 acc:  0.39\n",
            "New set of weights found, iteration 5833 loss:  1.0229107 acc:  0.4166666666666667\n",
            "New set of weights found, iteration 6050 loss:  1.0226046 acc:  0.41333333333333333\n",
            "New set of weights found, iteration 6059 loss:  1.0223631 acc:  0.4266666666666667\n",
            "New set of weights found, iteration 6060 loss:  1.0221196 acc:  0.46\n",
            "New set of weights found, iteration 6079 loss:  1.022019 acc:  0.37666666666666665\n",
            "New set of weights found, iteration 6415 loss:  1.0212966 acc:  0.4533333333333333\n",
            "New set of weights found, iteration 6612 loss:  1.0212281 acc:  0.45666666666666667\n",
            "New set of weights found, iteration 6628 loss:  1.0202053 acc:  0.48333333333333334\n",
            "New set of weights found, iteration 6642 loss:  1.0201489 acc:  0.44\n",
            "New set of weights found, iteration 6667 loss:  1.0198338 acc:  0.45666666666666667\n",
            "New set of weights found, iteration 6731 loss:  1.0192653 acc:  0.44\n",
            "New set of weights found, iteration 6916 loss:  1.0192555 acc:  0.42333333333333334\n",
            "New set of weights found, iteration 6935 loss:  1.0191648 acc:  0.4166666666666667\n",
            "New set of weights found, iteration 6963 loss:  1.0187795 acc:  0.4533333333333333\n",
            "New set of weights found, iteration 7127 loss:  1.0186324 acc:  0.4666666666666667\n",
            "New set of weights found, iteration 7202 loss:  1.018016 acc:  0.4666666666666667\n",
            "New set of weights found, iteration 7277 loss:  1.01773 acc:  0.4533333333333333\n",
            "New set of weights found, iteration 7305 loss:  1.0171878 acc:  0.4033333333333333\n",
            "New set of weights found, iteration 7332 loss:  1.0168352 acc:  0.46\n",
            "New set of weights found, iteration 7595 loss:  1.0161161 acc:  0.47\n",
            "New set of weights found, iteration 7760 loss:  1.0158885 acc:  0.44\n",
            "New set of weights found, iteration 7765 loss:  1.0156914 acc:  0.44\n",
            "New set of weights found, iteration 7880 loss:  1.0155973 acc:  0.43333333333333335\n",
            "New set of weights found, iteration 9003 loss:  1.0155628 acc:  0.43333333333333335\n",
            "New set of weights found, iteration 9233 loss:  1.015262 acc:  0.44333333333333336\n",
            "New set of weights found, iteration 9556 loss:  1.0151856 acc:  0.4266666666666667\n",
            "New set of weights found, iteration 9701 loss:  1.0144458 acc:  0.4533333333333333\n",
            "New set of weights found, iteration 9828 loss:  1.0143318 acc:  0.43333333333333335\n"
          ]
        }
      ]
    },
    {
      "cell_type": "code",
      "source": [
        "plt.plot(best_loss_list)\n",
        "plt.grid(True)\n",
        "plt.xlabel('Iterations')\n",
        "plt.ylabel('Loss')\n",
        "plt.title('Loss over iterations')"
      ],
      "metadata": {
        "colab": {
          "base_uri": "https://localhost:8080/",
          "height": 489
        },
        "id": "jy_ScG7uv6bS",
        "outputId": "d05f0df5-6653-45ba-cf14-bdb42aea4c77"
      },
      "execution_count": null,
      "outputs": [
        {
          "output_type": "execute_result",
          "data": {
            "text/plain": [
              "Text(0.5, 1.0, 'Loss over iterations')"
            ]
          },
          "metadata": {},
          "execution_count": 123
        },
        {
          "output_type": "display_data",
          "data": {
            "text/plain": [
              "<Figure size 640x480 with 1 Axes>"
            ],
            "image/png": "[encoded data removed]"
          },
          "metadata": {}
        }
      ]
    }
  ]
}