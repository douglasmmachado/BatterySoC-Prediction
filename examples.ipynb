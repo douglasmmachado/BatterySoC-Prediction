{
  "nbformat": 4,
  "nbformat_minor": 0,
  "metadata": {
    "colab": {
      "provenance": [],
      "authorship_tag": "ABX9TyOrnguJgyVzqfdNL87Tttlj",
      "include_colab_link": true
    },
    "kernelspec": {
      "name": "python3",
      "display_name": "Python 3"
    },
    "language_info": {
      "name": "python"
    }
  },
  "cells": [
    {
      "cell_type": "markdown",
      "metadata": {
        "id": "view-in-github",
        "colab_type": "text"
      },
      "source": [
        "<a href=\"https://colab.research.google.com/github/douglasmmachado/Battery_SoC/blob/main/examples.ipynb\" target=\"_parent\"><img src=\"https://colab.research.google.com/assets/colab-badge.svg\" alt=\"Open In Colab\"/></a>"
      ]
    },
    {
      "cell_type": "code",
      "source": [
        "import numpy as np\n",
        "import math as m\n",
        "import matplotlib.pyplot as plt\n",
        "import nnfs"
      ],
      "metadata": {
        "id": "gJNOy_7_uPt8"
      },
      "execution_count": 27,
      "outputs": []
    },
    {
      "cell_type": "code",
      "source": [
        "!pip install nnfs"
      ],
      "metadata": {
        "id": "pQNAWVZoHqOD",
        "colab": {
          "base_uri": "https://localhost:8080/"
        },
        "outputId": "2fcdc390-225c-444e-cbee-0d3ae4128ad8"
      },
      "execution_count": 28,
      "outputs": [
        {
          "output_type": "stream",
          "name": "stdout",
          "text": [
            "Looking in indexes: https://pypi.org/simple, https://us-python.pkg.dev/colab-wheels/public/simple/\n",
            "Requirement already satisfied: nnfs in /usr/local/lib/python3.10/dist-packages (0.5.1)\n",
            "Requirement already satisfied: numpy in /usr/local/lib/python3.10/dist-packages (from nnfs) (1.22.4)\n"
          ]
        }
      ]
    },
    {
      "cell_type": "code",
      "execution_count": 29,
      "metadata": {
        "colab": {
          "base_uri": "https://localhost:8080/"
        },
        "id": "6wCFrEZFt5cw",
        "outputId": "06e6b58a-1a8c-4629-c915-32a4119deea3"
      },
      "outputs": [
        {
          "output_type": "stream",
          "name": "stdout",
          "text": [
            "2.3\n"
          ]
        }
      ],
      "source": [
        "#Modeling 1 neuron 3 inputs 3 weights 1 output\n",
        "inputs = [1,2,3]\n",
        "weights = [0.2,0.8,-0.5]\n",
        "bias = 2\n",
        "\n",
        "output = (inputs[0]*weights[0] + inputs[1]*weights[1] + inputs[2]*weights[2] + bias)\n",
        "print(output)"
      ]
    },
    {
      "cell_type": "code",
      "source": [
        "#Modeling 1 neuron 4 inputs 4 weights 1 output\n",
        "inputs = [1,2,3,2.5]\n",
        "weights = [0.2,0.8,-0.5,1]\n",
        "bias = 2\n",
        "\n",
        "output = (inputs[0]*weights[0] + inputs[1]*weights[1] + inputs[2]*weights[2] + inputs[3]*weights[3] + bias)\n",
        "print(output)"
      ],
      "metadata": {
        "colab": {
          "base_uri": "https://localhost:8080/"
        },
        "id": "wnO3FSMmuXJu",
        "outputId": "af81765e-f9e9-4259-fe61-ff8a95b4116f"
      },
      "execution_count": 30,
      "outputs": [
        {
          "output_type": "stream",
          "name": "stdout",
          "text": [
            "4.8\n"
          ]
        }
      ]
    },
    {
      "cell_type": "code",
      "source": [
        "#Modeling 3 neurons 4 inputs 4 weights 3 output\n",
        "inputs = [1,2,3,2.5]\n",
        "\n",
        "weights1 = [0.2, 0.8, -0.5, 1]\n",
        "weights2 = [0.5, -0.91, 0.26, -0.5]\n",
        "weights3 = [-0.26, -0.27, 0.17, 0.87]\n",
        "\n",
        "bias1 = 2\n",
        "bias2 = 3\n",
        "bias3 = 0.5\n",
        "\n",
        "output = [(inputs[0]*weights1[0] + inputs[1]*weights1[1] + inputs[2]*weights1[2] + inputs[3]*weights1[3] + bias1),\n",
        "          (inputs[0]*weights2[0] + inputs[1]*weights2[1] + inputs[2]*weights2[2] + inputs[3]*weights2[3] + bias2),\n",
        "          (inputs[0]*weights3[0] + inputs[1]*weights3[1] + inputs[2]*weights3[2] + inputs[3]*weights3[3] + bias3)]\n",
        "print(output)"
      ],
      "metadata": {
        "colab": {
          "base_uri": "https://localhost:8080/"
        },
        "id": "xa3C8dwPwCfD",
        "outputId": "45da516c-e6da-4c94-e714-6705a836f67d"
      },
      "execution_count": 31,
      "outputs": [
        {
          "output_type": "stream",
          "name": "stdout",
          "text": [
            "[4.8, 1.21, 2.385]\n"
          ]
        }
      ]
    },
    {
      "cell_type": "code",
      "source": [
        "#Object-oriented NN\n",
        "\n",
        "inputs = [1,2,3,2.5]\n",
        "\n",
        "weights = [[0.2, 0.8, -0.5, 1],\n",
        "           [0.5, -0.91, 0.26, -0.5],\n",
        "           [-0.26, -0.27, 0.17, 0.87]]\n",
        "\n",
        "biases = [2,3,0.5]\n",
        "\n",
        "layer_outputs = []\n",
        "\n",
        "for neuron_weights, neuron_bias in zip(weights, biases):\n",
        "  \n",
        "  neuron_output = 0\n",
        "\n",
        "  for n_input, weight in zip(inputs, neuron_weights):\n",
        "    neuron_output += n_input*weight\n",
        "\n",
        "  neuron_output += neuron_bias\n",
        "  layer_outputs.append(neuron_output)\n",
        "\n",
        "print(layer_outputs)"
      ],
      "metadata": {
        "colab": {
          "base_uri": "https://localhost:8080/"
        },
        "id": "I_8D643sxBMm",
        "outputId": "e7b62de4-19d4-4e87-b1f6-926ad4993cf6"
      },
      "execution_count": 32,
      "outputs": [
        {
          "output_type": "stream",
          "name": "stdout",
          "text": [
            "[4.8, 1.21, 2.385]\n"
          ]
        }
      ]
    },
    {
      "cell_type": "code",
      "source": [
        "#Using numpy\n",
        "import numpy as np\n",
        "\n",
        "inputs = np.array([1,2,3,2.5])\n",
        "\n",
        "print(f'Inputs shape: {inputs.shape}')\n",
        "\n",
        "weights = np.array([[0.2, 0.8, -0.5, 1],\n",
        "           [0.5, -0.91, 0.26, -0.5],\n",
        "           [-0.26, -0.27, 0.17, 0.87]])\n",
        "\n",
        "print(f'Weights shape: {weights.shape}')\n",
        "\n",
        "biases = [2,3,0.5]\n",
        "\n",
        "\n",
        "#To use dot here, we must consider the shape of inputs and weights, so weights.*inputs works but inputs.*weights don't\n",
        "layer_outputs = np.dot(weights,inputs) + biases\n",
        "\n",
        "print(layer_outputs)"
      ],
      "metadata": {
        "colab": {
          "base_uri": "https://localhost:8080/"
        },
        "id": "cuN25VL93LeX",
        "outputId": "5e71a9ae-03bf-4258-a33e-b05a50937f4b"
      },
      "execution_count": 33,
      "outputs": [
        {
          "output_type": "stream",
          "name": "stdout",
          "text": [
            "Inputs shape: (4,)\n",
            "Weights shape: (3, 4)\n",
            "[4.8   1.21  2.385]\n"
          ]
        }
      ]
    },
    {
      "cell_type": "code",
      "source": [
        "# A Layer of Neurons & Batch of Data w/ NumPy\n",
        "\n",
        "inputs = [[1.0,2.0,3.0,2.5],\n",
        "          [2.0,5.0,-1.0,2.0],\n",
        "          [-1.5,2.7,3.3,-0.8]]\n",
        "\n",
        "weights = [[0.2,0.8,-0.5,1.0],\n",
        "           [0.5,-0.91,0.26,-0.5],\n",
        "           [-0.26,-0.27,0.17,0.87]]\n",
        "biases = [2.0,3.0,0.5]\n",
        "\n",
        "outputs = np.dot(inputs, np.array(weights).T) + biases\n",
        "print(outputs)"
      ],
      "metadata": {
        "id": "vazUY5463OB6",
        "colab": {
          "base_uri": "https://localhost:8080/"
        },
        "outputId": "7b4cf9f7-bb83-40e6-fac2-cf1a0f417a0f"
      },
      "execution_count": 34,
      "outputs": [
        {
          "output_type": "stream",
          "name": "stdout",
          "text": [
            "[[ 4.8    1.21   2.385]\n",
            " [ 8.9   -1.81   0.2  ]\n",
            " [ 1.41   1.051  0.026]]\n"
          ]
        }
      ]
    },
    {
      "cell_type": "code",
      "source": [
        "# 2 Layers of Neurons & Batch of Data w/ NumPy\n",
        "\n",
        "\n",
        "inputs = [[1.0,2.0,3.0,2.5],\n",
        "          [2.0,5.0,-1.0,2.0],\n",
        "          [-1.5,2.7,3.3,-0.8]]\n",
        "\n",
        "weights1 = [[0.2,0.8,-0.5,1.0],\n",
        "           [0.5,-0.91,0.26,-0.5],\n",
        "           [-0.26,-0.27,0.17,0.87]]\n",
        "\n",
        "weights2 = [[0.1,-0.14,0.5],\n",
        "            [-0.5,0.12,-0.33],\n",
        "            [-0.44,0.73,-0.13]]\n",
        "\n",
        "biases1 = [2.0,3.0,0.5]\n",
        "biases2 = [-1,2,-0.5]\n",
        "\n",
        "layer1_outputs = np.dot(inputs, np.array(weights1).T) + biases1\n",
        "outputs = np.dot(layer1_outputs, np.array(weights2).T) + biases2\n",
        "print(outputs)"
      ],
      "metadata": {
        "colab": {
          "base_uri": "https://localhost:8080/"
        },
        "id": "2a6o03HQ_PxY",
        "outputId": "d2f4fbe6-1d45-4909-872a-bd7c74fc035c"
      },
      "execution_count": 35,
      "outputs": [
        {
          "output_type": "stream",
          "name": "stdout",
          "text": [
            "[[ 0.5031  -1.04185 -2.03875]\n",
            " [ 0.2434  -2.7332  -5.7633 ]\n",
            " [-0.99314  1.41254 -0.35655]]\n"
          ]
        }
      ]
    },
    {
      "cell_type": "code",
      "source": [
        "#Training data\n",
        "from nnfs.datasets import spiral_data\n",
        "import nnfs\n",
        "import matplotlib.pyplot as plt\n",
        "nnfs.init()\n",
        "\n",
        "'''\n",
        "  The ​nnfs.init()​ does three things: it sets the random seed to 0 (by the default), creates a\n",
        "  float32​ dtype default, and overrides the original dot product from NumPy. All of these are meant\n",
        "  to ensure repeatable results for following along\n",
        "'''\n",
        "\n",
        "X, y = spiral_data(samples=100,classes = 3)\n",
        "plt.scatter(X[:,0],X[:,1], c=y, cmap='brg')\n",
        "plt.show()\n"
      ],
      "metadata": {
        "colab": {
          "base_uri": "https://localhost:8080/",
          "height": 430
        },
        "id": "Ao3fkpqKHXW4",
        "outputId": "e0d15825-1a3a-4d25-aaa1-704ce475341f"
      },
      "execution_count": 36,
      "outputs": [
        {
          "output_type": "display_data",
          "data": {
            "text/plain": [
              "<Figure size 640x480 with 1 Axes>"
            ],
            "image/png": "[encoded data removed]"
          },
          "metadata": {}
        }
      ]
    },
    {
      "cell_type": "code",
      "source": [
        "class Layer_Dense:\n",
        "\n",
        "  def __init__(self, n_inputs, n_neurons):\n",
        "\n",
        "    self.weights = 0.01 * np.random.randn(n_inputs,n_neurons)\n",
        "    self.biases = np.zeros((1, n_neurons))\n",
        "\n",
        "  def forward(self, inputs):\n",
        "    self.output = np.dot(inputs, self.weights) + self.biases\n",
        "\n",
        "  def backward(self, dvalues):\n",
        "    self.dweights = np.dot(self.inputs.T, dvalues)\n",
        "    self.dbiases = np.sum(dvalues, axis=0, keepdims = True)\n",
        "    self.dinputs = np.dot(dvalues, self.weights.T)"
      ],
      "metadata": {
        "id": "nMbSvxl_JS4w"
      },
      "execution_count": 37,
      "outputs": []
    },
    {
      "cell_type": "code",
      "source": [
        "class Activation_ReLU:\n",
        "\n",
        "  def forward(self, inputs):\n",
        "    self.inputs = inputs\n",
        "    self.output = np.maximum(0,inputs)\n",
        "  \n",
        "  def backward(self, dvalues):\n",
        "    self.dinputs = dvalues.copy()\n",
        "    self.dinputs[self.inputs <= 0 ] = 0"
      ],
      "metadata": {
        "id": "hKrIo06BbXkf"
      },
      "execution_count": 38,
      "outputs": []
    },
    {
      "cell_type": "code",
      "source": [
        "class Activation_SoftMax:\n",
        "  def forward(self, inputs):\n",
        "    \n",
        "    self.inputs = inputs\n",
        "\n",
        "    exp_values = np.exp(inputs - np.max(inputs,axis=1, keepdims=True))\n",
        "\n",
        "    probabilities = exp_values / np.sum(exp_values, axis=1, keepdims=True)\n",
        "\n",
        "    self.output = probabilities\n",
        "\n",
        "  def backward(self, dvalues):\n",
        "\n",
        "    self.dinputs = np.empty_like(dvalues)\n",
        "\n",
        "    for index, (single_output, single_dvalues) in enumerate(zip(self.output, dvalues)):\n",
        "      \n",
        "      single_output = single_output.reshape(-1,1)\n",
        "      \n",
        "      jacobian_matrix = np.diagflat(single_output) - np.dot(single_output, single_output.T)\n",
        "      \n",
        "      self.dinputs[index] = np.dot(jacobian_matrix, single_dvalues)\n"
      ],
      "metadata": {
        "id": "JUJkJtHje7zx"
      },
      "execution_count": 70,
      "outputs": []
    },
    {
      "cell_type": "code",
      "source": [
        "class Activation_Softmax_Loss_CategoricalCrossentropy():\n",
        "  def __init__(self):\n",
        "    self.activation = Activation_SoftMax()\n",
        "    self.loss = Loss_CategoricalCrossEntropy()\n",
        "\n",
        "  def forward(self, inputs, y_true):\n",
        "    self.activation.forward(inputs)\n",
        "    self.output = self.activation.output\n",
        "    return self.loss.calculate(self.output, y_true)\n",
        "  def backward(self, dvalues, y_true):\n",
        "    samples = len(dvalues)\n",
        "    if len(y_true.shape) == 2:\n",
        "      y_true = np.argmax(y_true,axis=1)\n",
        "    self.dinputs = dvalues.copy()\n",
        "    self.dinputs[range(samples), y_true] -= 1\n",
        "    self.dinputs = self.dinputs / samples"
      ],
      "metadata": {
        "id": "EyKZvqzG6Bmt"
      },
      "execution_count": 40,
      "outputs": []
    },
    {
      "cell_type": "code",
      "source": [
        "class Loss:\n",
        "  def calculate(self, output, y):\n",
        "    sample_losses = self.forward(output, y)\n",
        "    data_loss = np.mean(sample_losses)\n",
        "    return data_loss"
      ],
      "metadata": {
        "id": "thTrckESh2aG"
      },
      "execution_count": 41,
      "outputs": []
    },
    {
      "cell_type": "code",
      "source": [
        "class Loss_CategoricalCrossEntropy(Loss):\n",
        "\n",
        "  def forward(self, y_pred, y_true):\n",
        "    \n",
        "    samples = len(y_pred)\n",
        "\n",
        "    # Clip data to prevent division by 0\n",
        "    y_pred_clipped = np.clip(y_pred, 1e-7, 1 - 1e-7)\n",
        "\n",
        "    # Probabilities for target values\n",
        "    # Only if categorical labels\n",
        "    if len(y_true.shape) == 1:\n",
        "      correct_confidences = y_pred_clipped[range(samples),y_true]\n",
        "    elif len(y_true.shape) == 2:\n",
        "      correct_confidences = np.sum(y_pred_clipped * y_true, axis=1)\n",
        "\n",
        "    negative_log_likelihoods = -np.log(correct_confidences)\n",
        "    return negative_log_likelihoods\n",
        "\n",
        "  def backward(self, dvalues, y_true):\n",
        "\n",
        "    samples = len(dvalues)\n",
        "\n",
        "    labels = len(dvalues[0])\n",
        "\n",
        "    if len(y_true.shape) == 1:\n",
        "\n",
        "      y_true = np.eye(labels)[y_true]\n",
        "\n",
        "    self.dinputs = -y_true / dvalues\n",
        "    \n",
        "    self.dinputs = self.dinputs / samples"
      ],
      "metadata": {
        "id": "2m7cPkXBiU81"
      },
      "execution_count": 42,
      "outputs": []
    },
    {
      "cell_type": "code",
      "source": [
        "if __name__ == '__main__':\n",
        "  X, y = spiral_data(samples=100,classes = 3)\n",
        "  dense1 = Layer_Dense(2,3)\n",
        "  activation1 = Activation_ReLU()\n",
        "  dense1.forward(X)\n",
        "  activation1.forward(dense1.output)\n",
        "  \n",
        "  dense2 = Layer_Dense(3,3)\n",
        "  activation2 = Activation_SoftMax()\n",
        "\n",
        "  dense2.forward(activation1.output)\n",
        "\n",
        "  activation2.forward(dense2.output)\n",
        "\n",
        "  print(activation2.output[:5])"
      ],
      "metadata": {
        "colab": {
          "base_uri": "https://localhost:8080/"
        },
        "id": "N3-9S8sFJmMD",
        "outputId": "651be59d-8c64-4026-fb89-3ce9d0c11db3"
      },
      "execution_count": 43,
      "outputs": [
        {
          "output_type": "stream",
          "name": "stdout",
          "text": [
            "[[0.33333334 0.33333334 0.33333334]\n",
            " [0.33333334 0.33333334 0.33333334]\n",
            " [0.33333334 0.3333333  0.33333334]\n",
            " [0.3333335  0.333333   0.33333352]\n",
            " [0.33333334 0.33333334 0.33333334]]\n"
          ]
        }
      ]
    },
    {
      "cell_type": "code",
      "source": [
        "# Loss calculation test\n",
        "\n",
        "softmax_outputs = np.array([[0.7,0.1,0.2],\n",
        "                            [0.1,0.5,0.4],\n",
        "                            [0.02,0.9,0.08]])\n",
        "\n",
        "class_targets = np.array([[1,0,0],\n",
        "                          [0,1,0],\n",
        "                          [0,1,0]])\n",
        "\n",
        "loss_function = Loss_CategoricalCrossEntropy()\n",
        "loss = loss_function.calculate(softmax_outputs,class_targets)\n",
        "print(loss)"
      ],
      "metadata": {
        "colab": {
          "base_uri": "https://localhost:8080/"
        },
        "id": "04_r3-tNk8Ou",
        "outputId": "b4b1c93f-e170-4f87-ec87-d85c514e5738"
      },
      "execution_count": 44,
      "outputs": [
        {
          "output_type": "stream",
          "name": "stdout",
          "text": [
            "0.38506088005216804\n"
          ]
        }
      ]
    },
    {
      "cell_type": "code",
      "source": [
        "# Calculating loss for the pratical example\n",
        "\n",
        "if __name__ == '__main__':\n",
        "\n",
        "  X, y = spiral_data(samples=100,classes = 3)\n",
        "  dense1 = Layer_Dense(2,3)\n",
        "  activation1 = Activation_ReLU()\n",
        "  dense1.forward(X)\n",
        "  activation1.forward(dense1.output)\n",
        "  \n",
        "  dense2 = Layer_Dense(3,3)\n",
        "  activation2 = Activation_SoftMax()\n",
        "\n",
        "  dense2.forward(activation1.output)\n",
        "\n",
        "  activation2.forward(dense2.output)\n",
        "  print('softmax output:',activation2.output[:5])\n",
        "\n",
        "  loss_function = Loss_CategoricalCrossEntropy()\n",
        "  loss = loss_function.calculate(activation2.output, y)\n",
        "  print('loss:', loss)"
      ],
      "metadata": {
        "colab": {
          "base_uri": "https://localhost:8080/"
        },
        "id": "_Zgv0R6al0bL",
        "outputId": "c76bc735-c839-4848-f66e-b524da4a888c"
      },
      "execution_count": 45,
      "outputs": [
        {
          "output_type": "stream",
          "name": "stdout",
          "text": [
            "softmax output: [[0.33333334 0.33333334 0.33333334]\n",
            " [0.33333337 0.33333337 0.3333332 ]\n",
            " [0.3333335  0.33333352 0.333333  ]\n",
            " [0.3333337  0.33333373 0.3333326 ]\n",
            " [0.33333334 0.33333334 0.33333334]]\n",
            "loss: 1.0986115\n"
          ]
        }
      ]
    },
    {
      "cell_type": "code",
      "source": [
        "# Accuracy calculation test\n",
        "\n",
        "softmax_outputs = np.array([[0.7,0.1,0.2],\n",
        "                            [0.1,0.5,0.4],\n",
        "                            [0.02,0.9,0.08]])\n",
        "\n",
        "class_targets = np.array([[0,1,1]])\n",
        "\n",
        "predictions = np.argmax(softmax_outputs, axis=1)\n",
        "print('predictions: ',predictions)\n",
        "\n",
        "if len(class_targets.shape) == 2:\n",
        " class_targets = np.argmax(class_targets,axis=1)\n",
        "print('y: ', class_targets)\n",
        "\n",
        "accuracy = np.mean(predictions==class_targets)\n",
        "print('acc: ',accuracy)"
      ],
      "metadata": {
        "colab": {
          "base_uri": "https://localhost:8080/"
        },
        "id": "jJcWfLywl9qv",
        "outputId": "2ef26db7-d1cc-4cff-d108-fab365e72b2f"
      },
      "execution_count": 46,
      "outputs": [
        {
          "output_type": "stream",
          "name": "stdout",
          "text": [
            "predictions:  [0 1 1]\n",
            "y:  [1]\n",
            "acc:  0.6666666666666666\n"
          ]
        }
      ]
    },
    {
      "cell_type": "code",
      "source": [
        "# Calculating loss for the pratical example + Accuracy\n",
        "\n",
        "if __name__ == '__main__':\n",
        "\n",
        "  X, y = spiral_data(samples=100,classes = 3)\n",
        "  dense1 = Layer_Dense(2,3)\n",
        "  activation1 = Activation_ReLU()\n",
        "  dense1.forward(X)\n",
        "  activation1.forward(dense1.output)\n",
        "  \n",
        "  dense2 = Layer_Dense(3,3)\n",
        "  activation2 = Activation_SoftMax()\n",
        "\n",
        "  dense2.forward(activation1.output)\n",
        "\n",
        "  activation2.forward(dense2.output)\n",
        "  print('softmax output:',activation2.output[:5])\n",
        "\n",
        "  loss_function = Loss_CategoricalCrossEntropy()\n",
        "  loss = loss_function.calculate(activation2.output, y)\n",
        "\n",
        "  predictions = np.argmax(activation2.output, axis=1)\n",
        "  if len(y.shape) == 2:\n",
        "    y = np.argmax(y,axis=1)\n",
        "  accuracy = np.mean(predictions==y)\n",
        "  print('acc: ', accuracy)\n",
        "  print('loss: ', loss)"
      ],
      "metadata": {
        "colab": {
          "base_uri": "https://localhost:8080/"
        },
        "id": "J0fRqcBgp3Os",
        "outputId": "1c91d6b3-6c70-413b-be5d-f8b6e444c375"
      },
      "execution_count": 47,
      "outputs": [
        {
          "output_type": "stream",
          "name": "stdout",
          "text": [
            "softmax output: [[0.33333334 0.33333334 0.33333334]\n",
            " [0.33333376 0.33333334 0.3333329 ]\n",
            " [0.33333433 0.33333334 0.3333323 ]\n",
            " [0.33333424 0.33333334 0.33333236]\n",
            " [0.33333528 0.33333337 0.33333135]]\n",
            "acc:  0.26\n",
            "loss:  1.0986187\n"
          ]
        }
      ]
    },
    {
      "cell_type": "markdown",
      "source": [],
      "metadata": {
        "id": "-auPDPrsq7fx"
      }
    },
    {
      "cell_type": "markdown",
      "source": [],
      "metadata": {
        "id": "wPQy3UTRq7iM"
      }
    },
    {
      "cell_type": "markdown",
      "source": [
        "# Introducing optimization"
      ],
      "metadata": {
        "id": "qFc4GmHhq7jx"
      }
    },
    {
      "cell_type": "code",
      "source": [
        "from nnfs.datasets import vertical_data\n",
        "nnfs.init()\n",
        "\n",
        "X, y = vertical_data(samples=100,classes = 3)\n",
        "plt.scatter(X[:,0], X[:,1],c=y, s = 40, cmap = 'brg')\n",
        "plt.show()"
      ],
      "metadata": {
        "colab": {
          "base_uri": "https://localhost:8080/",
          "height": 430
        },
        "id": "37fJlekwq-Mn",
        "outputId": "49ae0b27-1b4f-4331-ba0a-98303ea35c92"
      },
      "execution_count": 48,
      "outputs": [
        {
          "output_type": "display_data",
          "data": {
            "text/plain": [
              "<Figure size 640x480 with 1 Axes>"
            ],
            "image/png": "[encoded data removed]"
          },
          "metadata": {}
        }
      ]
    },
    {
      "cell_type": "code",
      "source": [
        "if __name__ == '__main__':\n",
        "  dense1 = Layer_Dense(2,3)\n",
        "  activation1 = Activation_ReLU()\n",
        "  dense2 = Layer_Dense(3,3)\n",
        "  activation2 = Activation_SoftMax()\n",
        "\n",
        "  loss_function = Loss_CategoricalCrossEntropy()\n",
        "\n",
        "  lowest_loss = 9999999\n",
        "  best_dense1_weights = dense1.weights.copy()\n",
        "  best_dense1_biases = dense1.biases.copy()\n",
        "\n",
        "  best_dense2_weights = dense2.weights.copy()\n",
        "  best_dense2_biases = dense2.biases.copy()\n",
        "  best_loss_list = []\n",
        "\n",
        "  for iteration in range(10000):\n",
        "    \n",
        "    #update weights with some small random values\n",
        "    dense1.weights += 0.05 * np.random.randn(2,3)\n",
        "    dense1.biases += 0.05 * np.random.randn(1,3)\n",
        "\n",
        "    dense2.weights += 0.05 * np.random.randn(3,3)\n",
        "    dense2.biases += 0.05 * np.random.randn(1,3)\n",
        "\n",
        "    # Perform a forward pass of our training data through this layer\n",
        "    dense1.forward(X)\n",
        "    activation1.forward(dense1.output)\n",
        "    dense2.forward(activation1.output)\n",
        "    activation2.forward(dense2.output)\n",
        "\n",
        "    loss = loss_function.calculate(activation2.output,y)\n",
        "\n",
        "    predictions = np.argmax(activation2.output, axis = 1)\n",
        "    accuracy = np.mean(predictions == y)\n",
        "\n",
        "    if loss < lowest_loss:\n",
        "      print('New set of weights found, iteration', iteration,\n",
        "            'loss: ', loss,\n",
        "            'acc: ', accuracy)\n",
        "      \n",
        "      best_dense1_weights = dense1.weights.copy()\n",
        "      best_dense1_biases = dense1.biases.copy()\n",
        "\n",
        "      best_dense2_weights = dense2.weights.copy()\n",
        "      best_dense2_biases = dense2.biases.copy()\n",
        "\n",
        "      lowest_loss = loss\n",
        "      best_loss_list.append(loss)\n",
        "\n",
        "    else:\n",
        "      dense1.weights = best_dense1_weights.copy()\n",
        "      dense1.biases = best_dense1_biases.copy()\n",
        "\n",
        "      dense2.weights = best_dense2_weights.copy()\n",
        "      dense2.biases = best_dense2_biases.copy()\n",
        "      best_loss_list.append(lowest_loss)\n"
      ],
      "metadata": {
        "colab": {
          "base_uri": "https://localhost:8080/"
        },
        "id": "V7786cOHr0Ni",
        "outputId": "d55d030e-86d6-4297-a2e9-f9b668039080"
      },
      "execution_count": 49,
      "outputs": [
        {
          "output_type": "stream",
          "name": "stdout",
          "text": [
            "New set of weights found, iteration 0 loss:  1.0987684 acc:  0.3333333333333333\n",
            "New set of weights found, iteration 1 loss:  1.0987465 acc:  0.3333333333333333\n",
            "New set of weights found, iteration 5 loss:  1.0976487 acc:  0.3333333333333333\n",
            "New set of weights found, iteration 6 loss:  1.0972018 acc:  0.3333333333333333\n",
            "New set of weights found, iteration 10 loss:  1.0938749 acc:  0.3333333333333333\n",
            "New set of weights found, iteration 19 loss:  1.0935849 acc:  0.6666666666666666\n",
            "New set of weights found, iteration 20 loss:  1.0908297 acc:  0.3333333333333333\n",
            "New set of weights found, iteration 21 loss:  1.0905013 acc:  0.3333333333333333\n",
            "New set of weights found, iteration 22 loss:  1.0879314 acc:  0.3333333333333333\n",
            "New set of weights found, iteration 24 loss:  1.0856307 acc:  0.3333333333333333\n",
            "New set of weights found, iteration 25 loss:  1.0801181 acc:  0.35\n",
            "New set of weights found, iteration 29 loss:  1.0725244 acc:  0.5266666666666666\n",
            "New set of weights found, iteration 30 loss:  1.0724432 acc:  0.3466666666666667\n",
            "New set of weights found, iteration 31 loss:  1.0636086 acc:  0.5333333333333333\n",
            "New set of weights found, iteration 32 loss:  1.0599552 acc:  0.6366666666666667\n",
            "New set of weights found, iteration 35 loss:  1.0583049 acc:  0.4533333333333333\n",
            "New set of weights found, iteration 36 loss:  1.0570958 acc:  0.3466666666666667\n",
            "New set of weights found, iteration 39 loss:  1.0469419 acc:  0.48333333333333334\n",
            "New set of weights found, iteration 42 loss:  1.0451386 acc:  0.6333333333333333\n",
            "New set of weights found, iteration 43 loss:  1.0374923 acc:  0.6033333333333334\n",
            "New set of weights found, iteration 48 loss:  1.0303522 acc:  0.6666666666666666\n",
            "New set of weights found, iteration 49 loss:  1.0292586 acc:  0.6666666666666666\n",
            "New set of weights found, iteration 60 loss:  1.021054 acc:  0.6666666666666666\n",
            "New set of weights found, iteration 62 loss:  1.0210088 acc:  0.6666666666666666\n",
            "New set of weights found, iteration 63 loss:  1.0170832 acc:  0.6633333333333333\n",
            "New set of weights found, iteration 64 loss:  1.0135772 acc:  0.6666666666666666\n",
            "New set of weights found, iteration 65 loss:  1.0120343 acc:  0.66\n",
            "New set of weights found, iteration 68 loss:  1.0069221 acc:  0.6433333333333333\n",
            "New set of weights found, iteration 70 loss:  0.99110943 acc:  0.6666666666666666\n",
            "New set of weights found, iteration 74 loss:  0.97599334 acc:  0.6666666666666666\n",
            "New set of weights found, iteration 75 loss:  0.9725516 acc:  0.67\n",
            "New set of weights found, iteration 77 loss:  0.9714911 acc:  0.7133333333333334\n",
            "New set of weights found, iteration 87 loss:  0.95410764 acc:  0.7966666666666666\n",
            "New set of weights found, iteration 89 loss:  0.9436863 acc:  0.6666666666666666\n",
            "New set of weights found, iteration 93 loss:  0.9362148 acc:  0.65\n",
            "New set of weights found, iteration 95 loss:  0.92910564 acc:  0.6666666666666666\n",
            "New set of weights found, iteration 97 loss:  0.9277446 acc:  0.7333333333333333\n",
            "New set of weights found, iteration 102 loss:  0.91819257 acc:  0.6666666666666666\n",
            "New set of weights found, iteration 105 loss:  0.9153189 acc:  0.6466666666666666\n",
            "New set of weights found, iteration 107 loss:  0.9071464 acc:  0.6466666666666666\n",
            "New set of weights found, iteration 114 loss:  0.8988214 acc:  0.6666666666666666\n",
            "New set of weights found, iteration 116 loss:  0.89690137 acc:  0.6666666666666666\n",
            "New set of weights found, iteration 117 loss:  0.89097536 acc:  0.6666666666666666\n",
            "New set of weights found, iteration 121 loss:  0.87916565 acc:  0.6633333333333333\n",
            "New set of weights found, iteration 125 loss:  0.8771758 acc:  0.6666666666666666\n",
            "New set of weights found, iteration 130 loss:  0.86686075 acc:  0.6666666666666666\n",
            "New set of weights found, iteration 135 loss:  0.8438273 acc:  0.79\n",
            "New set of weights found, iteration 137 loss:  0.83247876 acc:  0.6733333333333333\n",
            "New set of weights found, iteration 138 loss:  0.82467103 acc:  0.6666666666666666\n",
            "New set of weights found, iteration 140 loss:  0.8202214 acc:  0.6866666666666666\n",
            "New set of weights found, iteration 141 loss:  0.806276 acc:  0.6666666666666666\n",
            "New set of weights found, iteration 142 loss:  0.7867625 acc:  0.6666666666666666\n",
            "New set of weights found, iteration 143 loss:  0.7699835 acc:  0.6666666666666666\n",
            "New set of weights found, iteration 148 loss:  0.75951034 acc:  0.6966666666666667\n",
            "New set of weights found, iteration 149 loss:  0.745888 acc:  0.6666666666666666\n",
            "New set of weights found, iteration 151 loss:  0.74426425 acc:  0.6666666666666666\n",
            "New set of weights found, iteration 152 loss:  0.73390484 acc:  0.8433333333333334\n",
            "New set of weights found, iteration 156 loss:  0.7235515 acc:  0.87\n",
            "New set of weights found, iteration 160 loss:  0.7049076 acc:  0.9066666666666666\n",
            "New set of weights found, iteration 162 loss:  0.70258695 acc:  0.8666666666666667\n",
            "New set of weights found, iteration 164 loss:  0.6955316 acc:  0.9066666666666666\n",
            "New set of weights found, iteration 172 loss:  0.68481696 acc:  0.8466666666666667\n",
            "New set of weights found, iteration 173 loss:  0.6784652 acc:  0.8366666666666667\n",
            "New set of weights found, iteration 174 loss:  0.6691458 acc:  0.8166666666666667\n",
            "New set of weights found, iteration 175 loss:  0.6636736 acc:  0.8166666666666667\n",
            "New set of weights found, iteration 176 loss:  0.6603196 acc:  0.8366666666666667\n",
            "New set of weights found, iteration 178 loss:  0.6574357 acc:  0.8533333333333334\n",
            "New set of weights found, iteration 179 loss:  0.64556926 acc:  0.79\n",
            "New set of weights found, iteration 183 loss:  0.63866717 acc:  0.7633333333333333\n",
            "New set of weights found, iteration 186 loss:  0.62016314 acc:  0.7866666666666666\n",
            "New set of weights found, iteration 190 loss:  0.60920006 acc:  0.6966666666666667\n",
            "New set of weights found, iteration 191 loss:  0.6007828 acc:  0.7466666666666667\n",
            "New set of weights found, iteration 192 loss:  0.5926363 acc:  0.8233333333333334\n",
            "New set of weights found, iteration 194 loss:  0.5758982 acc:  0.8766666666666667\n",
            "New set of weights found, iteration 195 loss:  0.5737089 acc:  0.86\n",
            "New set of weights found, iteration 197 loss:  0.5632779 acc:  0.8566666666666667\n",
            "New set of weights found, iteration 198 loss:  0.54802585 acc:  0.87\n",
            "New set of weights found, iteration 200 loss:  0.54466957 acc:  0.8933333333333333\n",
            "New set of weights found, iteration 202 loss:  0.5346576 acc:  0.8833333333333333\n",
            "New set of weights found, iteration 204 loss:  0.5341147 acc:  0.9166666666666666\n",
            "New set of weights found, iteration 206 loss:  0.53295857 acc:  0.9133333333333333\n",
            "New set of weights found, iteration 209 loss:  0.5242141 acc:  0.9166666666666666\n",
            "New set of weights found, iteration 211 loss:  0.5214254 acc:  0.9133333333333333\n",
            "New set of weights found, iteration 212 loss:  0.52116674 acc:  0.9133333333333333\n",
            "New set of weights found, iteration 213 loss:  0.5104606 acc:  0.9133333333333333\n",
            "New set of weights found, iteration 215 loss:  0.50765043 acc:  0.91\n",
            "New set of weights found, iteration 217 loss:  0.50628793 acc:  0.89\n",
            "New set of weights found, iteration 225 loss:  0.49712422 acc:  0.9066666666666666\n",
            "New set of weights found, iteration 226 loss:  0.49229544 acc:  0.8933333333333333\n",
            "New set of weights found, iteration 228 loss:  0.49038848 acc:  0.9133333333333333\n",
            "New set of weights found, iteration 229 loss:  0.48964763 acc:  0.91\n",
            "New set of weights found, iteration 231 loss:  0.47616988 acc:  0.8966666666666666\n",
            "New set of weights found, iteration 232 loss:  0.4750356 acc:  0.9066666666666666\n",
            "New set of weights found, iteration 235 loss:  0.47463572 acc:  0.9\n",
            "New set of weights found, iteration 239 loss:  0.47196954 acc:  0.9066666666666666\n",
            "New set of weights found, iteration 243 loss:  0.46522033 acc:  0.9\n",
            "New set of weights found, iteration 250 loss:  0.4561661 acc:  0.9066666666666666\n",
            "New set of weights found, iteration 256 loss:  0.45460042 acc:  0.8833333333333333\n",
            "New set of weights found, iteration 262 loss:  0.4544474 acc:  0.8866666666666667\n",
            "New set of weights found, iteration 265 loss:  0.44849455 acc:  0.9033333333333333\n",
            "New set of weights found, iteration 266 loss:  0.44609842 acc:  0.91\n",
            "New set of weights found, iteration 269 loss:  0.44239476 acc:  0.91\n",
            "New set of weights found, iteration 272 loss:  0.4422342 acc:  0.9066666666666666\n",
            "New set of weights found, iteration 273 loss:  0.43862367 acc:  0.9266666666666666\n",
            "New set of weights found, iteration 274 loss:  0.4360377 acc:  0.9266666666666666\n",
            "New set of weights found, iteration 277 loss:  0.41320065 acc:  0.9266666666666666\n",
            "New set of weights found, iteration 280 loss:  0.40165314 acc:  0.9133333333333333\n",
            "New set of weights found, iteration 286 loss:  0.40059513 acc:  0.9266666666666666\n",
            "New set of weights found, iteration 287 loss:  0.39764303 acc:  0.93\n",
            "New set of weights found, iteration 288 loss:  0.3949824 acc:  0.93\n",
            "New set of weights found, iteration 294 loss:  0.39064783 acc:  0.92\n",
            "New set of weights found, iteration 296 loss:  0.38514143 acc:  0.92\n",
            "New set of weights found, iteration 297 loss:  0.381598 acc:  0.9233333333333333\n",
            "New set of weights found, iteration 302 loss:  0.38139647 acc:  0.9266666666666666\n",
            "New set of weights found, iteration 303 loss:  0.37614173 acc:  0.92\n",
            "New set of weights found, iteration 309 loss:  0.36768183 acc:  0.91\n",
            "New set of weights found, iteration 313 loss:  0.3609076 acc:  0.9166666666666666\n",
            "New set of weights found, iteration 316 loss:  0.36045584 acc:  0.9166666666666666\n",
            "New set of weights found, iteration 321 loss:  0.35834777 acc:  0.9133333333333333\n",
            "New set of weights found, iteration 322 loss:  0.3547752 acc:  0.9233333333333333\n",
            "New set of weights found, iteration 327 loss:  0.35104883 acc:  0.9266666666666666\n",
            "New set of weights found, iteration 330 loss:  0.34650895 acc:  0.9233333333333333\n",
            "New set of weights found, iteration 332 loss:  0.3382834 acc:  0.9266666666666666\n",
            "New set of weights found, iteration 334 loss:  0.33724326 acc:  0.9266666666666666\n",
            "New set of weights found, iteration 338 loss:  0.32472056 acc:  0.93\n",
            "New set of weights found, iteration 343 loss:  0.32345867 acc:  0.9266666666666666\n",
            "New set of weights found, iteration 345 loss:  0.3217446 acc:  0.93\n",
            "New set of weights found, iteration 347 loss:  0.32061502 acc:  0.92\n",
            "New set of weights found, iteration 348 loss:  0.31615657 acc:  0.93\n",
            "New set of weights found, iteration 351 loss:  0.3084577 acc:  0.9266666666666666\n",
            "New set of weights found, iteration 354 loss:  0.30489174 acc:  0.92\n",
            "New set of weights found, iteration 355 loss:  0.29995218 acc:  0.9233333333333333\n",
            "New set of weights found, iteration 363 loss:  0.29957393 acc:  0.9266666666666666\n",
            "New set of weights found, iteration 366 loss:  0.29841217 acc:  0.9266666666666666\n",
            "New set of weights found, iteration 372 loss:  0.28985375 acc:  0.9266666666666666\n",
            "New set of weights found, iteration 378 loss:  0.28417572 acc:  0.93\n",
            "New set of weights found, iteration 382 loss:  0.28351793 acc:  0.93\n",
            "New set of weights found, iteration 389 loss:  0.27943885 acc:  0.9233333333333333\n",
            "New set of weights found, iteration 392 loss:  0.27722925 acc:  0.9266666666666666\n",
            "New set of weights found, iteration 405 loss:  0.27528533 acc:  0.9133333333333333\n",
            "New set of weights found, iteration 406 loss:  0.27460143 acc:  0.9266666666666666\n",
            "New set of weights found, iteration 408 loss:  0.2710612 acc:  0.9133333333333333\n",
            "New set of weights found, iteration 411 loss:  0.2694756 acc:  0.9233333333333333\n",
            "New set of weights found, iteration 412 loss:  0.2649215 acc:  0.9233333333333333\n",
            "New set of weights found, iteration 413 loss:  0.26160672 acc:  0.92\n",
            "New set of weights found, iteration 414 loss:  0.26027718 acc:  0.9266666666666666\n",
            "New set of weights found, iteration 418 loss:  0.25994137 acc:  0.9233333333333333\n",
            "New set of weights found, iteration 422 loss:  0.25397167 acc:  0.92\n",
            "New set of weights found, iteration 423 loss:  0.2534732 acc:  0.9133333333333333\n",
            "New set of weights found, iteration 424 loss:  0.24422452 acc:  0.9166666666666666\n",
            "New set of weights found, iteration 425 loss:  0.24326663 acc:  0.9133333333333333\n",
            "New set of weights found, iteration 439 loss:  0.24125023 acc:  0.9266666666666666\n",
            "New set of weights found, iteration 445 loss:  0.23965162 acc:  0.9266666666666666\n",
            "New set of weights found, iteration 449 loss:  0.234785 acc:  0.9266666666666666\n",
            "New set of weights found, iteration 456 loss:  0.23242655 acc:  0.9266666666666666\n",
            "New set of weights found, iteration 457 loss:  0.23226367 acc:  0.9266666666666666\n",
            "New set of weights found, iteration 474 loss:  0.23186895 acc:  0.9266666666666666\n",
            "New set of weights found, iteration 475 loss:  0.23104395 acc:  0.9266666666666666\n",
            "New set of weights found, iteration 477 loss:  0.22904079 acc:  0.9233333333333333\n",
            "New set of weights found, iteration 478 loss:  0.2289004 acc:  0.9266666666666666\n",
            "New set of weights found, iteration 489 loss:  0.22750992 acc:  0.9266666666666666\n",
            "New set of weights found, iteration 502 loss:  0.22545515 acc:  0.9266666666666666\n",
            "New set of weights found, iteration 507 loss:  0.22383133 acc:  0.9233333333333333\n",
            "New set of weights found, iteration 514 loss:  0.2208256 acc:  0.9266666666666666\n",
            "New set of weights found, iteration 520 loss:  0.22062747 acc:  0.9166666666666666\n",
            "New set of weights found, iteration 521 loss:  0.2165533 acc:  0.9266666666666666\n",
            "New set of weights found, iteration 524 loss:  0.21591477 acc:  0.9166666666666666\n",
            "New set of weights found, iteration 525 loss:  0.21488297 acc:  0.9233333333333333\n",
            "New set of weights found, iteration 538 loss:  0.21203747 acc:  0.9266666666666666\n",
            "New set of weights found, iteration 544 loss:  0.20863405 acc:  0.9133333333333333\n",
            "New set of weights found, iteration 552 loss:  0.20513496 acc:  0.91\n",
            "New set of weights found, iteration 555 loss:  0.2047587 acc:  0.9133333333333333\n",
            "New set of weights found, iteration 558 loss:  0.20348953 acc:  0.9266666666666666\n",
            "New set of weights found, iteration 563 loss:  0.20212303 acc:  0.9266666666666666\n",
            "New set of weights found, iteration 570 loss:  0.2020175 acc:  0.9266666666666666\n",
            "New set of weights found, iteration 575 loss:  0.20133626 acc:  0.9166666666666666\n",
            "New set of weights found, iteration 576 loss:  0.19818096 acc:  0.9233333333333333\n",
            "New set of weights found, iteration 577 loss:  0.1979749 acc:  0.9266666666666666\n",
            "New set of weights found, iteration 610 loss:  0.19575574 acc:  0.9233333333333333\n",
            "New set of weights found, iteration 626 loss:  0.19487213 acc:  0.9233333333333333\n",
            "New set of weights found, iteration 628 loss:  0.19254842 acc:  0.9266666666666666\n",
            "New set of weights found, iteration 631 loss:  0.19105764 acc:  0.9266666666666666\n",
            "New set of weights found, iteration 644 loss:  0.19082291 acc:  0.9266666666666666\n",
            "New set of weights found, iteration 647 loss:  0.19066371 acc:  0.9133333333333333\n",
            "New set of weights found, iteration 649 loss:  0.19047658 acc:  0.9266666666666666\n",
            "New set of weights found, iteration 653 loss:  0.18974443 acc:  0.9266666666666666\n",
            "New set of weights found, iteration 690 loss:  0.18965825 acc:  0.9266666666666666\n",
            "New set of weights found, iteration 691 loss:  0.18952243 acc:  0.93\n",
            "New set of weights found, iteration 696 loss:  0.18931495 acc:  0.9266666666666666\n",
            "New set of weights found, iteration 716 loss:  0.18833008 acc:  0.9266666666666666\n",
            "New set of weights found, iteration 719 loss:  0.18805136 acc:  0.93\n",
            "New set of weights found, iteration 722 loss:  0.18729888 acc:  0.9266666666666666\n",
            "New set of weights found, iteration 748 loss:  0.18719813 acc:  0.9233333333333333\n",
            "New set of weights found, iteration 753 loss:  0.18649133 acc:  0.9266666666666666\n",
            "New set of weights found, iteration 779 loss:  0.18517219 acc:  0.9266666666666666\n",
            "New set of weights found, iteration 812 loss:  0.1845271 acc:  0.9266666666666666\n",
            "New set of weights found, iteration 817 loss:  0.18398914 acc:  0.9233333333333333\n",
            "New set of weights found, iteration 819 loss:  0.18363124 acc:  0.9266666666666666\n",
            "New set of weights found, iteration 830 loss:  0.18298864 acc:  0.9166666666666666\n",
            "New set of weights found, iteration 841 loss:  0.18236092 acc:  0.9233333333333333\n",
            "New set of weights found, iteration 846 loss:  0.18167426 acc:  0.9266666666666666\n",
            "New set of weights found, iteration 847 loss:  0.1813782 acc:  0.9233333333333333\n",
            "New set of weights found, iteration 856 loss:  0.18133405 acc:  0.9233333333333333\n",
            "New set of weights found, iteration 864 loss:  0.18020004 acc:  0.9266666666666666\n",
            "New set of weights found, iteration 870 loss:  0.1799821 acc:  0.9233333333333333\n",
            "New set of weights found, iteration 878 loss:  0.17942198 acc:  0.9266666666666666\n",
            "New set of weights found, iteration 886 loss:  0.17817551 acc:  0.9233333333333333\n",
            "New set of weights found, iteration 907 loss:  0.17794047 acc:  0.9266666666666666\n",
            "New set of weights found, iteration 915 loss:  0.17786074 acc:  0.9266666666666666\n",
            "New set of weights found, iteration 922 loss:  0.17780478 acc:  0.9233333333333333\n",
            "New set of weights found, iteration 925 loss:  0.17758258 acc:  0.9233333333333333\n",
            "New set of weights found, iteration 969 loss:  0.17719764 acc:  0.9233333333333333\n",
            "New set of weights found, iteration 991 loss:  0.17705636 acc:  0.9266666666666666\n",
            "New set of weights found, iteration 1002 loss:  0.177028 acc:  0.9266666666666666\n",
            "New set of weights found, iteration 1005 loss:  0.17693754 acc:  0.9266666666666666\n",
            "New set of weights found, iteration 1007 loss:  0.17624566 acc:  0.9233333333333333\n",
            "New set of weights found, iteration 1013 loss:  0.17598782 acc:  0.9266666666666666\n",
            "New set of weights found, iteration 1020 loss:  0.17577194 acc:  0.9233333333333333\n",
            "New set of weights found, iteration 1081 loss:  0.17557582 acc:  0.9233333333333333\n",
            "New set of weights found, iteration 1082 loss:  0.17552829 acc:  0.9233333333333333\n",
            "New set of weights found, iteration 1088 loss:  0.17540139 acc:  0.93\n",
            "New set of weights found, iteration 1089 loss:  0.17468038 acc:  0.9233333333333333\n",
            "New set of weights found, iteration 1157 loss:  0.17457508 acc:  0.93\n",
            "New set of weights found, iteration 1162 loss:  0.17454481 acc:  0.93\n",
            "New set of weights found, iteration 1173 loss:  0.17433043 acc:  0.9266666666666666\n",
            "New set of weights found, iteration 1177 loss:  0.17432213 acc:  0.9266666666666666\n",
            "New set of weights found, iteration 1279 loss:  0.17415431 acc:  0.9266666666666666\n",
            "New set of weights found, iteration 1370 loss:  0.17404856 acc:  0.9233333333333333\n",
            "New set of weights found, iteration 1371 loss:  0.17389564 acc:  0.9233333333333333\n",
            "New set of weights found, iteration 1406 loss:  0.17383522 acc:  0.9266666666666666\n",
            "New set of weights found, iteration 1447 loss:  0.17379661 acc:  0.9266666666666666\n",
            "New set of weights found, iteration 1601 loss:  0.17365216 acc:  0.9266666666666666\n",
            "New set of weights found, iteration 1653 loss:  0.17341845 acc:  0.93\n",
            "New set of weights found, iteration 1682 loss:  0.1731208 acc:  0.9333333333333333\n",
            "New set of weights found, iteration 1819 loss:  0.17306708 acc:  0.9366666666666666\n",
            "New set of weights found, iteration 1821 loss:  0.17294748 acc:  0.9333333333333333\n",
            "New set of weights found, iteration 2221 loss:  0.17294282 acc:  0.93\n",
            "New set of weights found, iteration 2575 loss:  0.17288338 acc:  0.9333333333333333\n",
            "New set of weights found, iteration 3079 loss:  0.17281877 acc:  0.9333333333333333\n",
            "New set of weights found, iteration 5383 loss:  0.17281146 acc:  0.9333333333333333\n",
            "New set of weights found, iteration 5973 loss:  0.17280106 acc:  0.9333333333333333\n",
            "New set of weights found, iteration 7446 loss:  0.17280102 acc:  0.9333333333333333\n",
            "New set of weights found, iteration 9397 loss:  0.17279711 acc:  0.93\n"
          ]
        }
      ]
    },
    {
      "cell_type": "code",
      "source": [
        "plt.plot(best_loss_list)\n",
        "plt.grid(True)\n",
        "plt.xlabel('Iterations')\n",
        "plt.ylabel('Loss')\n",
        "plt.title('Loss over iterations')"
      ],
      "metadata": {
        "colab": {
          "base_uri": "https://localhost:8080/",
          "height": 489
        },
        "id": "BxmNL9K6uDop",
        "outputId": "f7063817-f231-488e-836c-f8b3782e63dc"
      },
      "execution_count": 50,
      "outputs": [
        {
          "output_type": "execute_result",
          "data": {
            "text/plain": [
              "Text(0.5, 1.0, 'Loss over iterations')"
            ]
          },
          "metadata": {},
          "execution_count": 50
        },
        {
          "output_type": "display_data",
          "data": {
            "text/plain": [
              "<Figure size 640x480 with 1 Axes>"
            ],
            "image/png": "[encoded data removed]"
          },
          "metadata": {}
        }
      ]
    },
    {
      "cell_type": "code",
      "source": [
        "#Trying with spiral dataset\n",
        "\n",
        "\n",
        "if __name__ == '__main__':\n",
        "  X, y = spiral_data(samples=100,classes = 3)\n",
        "  dense1 = Layer_Dense(2,3)\n",
        "  activation1 = Activation_ReLU()\n",
        "  dense2 = Layer_Dense(3,3)\n",
        "  activation2 = Activation_SoftMax()\n",
        "\n",
        "  loss_function = Loss_CategoricalCrossEntropy()\n",
        "\n",
        "  lowest_loss = 9999999\n",
        "  best_dense1_weights = dense1.weights.copy()\n",
        "  best_dense1_biases = dense1.biases.copy()\n",
        "\n",
        "  best_dense2_weights = dense2.weights.copy()\n",
        "  best_dense2_biases = dense2.biases.copy()\n",
        "  best_loss_list = []\n",
        "\n",
        "  for iteration in range(10000):\n",
        "    \n",
        "    #update weights with some small random values\n",
        "    dense1.weights += 0.05 * np.random.randn(2,3)\n",
        "    dense1.biases += 0.05 * np.random.randn(1,3)\n",
        "\n",
        "    dense2.weights += 0.05 * np.random.randn(3,3)\n",
        "    dense2.biases += 0.05 * np.random.randn(1,3)\n",
        "\n",
        "    # Perform a forward pass of our training data through this layer\n",
        "    dense1.forward(X)\n",
        "    activation1.forward(dense1.output)\n",
        "    dense2.forward(activation1.output)\n",
        "    activation2.forward(dense2.output)\n",
        "\n",
        "    loss = loss_function.calculate(activation2.output,y)\n",
        "\n",
        "    predictions = np.argmax(activation2.output, axis = 1)\n",
        "    accuracy = np.mean(predictions == y)\n",
        "\n",
        "    if loss < lowest_loss:\n",
        "      print('New set of weights found, iteration', iteration,\n",
        "            'loss: ', loss,\n",
        "            'acc: ', accuracy)\n",
        "      \n",
        "      best_dense1_weights = dense1.weights.copy()\n",
        "      best_dense1_biases = dense1.biases.copy()\n",
        "\n",
        "      best_dense2_weights = dense2.weights.copy()\n",
        "      best_dense2_biases = dense2.biases.copy()\n",
        "\n",
        "      lowest_loss = loss\n",
        "      best_loss_list.append(loss)\n",
        "\n",
        "    else:\n",
        "      dense1.weights = best_dense1_weights.copy()\n",
        "      dense1.biases = best_dense1_biases.copy()\n",
        "\n",
        "      dense2.weights = best_dense2_weights.copy()\n",
        "      dense2.biases = best_dense2_biases.copy()\n",
        "      best_loss_list.append(lowest_loss)\n"
      ],
      "metadata": {
        "colab": {
          "base_uri": "https://localhost:8080/"
        },
        "id": "U3hdOkFMvsAR",
        "outputId": "a2680c6d-3676-4f35-ba93-16fc3d0f1002"
      },
      "execution_count": 51,
      "outputs": [
        {
          "output_type": "stream",
          "name": "stdout",
          "text": [
            "New set of weights found, iteration 0 loss:  1.0999306 acc:  0.3333333333333333\n",
            "New set of weights found, iteration 2 loss:  1.0999146 acc:  0.3333333333333333\n",
            "New set of weights found, iteration 4 loss:  1.0990082 acc:  0.35\n",
            "New set of weights found, iteration 6 loss:  1.0979306 acc:  0.36666666666666664\n",
            "New set of weights found, iteration 11 loss:  1.0977046 acc:  0.34\n",
            "New set of weights found, iteration 13 loss:  1.0971706 acc:  0.4066666666666667\n",
            "New set of weights found, iteration 14 loss:  1.0967075 acc:  0.3333333333333333\n",
            "New set of weights found, iteration 17 loss:  1.0966543 acc:  0.3433333333333333\n",
            "New set of weights found, iteration 20 loss:  1.0956889 acc:  0.3433333333333333\n",
            "New set of weights found, iteration 21 loss:  1.0954334 acc:  0.33666666666666667\n",
            "New set of weights found, iteration 26 loss:  1.0953525 acc:  0.35333333333333333\n",
            "New set of weights found, iteration 37 loss:  1.0946891 acc:  0.36666666666666664\n",
            "New set of weights found, iteration 40 loss:  1.0944422 acc:  0.41\n",
            "New set of weights found, iteration 44 loss:  1.094288 acc:  0.3433333333333333\n",
            "New set of weights found, iteration 46 loss:  1.0925826 acc:  0.41333333333333333\n",
            "New set of weights found, iteration 50 loss:  1.0920107 acc:  0.38333333333333336\n",
            "New set of weights found, iteration 56 loss:  1.0905578 acc:  0.37333333333333335\n",
            "New set of weights found, iteration 60 loss:  1.0884258 acc:  0.3566666666666667\n",
            "New set of weights found, iteration 64 loss:  1.0878363 acc:  0.39666666666666667\n",
            "New set of weights found, iteration 66 loss:  1.0872027 acc:  0.4033333333333333\n",
            "New set of weights found, iteration 83 loss:  1.0865781 acc:  0.4033333333333333\n",
            "New set of weights found, iteration 99 loss:  1.0861712 acc:  0.3566666666666667\n",
            "New set of weights found, iteration 101 loss:  1.0860814 acc:  0.42333333333333334\n",
            "New set of weights found, iteration 107 loss:  1.0860054 acc:  0.41333333333333333\n",
            "New set of weights found, iteration 109 loss:  1.0855178 acc:  0.41333333333333333\n",
            "New set of weights found, iteration 118 loss:  1.0851074 acc:  0.41333333333333333\n",
            "New set of weights found, iteration 125 loss:  1.084995 acc:  0.37333333333333335\n",
            "New set of weights found, iteration 132 loss:  1.0844084 acc:  0.4033333333333333\n",
            "New set of weights found, iteration 136 loss:  1.0838114 acc:  0.38\n",
            "New set of weights found, iteration 156 loss:  1.0837214 acc:  0.41\n",
            "New set of weights found, iteration 172 loss:  1.0835732 acc:  0.38666666666666666\n",
            "New set of weights found, iteration 178 loss:  1.0833362 acc:  0.4166666666666667\n",
            "New set of weights found, iteration 179 loss:  1.0831696 acc:  0.41\n",
            "New set of weights found, iteration 180 loss:  1.0826844 acc:  0.44\n",
            "New set of weights found, iteration 189 loss:  1.0824242 acc:  0.42333333333333334\n",
            "New set of weights found, iteration 192 loss:  1.0822772 acc:  0.41333333333333333\n",
            "New set of weights found, iteration 194 loss:  1.0812584 acc:  0.4266666666666667\n",
            "New set of weights found, iteration 198 loss:  1.0804493 acc:  0.44666666666666666\n",
            "New set of weights found, iteration 202 loss:  1.0797077 acc:  0.43\n",
            "New set of weights found, iteration 210 loss:  1.0795382 acc:  0.43666666666666665\n",
            "New set of weights found, iteration 215 loss:  1.0789545 acc:  0.4633333333333333\n",
            "New set of weights found, iteration 216 loss:  1.0789266 acc:  0.3933333333333333\n",
            "New set of weights found, iteration 217 loss:  1.0771216 acc:  0.4166666666666667\n",
            "New set of weights found, iteration 223 loss:  1.0770037 acc:  0.41333333333333333\n",
            "New set of weights found, iteration 231 loss:  1.0764405 acc:  0.43666666666666665\n",
            "New set of weights found, iteration 234 loss:  1.0764384 acc:  0.45666666666666667\n",
            "New set of weights found, iteration 235 loss:  1.0757941 acc:  0.4666666666666667\n",
            "New set of weights found, iteration 236 loss:  1.0756738 acc:  0.44666666666666666\n",
            "New set of weights found, iteration 238 loss:  1.0748285 acc:  0.45\n",
            "New set of weights found, iteration 245 loss:  1.0735905 acc:  0.43\n",
            "New set of weights found, iteration 264 loss:  1.0729747 acc:  0.44333333333333336\n",
            "New set of weights found, iteration 313 loss:  1.0728166 acc:  0.43333333333333335\n",
            "New set of weights found, iteration 316 loss:  1.0717474 acc:  0.43666666666666665\n",
            "New set of weights found, iteration 323 loss:  1.0716529 acc:  0.43666666666666665\n",
            "New set of weights found, iteration 341 loss:  1.0711863 acc:  0.44666666666666666\n",
            "New set of weights found, iteration 352 loss:  1.0709231 acc:  0.45666666666666667\n",
            "New set of weights found, iteration 368 loss:  1.0707316 acc:  0.45\n",
            "New set of weights found, iteration 380 loss:  1.0706811 acc:  0.42333333333333334\n",
            "New set of weights found, iteration 390 loss:  1.0706065 acc:  0.44333333333333336\n",
            "New set of weights found, iteration 402 loss:  1.070179 acc:  0.4533333333333333\n",
            "New set of weights found, iteration 421 loss:  1.0695335 acc:  0.44333333333333336\n",
            "New set of weights found, iteration 429 loss:  1.0688164 acc:  0.44666666666666666\n",
            "New set of weights found, iteration 454 loss:  1.0681686 acc:  0.42333333333333334\n",
            "New set of weights found, iteration 457 loss:  1.0681281 acc:  0.44666666666666666\n",
            "New set of weights found, iteration 458 loss:  1.0679 acc:  0.44\n",
            "New set of weights found, iteration 463 loss:  1.0673704 acc:  0.44666666666666666\n",
            "New set of weights found, iteration 467 loss:  1.0662452 acc:  0.43666666666666665\n",
            "New set of weights found, iteration 482 loss:  1.0658842 acc:  0.44\n",
            "New set of weights found, iteration 487 loss:  1.0647507 acc:  0.44333333333333336\n",
            "New set of weights found, iteration 496 loss:  1.0647063 acc:  0.44\n",
            "New set of weights found, iteration 503 loss:  1.0638764 acc:  0.44\n",
            "New set of weights found, iteration 546 loss:  1.0632424 acc:  0.44666666666666666\n",
            "New set of weights found, iteration 552 loss:  1.0626863 acc:  0.44666666666666666\n",
            "New set of weights found, iteration 559 loss:  1.0622951 acc:  0.44333333333333336\n",
            "New set of weights found, iteration 707 loss:  1.062099 acc:  0.44\n",
            "New set of weights found, iteration 712 loss:  1.0619642 acc:  0.4533333333333333\n",
            "New set of weights found, iteration 750 loss:  1.0605235 acc:  0.44333333333333336\n",
            "New set of weights found, iteration 753 loss:  1.0604248 acc:  0.45666666666666667\n",
            "New set of weights found, iteration 771 loss:  1.0598097 acc:  0.45666666666666667\n",
            "New set of weights found, iteration 777 loss:  1.0594102 acc:  0.4533333333333333\n",
            "New set of weights found, iteration 812 loss:  1.0588306 acc:  0.45\n",
            "New set of weights found, iteration 815 loss:  1.05726 acc:  0.45\n",
            "New set of weights found, iteration 824 loss:  1.0567074 acc:  0.45666666666666667\n",
            "New set of weights found, iteration 828 loss:  1.0565299 acc:  0.4533333333333333\n",
            "New set of weights found, iteration 867 loss:  1.0564061 acc:  0.46\n",
            "New set of weights found, iteration 944 loss:  1.056109 acc:  0.4533333333333333\n",
            "New set of weights found, iteration 963 loss:  1.0559349 acc:  0.44666666666666666\n",
            "New set of weights found, iteration 978 loss:  1.0557985 acc:  0.44666666666666666\n",
            "New set of weights found, iteration 991 loss:  1.0550098 acc:  0.43666666666666665\n",
            "New set of weights found, iteration 993 loss:  1.0544487 acc:  0.44666666666666666\n",
            "New set of weights found, iteration 1000 loss:  1.0543674 acc:  0.45\n",
            "New set of weights found, iteration 1012 loss:  1.0541539 acc:  0.44333333333333336\n",
            "New set of weights found, iteration 1015 loss:  1.0539992 acc:  0.46\n",
            "New set of weights found, iteration 1016 loss:  1.0537168 acc:  0.45666666666666667\n",
            "New set of weights found, iteration 1020 loss:  1.0535574 acc:  0.44333333333333336\n",
            "New set of weights found, iteration 1030 loss:  1.0533313 acc:  0.45\n",
            "New set of weights found, iteration 1138 loss:  1.053288 acc:  0.44333333333333336\n",
            "New set of weights found, iteration 1140 loss:  1.0532235 acc:  0.4266666666666667\n",
            "New set of weights found, iteration 1150 loss:  1.0524724 acc:  0.44333333333333336\n",
            "New set of weights found, iteration 1152 loss:  1.0524026 acc:  0.43666666666666665\n",
            "New set of weights found, iteration 1154 loss:  1.0520166 acc:  0.44333333333333336\n",
            "New set of weights found, iteration 1155 loss:  1.0512851 acc:  0.43666666666666665\n",
            "New set of weights found, iteration 1164 loss:  1.0508451 acc:  0.43\n",
            "New set of weights found, iteration 1236 loss:  1.0508337 acc:  0.45666666666666667\n",
            "New set of weights found, iteration 1288 loss:  1.0507901 acc:  0.46\n",
            "New set of weights found, iteration 1351 loss:  1.0506499 acc:  0.44333333333333336\n",
            "New set of weights found, iteration 1383 loss:  1.0506169 acc:  0.42333333333333334\n",
            "New set of weights found, iteration 1390 loss:  1.050401 acc:  0.44333333333333336\n",
            "New set of weights found, iteration 1391 loss:  1.0503037 acc:  0.44333333333333336\n",
            "New set of weights found, iteration 1399 loss:  1.050124 acc:  0.45\n",
            "New set of weights found, iteration 1419 loss:  1.0496737 acc:  0.43\n",
            "New set of weights found, iteration 1458 loss:  1.0495664 acc:  0.4533333333333333\n",
            "New set of weights found, iteration 1464 loss:  1.0494304 acc:  0.45\n",
            "New set of weights found, iteration 1553 loss:  1.0492717 acc:  0.44666666666666666\n",
            "New set of weights found, iteration 1671 loss:  1.0490513 acc:  0.42\n",
            "New set of weights found, iteration 1686 loss:  1.0489773 acc:  0.44333333333333336\n",
            "New set of weights found, iteration 1910 loss:  1.0488846 acc:  0.4533333333333333\n",
            "New set of weights found, iteration 1976 loss:  1.0487794 acc:  0.45666666666666667\n",
            "New set of weights found, iteration 2131 loss:  1.0487187 acc:  0.43666666666666665\n",
            "New set of weights found, iteration 2219 loss:  1.0483892 acc:  0.4266666666666667\n",
            "New set of weights found, iteration 2610 loss:  1.0481321 acc:  0.44333333333333336\n",
            "New set of weights found, iteration 2611 loss:  1.047798 acc:  0.43666666666666665\n",
            "New set of weights found, iteration 2673 loss:  1.0470927 acc:  0.45\n",
            "New set of weights found, iteration 2698 loss:  1.0468822 acc:  0.4266666666666667\n",
            "New set of weights found, iteration 2708 loss:  1.0466651 acc:  0.41\n",
            "New set of weights found, iteration 2739 loss:  1.0464449 acc:  0.4266666666666667\n",
            "New set of weights found, iteration 2771 loss:  1.0463363 acc:  0.38666666666666666\n",
            "New set of weights found, iteration 2796 loss:  1.0459633 acc:  0.4066666666666667\n",
            "New set of weights found, iteration 2803 loss:  1.0456102 acc:  0.43333333333333335\n",
            "New set of weights found, iteration 2826 loss:  1.0452869 acc:  0.44\n",
            "New set of weights found, iteration 2838 loss:  1.0451204 acc:  0.43666666666666665\n",
            "New set of weights found, iteration 2980 loss:  1.0449101 acc:  0.44666666666666666\n",
            "New set of weights found, iteration 2988 loss:  1.0447322 acc:  0.45\n",
            "New set of weights found, iteration 2997 loss:  1.0446373 acc:  0.44\n",
            "New set of weights found, iteration 3019 loss:  1.0444779 acc:  0.45666666666666667\n",
            "New set of weights found, iteration 3033 loss:  1.0443755 acc:  0.45\n",
            "New set of weights found, iteration 3069 loss:  1.044297 acc:  0.43333333333333335\n",
            "New set of weights found, iteration 3102 loss:  1.0439073 acc:  0.43333333333333335\n",
            "New set of weights found, iteration 3119 loss:  1.0438724 acc:  0.43\n",
            "New set of weights found, iteration 3171 loss:  1.0438477 acc:  0.42\n",
            "New set of weights found, iteration 3178 loss:  1.0438021 acc:  0.41333333333333333\n",
            "New set of weights found, iteration 3279 loss:  1.0437945 acc:  0.42333333333333334\n",
            "New set of weights found, iteration 3322 loss:  1.043703 acc:  0.42\n",
            "New set of weights found, iteration 3328 loss:  1.0436513 acc:  0.41\n",
            "New set of weights found, iteration 3334 loss:  1.0436265 acc:  0.4166666666666667\n",
            "New set of weights found, iteration 3383 loss:  1.043525 acc:  0.43\n",
            "New set of weights found, iteration 3387 loss:  1.0432746 acc:  0.46\n",
            "New set of weights found, iteration 3414 loss:  1.04302 acc:  0.42333333333333334\n",
            "New set of weights found, iteration 3480 loss:  1.0426898 acc:  0.44\n",
            "New set of weights found, iteration 3619 loss:  1.0426247 acc:  0.42\n",
            "New set of weights found, iteration 3624 loss:  1.0422782 acc:  0.42333333333333334\n",
            "New set of weights found, iteration 4135 loss:  1.0419028 acc:  0.43\n",
            "New set of weights found, iteration 4171 loss:  1.0416949 acc:  0.43\n",
            "New set of weights found, iteration 4904 loss:  1.041332 acc:  0.43\n",
            "New set of weights found, iteration 4968 loss:  1.0413158 acc:  0.43333333333333335\n",
            "New set of weights found, iteration 5207 loss:  1.0410358 acc:  0.42333333333333334\n",
            "New set of weights found, iteration 5718 loss:  1.0410156 acc:  0.43\n",
            "New set of weights found, iteration 6044 loss:  1.040955 acc:  0.43666666666666665\n",
            "New set of weights found, iteration 6086 loss:  1.0407733 acc:  0.43333333333333335\n",
            "New set of weights found, iteration 6517 loss:  1.0405902 acc:  0.43\n",
            "New set of weights found, iteration 6692 loss:  1.0404191 acc:  0.45\n",
            "New set of weights found, iteration 6818 loss:  1.0403206 acc:  0.43\n",
            "New set of weights found, iteration 7080 loss:  1.0402877 acc:  0.45\n",
            "New set of weights found, iteration 7375 loss:  1.040147 acc:  0.45\n",
            "New set of weights found, iteration 7414 loss:  1.0398666 acc:  0.44\n",
            "New set of weights found, iteration 7453 loss:  1.0397941 acc:  0.43\n",
            "New set of weights found, iteration 7620 loss:  1.0395234 acc:  0.43666666666666665\n",
            "New set of weights found, iteration 7636 loss:  1.0394403 acc:  0.45666666666666667\n",
            "New set of weights found, iteration 7748 loss:  1.0394212 acc:  0.43333333333333335\n",
            "New set of weights found, iteration 7809 loss:  1.0393648 acc:  0.44333333333333336\n",
            "New set of weights found, iteration 8169 loss:  1.0391185 acc:  0.44666666666666666\n",
            "New set of weights found, iteration 9375 loss:  1.039089 acc:  0.43\n",
            "New set of weights found, iteration 9463 loss:  1.0390884 acc:  0.43333333333333335\n",
            "New set of weights found, iteration 9560 loss:  1.0390747 acc:  0.44\n",
            "New set of weights found, iteration 9566 loss:  1.0390706 acc:  0.43\n",
            "New set of weights found, iteration 9577 loss:  1.0390205 acc:  0.4633333333333333\n",
            "New set of weights found, iteration 9606 loss:  1.0389625 acc:  0.4266666666666667\n",
            "New set of weights found, iteration 9895 loss:  1.0389309 acc:  0.4633333333333333\n"
          ]
        }
      ]
    },
    {
      "cell_type": "code",
      "source": [
        "plt.plot(best_loss_list)\n",
        "plt.grid(True)\n",
        "plt.xlabel('Iterations')\n",
        "plt.ylabel('Loss')\n",
        "plt.title('Loss over iterations')"
      ],
      "metadata": {
        "colab": {
          "base_uri": "https://localhost:8080/",
          "height": 489
        },
        "id": "jy_ScG7uv6bS",
        "outputId": "c843a621-7ac7-4e99-d390-9261393963d8"
      },
      "execution_count": 52,
      "outputs": [
        {
          "output_type": "execute_result",
          "data": {
            "text/plain": [
              "Text(0.5, 1.0, 'Loss over iterations')"
            ]
          },
          "metadata": {},
          "execution_count": 52
        },
        {
          "output_type": "display_data",
          "data": {
            "text/plain": [
              "<Figure size 640x480 with 1 Axes>"
            ],
            "image/png": "[encoded data removed]"
          },
          "metadata": {}
        }
      ]
    },
    {
      "cell_type": "markdown",
      "source": [
        "# Backpropagation"
      ],
      "metadata": {
        "id": "h09Hkh2j7kDP"
      }
    },
    {
      "cell_type": "code",
      "source": [
        "import numpy as np\n",
        "import nnfs\n",
        "\n",
        "nnfs.init()\n",
        "\n",
        "softmax_outputs = np.array([[0.7,0.1,0.2],\n",
        "                            [0.1,0.5,0.4],\n",
        "                            [0.02,0.9,0.08]])\n",
        "\n",
        "class_targets = np.array([0,1,1])\n",
        "\n",
        "\n",
        "softmax_loss = Activation_Softmax_Loss_CategoricalCrossentropy()\n",
        "softmax_loss.backward(softmax_outputs, class_targets)\n",
        "dvalues1 = softmax_loss.dinputs\n",
        "\n",
        "activation = Activation_SoftMax()\n",
        "\n",
        "activation.output = softmax_outputs\n",
        "\n",
        "loss = Loss_CategoricalCrossEntropy()\n",
        "\n",
        "loss.backward(softmax_outputs, class_targets)\n",
        "\n",
        "activation.backward(loss.dinputs)\n",
        "\n",
        "dvalues2 = activation.dinputs\n",
        "\n",
        "print('Gradients: combined loss and activation:')\n",
        "print(dvalues1)\n",
        "\n",
        "print('Gradients: separed loss and activation:')\n",
        "print(dvalues2)"
      ],
      "metadata": {
        "colab": {
          "base_uri": "https://localhost:8080/"
        },
        "id": "gRbxffOK7f0D",
        "outputId": "1512a0c5-9b82-42ce-c534-90daff7197bb"
      },
      "execution_count": 71,
      "outputs": [
        {
          "output_type": "stream",
          "name": "stdout",
          "text": [
            "Gradients: combined loss and activation:\n",
            "[[-0.1         0.03333333  0.06666667]\n",
            " [ 0.03333333 -0.16666667  0.13333333]\n",
            " [ 0.00666667 -0.03333333  0.02666667]]\n",
            "Gradients: separed loss and activation:\n",
            "[[-0.09999999  0.03333334  0.06666667]\n",
            " [ 0.03333334 -0.16666667  0.13333334]\n",
            " [ 0.00666667 -0.03333333  0.02666667]]\n"
          ]
        }
      ]
    }
  ]
}