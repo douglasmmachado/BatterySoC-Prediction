{
  "nbformat": 4,
  "nbformat_minor": 0,
  "metadata": {
    "colab": {
      "provenance": [],
      "authorship_tag": "ABX9TyOSl+NEsb+qEyugoQbkbvcE",
      "include_colab_link": true
    },
    "kernelspec": {
      "name": "python3",
      "display_name": "Python 3"
    },
    "language_info": {
      "name": "python"
    }
  },
  "cells": [
    {
      "cell_type": "markdown",
      "metadata": {
        "id": "view-in-github",
        "colab_type": "text"
      },
      "source": [
        "<a href=\"https://colab.research.google.com/github/douglasmmachado/Battery_SoC/blob/main/examples.ipynb\" target=\"_parent\"><img src=\"https://colab.research.google.com/assets/colab-badge.svg\" alt=\"Open In Colab\"/></a>"
      ]
    },
    {
      "cell_type": "code",
      "source": [
        "!pip install nnfs"
      ],
      "metadata": {
        "id": "pQNAWVZoHqOD",
        "colab": {
          "base_uri": "https://localhost:8080/"
        },
        "outputId": "b7a267b7-ce64-4fcb-d880-87ddd17a39aa"
      },
      "execution_count": 3,
      "outputs": [
        {
          "output_type": "stream",
          "name": "stdout",
          "text": [
            "Looking in indexes: https://pypi.org/simple, https://us-python.pkg.dev/colab-wheels/public/simple/\n",
            "Requirement already satisfied: nnfs in /usr/local/lib/python3.10/dist-packages (0.5.1)\n",
            "Requirement already satisfied: numpy in /usr/local/lib/python3.10/dist-packages (from nnfs) (1.22.4)\n"
          ]
        }
      ]
    },
    {
      "cell_type": "code",
      "source": [
        "import numpy as np\n",
        "import math as m\n",
        "import matplotlib.pyplot as plt\n",
        "import nnfs"
      ],
      "metadata": {
        "id": "gJNOy_7_uPt8"
      },
      "execution_count": 4,
      "outputs": []
    },
    {
      "cell_type": "code",
      "execution_count": 5,
      "metadata": {
        "colab": {
          "base_uri": "https://localhost:8080/"
        },
        "id": "6wCFrEZFt5cw",
        "outputId": "35fc5cb1-f8c5-4de1-8e76-14b59a5b4145"
      },
      "outputs": [
        {
          "output_type": "stream",
          "name": "stdout",
          "text": [
            "2.3\n"
          ]
        }
      ],
      "source": [
        "#Modeling 1 neuron 3 inputs 3 weights 1 output\n",
        "inputs = [1,2,3]\n",
        "weights = [0.2,0.8,-0.5]\n",
        "bias = 2\n",
        "\n",
        "output = (inputs[0]*weights[0] + inputs[1]*weights[1] + inputs[2]*weights[2] + bias)\n",
        "print(output)"
      ]
    },
    {
      "cell_type": "code",
      "source": [
        "#Modeling 1 neuron 4 inputs 4 weights 1 output\n",
        "inputs = [1,2,3,2.5]\n",
        "weights = [0.2,0.8,-0.5,1]\n",
        "bias = 2\n",
        "\n",
        "output = (inputs[0]*weights[0] + inputs[1]*weights[1] + inputs[2]*weights[2] + inputs[3]*weights[3] + bias)\n",
        "print(output)"
      ],
      "metadata": {
        "colab": {
          "base_uri": "https://localhost:8080/"
        },
        "id": "wnO3FSMmuXJu",
        "outputId": "37509497-9e15-4958-cf86-1c3009540aa4"
      },
      "execution_count": 6,
      "outputs": [
        {
          "output_type": "stream",
          "name": "stdout",
          "text": [
            "4.8\n"
          ]
        }
      ]
    },
    {
      "cell_type": "code",
      "source": [
        "#Modeling 3 neurons 4 inputs 4 weights 3 output\n",
        "inputs = [1,2,3,2.5]\n",
        "\n",
        "weights1 = [0.2, 0.8, -0.5, 1]\n",
        "weights2 = [0.5, -0.91, 0.26, -0.5]\n",
        "weights3 = [-0.26, -0.27, 0.17, 0.87]\n",
        "\n",
        "bias1 = 2\n",
        "bias2 = 3\n",
        "bias3 = 0.5\n",
        "\n",
        "output = [(inputs[0]*weights1[0] + inputs[1]*weights1[1] + inputs[2]*weights1[2] + inputs[3]*weights1[3] + bias1),\n",
        "          (inputs[0]*weights2[0] + inputs[1]*weights2[1] + inputs[2]*weights2[2] + inputs[3]*weights2[3] + bias2),\n",
        "          (inputs[0]*weights3[0] + inputs[1]*weights3[1] + inputs[2]*weights3[2] + inputs[3]*weights3[3] + bias3)]\n",
        "print(output)"
      ],
      "metadata": {
        "colab": {
          "base_uri": "https://localhost:8080/"
        },
        "id": "xa3C8dwPwCfD",
        "outputId": "72c87265-6bd6-4a64-e802-40e3ab185c50"
      },
      "execution_count": 7,
      "outputs": [
        {
          "output_type": "stream",
          "name": "stdout",
          "text": [
            "[4.8, 1.21, 2.385]\n"
          ]
        }
      ]
    },
    {
      "cell_type": "code",
      "source": [
        "#Object-oriented NN\n",
        "\n",
        "inputs = [1,2,3,2.5]\n",
        "\n",
        "weights = [[0.2, 0.8, -0.5, 1],\n",
        "           [0.5, -0.91, 0.26, -0.5],\n",
        "           [-0.26, -0.27, 0.17, 0.87]]\n",
        "\n",
        "biases = [2,3,0.5]\n",
        "\n",
        "layer_outputs = []\n",
        "\n",
        "for neuron_weights, neuron_bias in zip(weights, biases):\n",
        "  \n",
        "  neuron_output = 0\n",
        "\n",
        "  for n_input, weight in zip(inputs, neuron_weights):\n",
        "    neuron_output += n_input*weight\n",
        "\n",
        "  neuron_output += neuron_bias\n",
        "  layer_outputs.append(neuron_output)\n",
        "\n",
        "print(layer_outputs)"
      ],
      "metadata": {
        "colab": {
          "base_uri": "https://localhost:8080/"
        },
        "id": "I_8D643sxBMm",
        "outputId": "b73e763f-75c7-4e1d-fdb6-8ebe1ad6dddc"
      },
      "execution_count": 8,
      "outputs": [
        {
          "output_type": "stream",
          "name": "stdout",
          "text": [
            "[4.8, 1.21, 2.385]\n"
          ]
        }
      ]
    },
    {
      "cell_type": "code",
      "source": [
        "#Using numpy\n",
        "import numpy as np\n",
        "\n",
        "inputs = np.array([1,2,3,2.5])\n",
        "\n",
        "print(f'Inputs shape: {inputs.shape}')\n",
        "\n",
        "weights = np.array([[0.2, 0.8, -0.5, 1],\n",
        "           [0.5, -0.91, 0.26, -0.5],\n",
        "           [-0.26, -0.27, 0.17, 0.87]])\n",
        "\n",
        "print(f'Weights shape: {weights.shape}')\n",
        "\n",
        "biases = [2,3,0.5]\n",
        "\n",
        "\n",
        "#To use dot here, we must consider the shape of inputs and weights, so weights.*inputs works but inputs.*weights don't\n",
        "layer_outputs = np.dot(weights,inputs) + biases\n",
        "\n",
        "print(layer_outputs)"
      ],
      "metadata": {
        "colab": {
          "base_uri": "https://localhost:8080/"
        },
        "id": "cuN25VL93LeX",
        "outputId": "7a69fc50-99ad-436b-dd61-fa051b9f5ff9"
      },
      "execution_count": 9,
      "outputs": [
        {
          "output_type": "stream",
          "name": "stdout",
          "text": [
            "Inputs shape: (4,)\n",
            "Weights shape: (3, 4)\n",
            "[4.8   1.21  2.385]\n"
          ]
        }
      ]
    },
    {
      "cell_type": "code",
      "source": [
        "# A Layer of Neurons & Batch of Data w/ NumPy\n",
        "\n",
        "inputs = [[1.0,2.0,3.0,2.5],\n",
        "          [2.0,5.0,-1.0,2.0],\n",
        "          [-1.5,2.7,3.3,-0.8]]\n",
        "\n",
        "weights = [[0.2,0.8,-0.5,1.0],\n",
        "           [0.5,-0.91,0.26,-0.5],\n",
        "           [-0.26,-0.27,0.17,0.87]]\n",
        "biases = [2.0,3.0,0.5]\n",
        "\n",
        "outputs = np.dot(inputs, np.array(weights).T) + biases\n",
        "print(outputs)"
      ],
      "metadata": {
        "id": "vazUY5463OB6",
        "colab": {
          "base_uri": "https://localhost:8080/"
        },
        "outputId": "5907a4cb-33db-4c5d-ea0e-9182a5ff0726"
      },
      "execution_count": 10,
      "outputs": [
        {
          "output_type": "stream",
          "name": "stdout",
          "text": [
            "[[ 4.8    1.21   2.385]\n",
            " [ 8.9   -1.81   0.2  ]\n",
            " [ 1.41   1.051  0.026]]\n"
          ]
        }
      ]
    },
    {
      "cell_type": "code",
      "source": [
        "# 2 Layers of Neurons & Batch of Data w/ NumPy\n",
        "\n",
        "\n",
        "inputs = [[1.0,2.0,3.0,2.5],\n",
        "          [2.0,5.0,-1.0,2.0],\n",
        "          [-1.5,2.7,3.3,-0.8]]\n",
        "\n",
        "weights1 = [[0.2,0.8,-0.5,1.0],\n",
        "           [0.5,-0.91,0.26,-0.5],\n",
        "           [-0.26,-0.27,0.17,0.87]]\n",
        "\n",
        "weights2 = [[0.1,-0.14,0.5],\n",
        "            [-0.5,0.12,-0.33],\n",
        "            [-0.44,0.73,-0.13]]\n",
        "\n",
        "biases1 = [2.0,3.0,0.5]\n",
        "biases2 = [-1,2,-0.5]\n",
        "\n",
        "layer1_outputs = np.dot(inputs, np.array(weights1).T) + biases1\n",
        "outputs = np.dot(layer1_outputs, np.array(weights2).T) + biases2\n",
        "print(outputs)"
      ],
      "metadata": {
        "colab": {
          "base_uri": "https://localhost:8080/"
        },
        "id": "2a6o03HQ_PxY",
        "outputId": "00f6cf24-5bb4-465d-868e-36079748d2e2"
      },
      "execution_count": 11,
      "outputs": [
        {
          "output_type": "stream",
          "name": "stdout",
          "text": [
            "[[ 0.5031  -1.04185 -2.03875]\n",
            " [ 0.2434  -2.7332  -5.7633 ]\n",
            " [-0.99314  1.41254 -0.35655]]\n"
          ]
        }
      ]
    },
    {
      "cell_type": "code",
      "source": [
        "#Training data\n",
        "from nnfs.datasets import spiral_data\n",
        "import nnfs\n",
        "import matplotlib.pyplot as plt\n",
        "nnfs.init()\n",
        "\n",
        "'''\n",
        "  The ​nnfs.init()​ does three things: it sets the random seed to 0 (by the default), creates a\n",
        "  float32​ dtype default, and overrides the original dot product from NumPy. All of these are meant\n",
        "  to ensure repeatable results for following along\n",
        "'''\n",
        "\n",
        "X, y = spiral_data(samples=100,classes = 3)\n",
        "plt.scatter(X[:,0],X[:,1], c=y, cmap='brg')\n",
        "plt.show()\n"
      ],
      "metadata": {
        "colab": {
          "base_uri": "https://localhost:8080/",
          "height": 430
        },
        "id": "Ao3fkpqKHXW4",
        "outputId": "3b1e1e4b-0ea9-4072-9119-65958115a18c"
      },
      "execution_count": 12,
      "outputs": [
        {
          "output_type": "display_data",
          "data": {
            "text/plain": [
              "<Figure size 640x480 with 1 Axes>"
            ],
            "image/png": "[encoded data removed]"
          },
          "metadata": {}
        }
      ]
    },
    {
      "cell_type": "code",
      "source": [
        "class Layer_Dense:\n",
        "\n",
        "  def __init__(self, n_inputs, n_neurons):\n",
        "\n",
        "    self.weights = 0.01 * np.random.randn(n_inputs,n_neurons)\n",
        "    self.biases = np.zeros((1, n_neurons))\n",
        "\n",
        "  def forward(self, inputs):\n",
        "    self.inputs = inputs\n",
        "    self.output = np.dot(inputs, self.weights) + self.biases\n",
        "\n",
        "  def backward(self, dvalues):\n",
        "    self.dweights = np.dot(self.inputs.T, dvalues)\n",
        "    self.dbiases = np.sum(dvalues, axis=0, keepdims = True)\n",
        "    self.dinputs = np.dot(dvalues, self.weights.T)"
      ],
      "metadata": {
        "id": "nMbSvxl_JS4w"
      },
      "execution_count": 13,
      "outputs": []
    },
    {
      "cell_type": "code",
      "source": [
        "class Activation_ReLU:\n",
        "\n",
        "  def forward(self, inputs):\n",
        "    self.inputs = inputs\n",
        "    self.output = np.maximum(0,inputs)\n",
        "  \n",
        "  def backward(self, dvalues):\n",
        "    self.dinputs = dvalues.copy()\n",
        "    self.dinputs[self.inputs <= 0 ] = 0"
      ],
      "metadata": {
        "id": "hKrIo06BbXkf"
      },
      "execution_count": 14,
      "outputs": []
    },
    {
      "cell_type": "code",
      "source": [
        "class Activation_SoftMax:\n",
        "  def forward(self, inputs):\n",
        "    \n",
        "    self.inputs = inputs\n",
        "\n",
        "    exp_values = np.exp(inputs - np.max(inputs,axis=1, keepdims=True))\n",
        "\n",
        "    probabilities = exp_values / np.sum(exp_values, axis=1, keepdims=True)\n",
        "\n",
        "    self.output = probabilities\n",
        "\n",
        "  def backward(self, dvalues):\n",
        "\n",
        "    self.dinputs = np.empty_like(dvalues)\n",
        "\n",
        "    for index, (single_output, single_dvalues) in enumerate(zip(self.output, dvalues)):\n",
        "      \n",
        "      single_output = single_output.reshape(-1,1)\n",
        "      \n",
        "      jacobian_matrix = np.diagflat(single_output) - np.dot(single_output, single_output.T)\n",
        "      \n",
        "      self.dinputs[index] = np.dot(jacobian_matrix, single_dvalues)\n"
      ],
      "metadata": {
        "id": "JUJkJtHje7zx"
      },
      "execution_count": 15,
      "outputs": []
    },
    {
      "cell_type": "code",
      "source": [
        "class Activation_Softmax_Loss_CategoricalCrossentropy():\n",
        "  def __init__(self):\n",
        "    self.activation = Activation_SoftMax()\n",
        "    self.loss = Loss_CategoricalCrossEntropy()\n",
        "\n",
        "  def forward(self, inputs, y_true):\n",
        "    self.activation.forward(inputs)\n",
        "    self.output = self.activation.output\n",
        "    return self.loss.calculate(self.output, y_true)\n",
        "  def backward(self, dvalues, y_true):\n",
        "    samples = len(dvalues)\n",
        "    if len(y_true.shape) == 2:\n",
        "      y_true = np.argmax(y_true,axis=1)\n",
        "    self.dinputs = dvalues.copy()\n",
        "    self.dinputs[range(samples), y_true] -= 1\n",
        "    self.dinputs = self.dinputs / samples"
      ],
      "metadata": {
        "id": "EyKZvqzG6Bmt"
      },
      "execution_count": 16,
      "outputs": []
    },
    {
      "cell_type": "code",
      "source": [
        "class Loss:\n",
        "  def calculate(self, output, y):\n",
        "    sample_losses = self.forward(output, y)\n",
        "    data_loss = np.mean(sample_losses)\n",
        "    return data_loss"
      ],
      "metadata": {
        "id": "thTrckESh2aG"
      },
      "execution_count": 17,
      "outputs": []
    },
    {
      "cell_type": "code",
      "source": [
        "class Loss_CategoricalCrossEntropy(Loss):\n",
        "\n",
        "  def forward(self, y_pred, y_true):\n",
        "    \n",
        "    samples = len(y_pred)\n",
        "\n",
        "    # Clip data to prevent division by 0\n",
        "    y_pred_clipped = np.clip(y_pred, 1e-7, 1 - 1e-7)\n",
        "\n",
        "    # Probabilities for target values\n",
        "    # Only if categorical labels\n",
        "    if len(y_true.shape) == 1:\n",
        "      correct_confidences = y_pred_clipped[range(samples),y_true]\n",
        "    elif len(y_true.shape) == 2:\n",
        "      correct_confidences = np.sum(y_pred_clipped * y_true, axis=1)\n",
        "\n",
        "    negative_log_likelihoods = -np.log(correct_confidences)\n",
        "    return negative_log_likelihoods\n",
        "\n",
        "  def backward(self, dvalues, y_true):\n",
        "\n",
        "    samples = len(dvalues)\n",
        "\n",
        "    labels = len(dvalues[0])\n",
        "\n",
        "    if len(y_true.shape) == 1:\n",
        "\n",
        "      y_true = np.eye(labels)[y_true]\n",
        "\n",
        "    self.dinputs = -y_true / dvalues\n",
        "    \n",
        "    self.dinputs = self.dinputs / samples"
      ],
      "metadata": {
        "id": "2m7cPkXBiU81"
      },
      "execution_count": 18,
      "outputs": []
    },
    {
      "cell_type": "code",
      "source": [
        "if __name__ == '__main__':\n",
        "  X, y = spiral_data(samples=100,classes = 3)\n",
        "  dense1 = Layer_Dense(2,3)\n",
        "  activation1 = Activation_ReLU()\n",
        "  dense1.forward(X)\n",
        "  activation1.forward(dense1.output)\n",
        "  \n",
        "  dense2 = Layer_Dense(3,3)\n",
        "  activation2 = Activation_SoftMax()\n",
        "\n",
        "  dense2.forward(activation1.output)\n",
        "\n",
        "  activation2.forward(dense2.output)\n",
        "\n",
        "  print(activation2.output[:5])"
      ],
      "metadata": {
        "colab": {
          "base_uri": "https://localhost:8080/"
        },
        "id": "N3-9S8sFJmMD",
        "outputId": "242d5673-7121-40cf-bf34-f37085dd96df"
      },
      "execution_count": 19,
      "outputs": [
        {
          "output_type": "stream",
          "name": "stdout",
          "text": [
            "[[0.33333334 0.33333334 0.33333334]\n",
            " [0.33333334 0.33333334 0.33333334]\n",
            " [0.33333334 0.3333333  0.33333334]\n",
            " [0.3333335  0.333333   0.33333352]\n",
            " [0.33333334 0.33333334 0.33333334]]\n"
          ]
        }
      ]
    },
    {
      "cell_type": "code",
      "source": [
        "# Loss calculation test\n",
        "\n",
        "softmax_outputs = np.array([[0.7,0.1,0.2],\n",
        "                            [0.1,0.5,0.4],\n",
        "                            [0.02,0.9,0.08]])\n",
        "\n",
        "class_targets = np.array([[1,0,0],\n",
        "                          [0,1,0],\n",
        "                          [0,1,0]])\n",
        "\n",
        "loss_function = Loss_CategoricalCrossEntropy()\n",
        "loss = loss_function.calculate(softmax_outputs,class_targets)\n",
        "print(loss)"
      ],
      "metadata": {
        "colab": {
          "base_uri": "https://localhost:8080/"
        },
        "id": "04_r3-tNk8Ou",
        "outputId": "8ce8ec66-670f-4c6f-be2c-ef9901cdb1e7"
      },
      "execution_count": 20,
      "outputs": [
        {
          "output_type": "stream",
          "name": "stdout",
          "text": [
            "0.38506088005216804\n"
          ]
        }
      ]
    },
    {
      "cell_type": "code",
      "source": [
        "# Calculating loss for the pratical example\n",
        "\n",
        "if __name__ == '__main__':\n",
        "\n",
        "  X, y = spiral_data(samples=100,classes = 3)\n",
        "  dense1 = Layer_Dense(2,3)\n",
        "  activation1 = Activation_ReLU()\n",
        "  dense1.forward(X)\n",
        "  activation1.forward(dense1.output)\n",
        "  \n",
        "  dense2 = Layer_Dense(3,3)\n",
        "  activation2 = Activation_SoftMax()\n",
        "\n",
        "  dense2.forward(activation1.output)\n",
        "\n",
        "  activation2.forward(dense2.output)\n",
        "  print('softmax output:',activation2.output[:5])\n",
        "\n",
        "  loss_function = Loss_CategoricalCrossEntropy()\n",
        "  loss = loss_function.calculate(activation2.output, y)\n",
        "  print('loss:', loss)"
      ],
      "metadata": {
        "colab": {
          "base_uri": "https://localhost:8080/"
        },
        "id": "_Zgv0R6al0bL",
        "outputId": "2529cead-f832-4b9a-ebba-7413da5caf8a"
      },
      "execution_count": 21,
      "outputs": [
        {
          "output_type": "stream",
          "name": "stdout",
          "text": [
            "softmax output: [[0.33333334 0.33333334 0.33333334]\n",
            " [0.33333337 0.33333337 0.3333332 ]\n",
            " [0.3333335  0.33333352 0.333333  ]\n",
            " [0.3333337  0.33333373 0.3333326 ]\n",
            " [0.33333334 0.33333334 0.33333334]]\n",
            "loss: 1.0986115\n"
          ]
        }
      ]
    },
    {
      "cell_type": "code",
      "source": [
        "# Accuracy calculation test\n",
        "\n",
        "softmax_outputs = np.array([[0.7,0.1,0.2],\n",
        "                            [0.1,0.5,0.4],\n",
        "                            [0.02,0.9,0.08]])\n",
        "\n",
        "class_targets = np.array([[0,1,1]])\n",
        "\n",
        "predictions = np.argmax(softmax_outputs, axis=1)\n",
        "print('predictions: ',predictions)\n",
        "\n",
        "if len(class_targets.shape) == 2:\n",
        " class_targets = np.argmax(class_targets,axis=1)\n",
        "print('y: ', class_targets)\n",
        "\n",
        "accuracy = np.mean(predictions==class_targets)\n",
        "print('acc: ',accuracy)"
      ],
      "metadata": {
        "colab": {
          "base_uri": "https://localhost:8080/"
        },
        "id": "jJcWfLywl9qv",
        "outputId": "049e2162-9eb2-4bd0-a715-9fd8a27d8a6a"
      },
      "execution_count": 22,
      "outputs": [
        {
          "output_type": "stream",
          "name": "stdout",
          "text": [
            "predictions:  [0 1 1]\n",
            "y:  [1]\n",
            "acc:  0.6666666666666666\n"
          ]
        }
      ]
    },
    {
      "cell_type": "code",
      "source": [
        "# Calculating loss for the pratical example + Accuracy\n",
        "\n",
        "if __name__ == '__main__':\n",
        "\n",
        "  X, y = spiral_data(samples=100,classes = 3)\n",
        "  dense1 = Layer_Dense(2,3)\n",
        "  activation1 = Activation_ReLU()\n",
        "  dense1.forward(X)\n",
        "  activation1.forward(dense1.output)\n",
        "  \n",
        "  dense2 = Layer_Dense(3,3)\n",
        "  activation2 = Activation_SoftMax()\n",
        "\n",
        "  dense2.forward(activation1.output)\n",
        "\n",
        "  activation2.forward(dense2.output)\n",
        "  print('softmax output:',activation2.output[:5])\n",
        "\n",
        "  loss_function = Loss_CategoricalCrossEntropy()\n",
        "  loss = loss_function.calculate(activation2.output, y)\n",
        "\n",
        "  predictions = np.argmax(activation2.output, axis=1)\n",
        "  if len(y.shape) == 2:\n",
        "    y = np.argmax(y,axis=1)\n",
        "  accuracy = np.mean(predictions==y)\n",
        "  print('acc: ', accuracy)\n",
        "  print('loss: ', loss)"
      ],
      "metadata": {
        "colab": {
          "base_uri": "https://localhost:8080/"
        },
        "id": "J0fRqcBgp3Os",
        "outputId": "20a031d8-065f-4a3a-faae-6f8148768183"
      },
      "execution_count": 23,
      "outputs": [
        {
          "output_type": "stream",
          "name": "stdout",
          "text": [
            "softmax output: [[0.33333334 0.33333334 0.33333334]\n",
            " [0.33333376 0.33333334 0.3333329 ]\n",
            " [0.33333433 0.33333334 0.3333323 ]\n",
            " [0.33333424 0.33333334 0.33333236]\n",
            " [0.33333528 0.33333337 0.33333135]]\n",
            "acc:  0.26\n",
            "loss:  1.0986187\n"
          ]
        }
      ]
    },
    {
      "cell_type": "markdown",
      "source": [],
      "metadata": {
        "id": "-auPDPrsq7fx"
      }
    },
    {
      "cell_type": "markdown",
      "source": [],
      "metadata": {
        "id": "wPQy3UTRq7iM"
      }
    },
    {
      "cell_type": "markdown",
      "source": [
        "# Introducing optimization"
      ],
      "metadata": {
        "id": "qFc4GmHhq7jx"
      }
    },
    {
      "cell_type": "code",
      "source": [
        "from nnfs.datasets import vertical_data\n",
        "nnfs.init()\n",
        "\n",
        "X, y = vertical_data(samples=100,classes = 3)\n",
        "plt.scatter(X[:,0], X[:,1],c=y, s = 40, cmap = 'brg')\n",
        "plt.show()"
      ],
      "metadata": {
        "colab": {
          "base_uri": "https://localhost:8080/",
          "height": 430
        },
        "id": "37fJlekwq-Mn",
        "outputId": "8cdad3a7-712d-4218-d798-12505797f7a9"
      },
      "execution_count": 24,
      "outputs": [
        {
          "output_type": "display_data",
          "data": {
            "text/plain": [
              "<Figure size 640x480 with 1 Axes>"
            ],
            "image/png": "[encoded data removed]"
          },
          "metadata": {}
        }
      ]
    },
    {
      "cell_type": "code",
      "source": [
        "if __name__ == '__main__':\n",
        "  dense1 = Layer_Dense(2,3)\n",
        "  activation1 = Activation_ReLU()\n",
        "  dense2 = Layer_Dense(3,3)\n",
        "  activation2 = Activation_SoftMax()\n",
        "\n",
        "  loss_function = Loss_CategoricalCrossEntropy()\n",
        "\n",
        "  lowest_loss = 9999999\n",
        "  best_dense1_weights = dense1.weights.copy()\n",
        "  best_dense1_biases = dense1.biases.copy()\n",
        "\n",
        "  best_dense2_weights = dense2.weights.copy()\n",
        "  best_dense2_biases = dense2.biases.copy()\n",
        "  best_loss_list = []\n",
        "\n",
        "  for iteration in range(10000):\n",
        "    \n",
        "    #update weights with some small random values\n",
        "    dense1.weights += 0.05 * np.random.randn(2,3)\n",
        "    dense1.biases += 0.05 * np.random.randn(1,3)\n",
        "\n",
        "    dense2.weights += 0.05 * np.random.randn(3,3)\n",
        "    dense2.biases += 0.05 * np.random.randn(1,3)\n",
        "\n",
        "    # Perform a forward pass of our training data through this layer\n",
        "    dense1.forward(X)\n",
        "    activation1.forward(dense1.output)\n",
        "    dense2.forward(activation1.output)\n",
        "    activation2.forward(dense2.output)\n",
        "\n",
        "    loss = loss_function.calculate(activation2.output,y)\n",
        "\n",
        "    predictions = np.argmax(activation2.output, axis = 1)\n",
        "    accuracy = np.mean(predictions == y)\n",
        "\n",
        "    if loss < lowest_loss:\n",
        "      print('New set of weights found, iteration', iteration,\n",
        "            'loss: ', loss,\n",
        "            'acc: ', accuracy)\n",
        "      \n",
        "      best_dense1_weights = dense1.weights.copy()\n",
        "      best_dense1_biases = dense1.biases.copy()\n",
        "\n",
        "      best_dense2_weights = dense2.weights.copy()\n",
        "      best_dense2_biases = dense2.biases.copy()\n",
        "\n",
        "      lowest_loss = loss\n",
        "      best_loss_list.append(loss)\n",
        "\n",
        "    else:\n",
        "      dense1.weights = best_dense1_weights.copy()\n",
        "      dense1.biases = best_dense1_biases.copy()\n",
        "\n",
        "      dense2.weights = best_dense2_weights.copy()\n",
        "      dense2.biases = best_dense2_biases.copy()\n",
        "      best_loss_list.append(lowest_loss)\n"
      ],
      "metadata": {
        "colab": {
          "base_uri": "https://localhost:8080/"
        },
        "id": "V7786cOHr0Ni",
        "outputId": "24672884-2024-4795-9e35-7de73aa1bc03"
      },
      "execution_count": 25,
      "outputs": [
        {
          "output_type": "stream",
          "name": "stdout",
          "text": [
            "New set of weights found, iteration 0 loss:  1.0987684 acc:  0.3333333333333333\n",
            "New set of weights found, iteration 1 loss:  1.0987465 acc:  0.3333333333333333\n",
            "New set of weights found, iteration 5 loss:  1.0976487 acc:  0.3333333333333333\n",
            "New set of weights found, iteration 6 loss:  1.0972018 acc:  0.3333333333333333\n",
            "New set of weights found, iteration 10 loss:  1.0938749 acc:  0.3333333333333333\n",
            "New set of weights found, iteration 19 loss:  1.0935849 acc:  0.6666666666666666\n",
            "New set of weights found, iteration 20 loss:  1.0908297 acc:  0.3333333333333333\n",
            "New set of weights found, iteration 21 loss:  1.0905013 acc:  0.3333333333333333\n",
            "New set of weights found, iteration 22 loss:  1.0879314 acc:  0.3333333333333333\n",
            "New set of weights found, iteration 24 loss:  1.0856307 acc:  0.3333333333333333\n",
            "New set of weights found, iteration 25 loss:  1.0801181 acc:  0.35\n",
            "New set of weights found, iteration 29 loss:  1.0725244 acc:  0.5266666666666666\n",
            "New set of weights found, iteration 30 loss:  1.0724432 acc:  0.3466666666666667\n",
            "New set of weights found, iteration 31 loss:  1.0636086 acc:  0.5333333333333333\n",
            "New set of weights found, iteration 32 loss:  1.0599552 acc:  0.6366666666666667\n",
            "New set of weights found, iteration 35 loss:  1.0583049 acc:  0.4533333333333333\n",
            "New set of weights found, iteration 36 loss:  1.0570958 acc:  0.3466666666666667\n",
            "New set of weights found, iteration 39 loss:  1.0469419 acc:  0.48333333333333334\n",
            "New set of weights found, iteration 42 loss:  1.0451386 acc:  0.6333333333333333\n",
            "New set of weights found, iteration 43 loss:  1.0374923 acc:  0.6033333333333334\n",
            "New set of weights found, iteration 48 loss:  1.0303522 acc:  0.6666666666666666\n",
            "New set of weights found, iteration 49 loss:  1.0292586 acc:  0.6666666666666666\n",
            "New set of weights found, iteration 60 loss:  1.021054 acc:  0.6666666666666666\n",
            "New set of weights found, iteration 62 loss:  1.0210088 acc:  0.6666666666666666\n",
            "New set of weights found, iteration 63 loss:  1.0170832 acc:  0.6633333333333333\n",
            "New set of weights found, iteration 64 loss:  1.0135772 acc:  0.6666666666666666\n",
            "New set of weights found, iteration 65 loss:  1.0120343 acc:  0.66\n",
            "New set of weights found, iteration 68 loss:  1.0069221 acc:  0.6433333333333333\n",
            "New set of weights found, iteration 70 loss:  0.99110943 acc:  0.6666666666666666\n",
            "New set of weights found, iteration 74 loss:  0.97599334 acc:  0.6666666666666666\n",
            "New set of weights found, iteration 75 loss:  0.9725516 acc:  0.67\n",
            "New set of weights found, iteration 77 loss:  0.9714911 acc:  0.7133333333333334\n",
            "New set of weights found, iteration 87 loss:  0.95410764 acc:  0.7966666666666666\n",
            "New set of weights found, iteration 89 loss:  0.9436863 acc:  0.6666666666666666\n",
            "New set of weights found, iteration 93 loss:  0.9362148 acc:  0.65\n",
            "New set of weights found, iteration 95 loss:  0.92910564 acc:  0.6666666666666666\n",
            "New set of weights found, iteration 97 loss:  0.9277446 acc:  0.7333333333333333\n",
            "New set of weights found, iteration 102 loss:  0.91819257 acc:  0.6666666666666666\n",
            "New set of weights found, iteration 105 loss:  0.9153189 acc:  0.6466666666666666\n",
            "New set of weights found, iteration 107 loss:  0.9071464 acc:  0.6466666666666666\n",
            "New set of weights found, iteration 114 loss:  0.8988214 acc:  0.6666666666666666\n",
            "New set of weights found, iteration 116 loss:  0.89690137 acc:  0.6666666666666666\n",
            "New set of weights found, iteration 117 loss:  0.89097536 acc:  0.6666666666666666\n",
            "New set of weights found, iteration 121 loss:  0.87916565 acc:  0.6633333333333333\n",
            "New set of weights found, iteration 125 loss:  0.8771758 acc:  0.6666666666666666\n",
            "New set of weights found, iteration 130 loss:  0.86686075 acc:  0.6666666666666666\n",
            "New set of weights found, iteration 135 loss:  0.8438273 acc:  0.79\n",
            "New set of weights found, iteration 137 loss:  0.83247876 acc:  0.6733333333333333\n",
            "New set of weights found, iteration 138 loss:  0.82467103 acc:  0.6666666666666666\n",
            "New set of weights found, iteration 140 loss:  0.8202214 acc:  0.6866666666666666\n",
            "New set of weights found, iteration 141 loss:  0.806276 acc:  0.6666666666666666\n",
            "New set of weights found, iteration 142 loss:  0.7867625 acc:  0.6666666666666666\n",
            "New set of weights found, iteration 143 loss:  0.7699835 acc:  0.6666666666666666\n",
            "New set of weights found, iteration 148 loss:  0.75951034 acc:  0.6966666666666667\n",
            "New set of weights found, iteration 149 loss:  0.745888 acc:  0.6666666666666666\n",
            "New set of weights found, iteration 151 loss:  0.74426425 acc:  0.6666666666666666\n",
            "New set of weights found, iteration 152 loss:  0.73390484 acc:  0.8433333333333334\n",
            "New set of weights found, iteration 156 loss:  0.7235515 acc:  0.87\n",
            "New set of weights found, iteration 160 loss:  0.7049076 acc:  0.9066666666666666\n",
            "New set of weights found, iteration 162 loss:  0.70258695 acc:  0.8666666666666667\n",
            "New set of weights found, iteration 164 loss:  0.6955316 acc:  0.9066666666666666\n",
            "New set of weights found, iteration 172 loss:  0.68481696 acc:  0.8466666666666667\n",
            "New set of weights found, iteration 173 loss:  0.6784652 acc:  0.8366666666666667\n",
            "New set of weights found, iteration 174 loss:  0.6691458 acc:  0.8166666666666667\n",
            "New set of weights found, iteration 175 loss:  0.6636736 acc:  0.8166666666666667\n",
            "New set of weights found, iteration 176 loss:  0.6603196 acc:  0.8366666666666667\n",
            "New set of weights found, iteration 178 loss:  0.6574357 acc:  0.8533333333333334\n",
            "New set of weights found, iteration 179 loss:  0.64556926 acc:  0.79\n",
            "New set of weights found, iteration 183 loss:  0.63866717 acc:  0.7633333333333333\n",
            "New set of weights found, iteration 186 loss:  0.62016314 acc:  0.7866666666666666\n",
            "New set of weights found, iteration 190 loss:  0.60920006 acc:  0.6966666666666667\n",
            "New set of weights found, iteration 191 loss:  0.6007828 acc:  0.7466666666666667\n",
            "New set of weights found, iteration 192 loss:  0.5926363 acc:  0.8233333333333334\n",
            "New set of weights found, iteration 194 loss:  0.5758982 acc:  0.8766666666666667\n",
            "New set of weights found, iteration 195 loss:  0.5737089 acc:  0.86\n",
            "New set of weights found, iteration 197 loss:  0.5632779 acc:  0.8566666666666667\n",
            "New set of weights found, iteration 198 loss:  0.54802585 acc:  0.87\n",
            "New set of weights found, iteration 200 loss:  0.54466957 acc:  0.8933333333333333\n",
            "New set of weights found, iteration 202 loss:  0.5346576 acc:  0.8833333333333333\n",
            "New set of weights found, iteration 204 loss:  0.5341147 acc:  0.9166666666666666\n",
            "New set of weights found, iteration 206 loss:  0.53295857 acc:  0.9133333333333333\n",
            "New set of weights found, iteration 209 loss:  0.5242141 acc:  0.9166666666666666\n",
            "New set of weights found, iteration 211 loss:  0.5214254 acc:  0.9133333333333333\n",
            "New set of weights found, iteration 212 loss:  0.52116674 acc:  0.9133333333333333\n",
            "New set of weights found, iteration 213 loss:  0.5104606 acc:  0.9133333333333333\n",
            "New set of weights found, iteration 215 loss:  0.50765043 acc:  0.91\n",
            "New set of weights found, iteration 217 loss:  0.50628793 acc:  0.89\n",
            "New set of weights found, iteration 225 loss:  0.49712422 acc:  0.9066666666666666\n",
            "New set of weights found, iteration 226 loss:  0.49229544 acc:  0.8933333333333333\n",
            "New set of weights found, iteration 228 loss:  0.49038848 acc:  0.9133333333333333\n",
            "New set of weights found, iteration 229 loss:  0.48964763 acc:  0.91\n",
            "New set of weights found, iteration 231 loss:  0.47616988 acc:  0.8966666666666666\n",
            "New set of weights found, iteration 232 loss:  0.4750356 acc:  0.9066666666666666\n",
            "New set of weights found, iteration 235 loss:  0.47463572 acc:  0.9\n",
            "New set of weights found, iteration 239 loss:  0.47196954 acc:  0.9066666666666666\n",
            "New set of weights found, iteration 243 loss:  0.46522033 acc:  0.9\n",
            "New set of weights found, iteration 250 loss:  0.4561661 acc:  0.9066666666666666\n",
            "New set of weights found, iteration 256 loss:  0.45460042 acc:  0.8833333333333333\n",
            "New set of weights found, iteration 262 loss:  0.4544474 acc:  0.8866666666666667\n",
            "New set of weights found, iteration 265 loss:  0.44849455 acc:  0.9033333333333333\n",
            "New set of weights found, iteration 266 loss:  0.44609842 acc:  0.91\n",
            "New set of weights found, iteration 269 loss:  0.44239476 acc:  0.91\n",
            "New set of weights found, iteration 272 loss:  0.4422342 acc:  0.9066666666666666\n",
            "New set of weights found, iteration 273 loss:  0.43862367 acc:  0.9266666666666666\n",
            "New set of weights found, iteration 274 loss:  0.4360377 acc:  0.9266666666666666\n",
            "New set of weights found, iteration 277 loss:  0.41320065 acc:  0.9266666666666666\n",
            "New set of weights found, iteration 280 loss:  0.40165314 acc:  0.9133333333333333\n",
            "New set of weights found, iteration 286 loss:  0.40059513 acc:  0.9266666666666666\n",
            "New set of weights found, iteration 287 loss:  0.39764303 acc:  0.93\n",
            "New set of weights found, iteration 288 loss:  0.3949824 acc:  0.93\n",
            "New set of weights found, iteration 294 loss:  0.39064783 acc:  0.92\n",
            "New set of weights found, iteration 296 loss:  0.38514143 acc:  0.92\n",
            "New set of weights found, iteration 297 loss:  0.381598 acc:  0.9233333333333333\n",
            "New set of weights found, iteration 302 loss:  0.38139647 acc:  0.9266666666666666\n",
            "New set of weights found, iteration 303 loss:  0.37614173 acc:  0.92\n",
            "New set of weights found, iteration 309 loss:  0.36768183 acc:  0.91\n",
            "New set of weights found, iteration 313 loss:  0.3609076 acc:  0.9166666666666666\n",
            "New set of weights found, iteration 316 loss:  0.36045584 acc:  0.9166666666666666\n",
            "New set of weights found, iteration 321 loss:  0.35834777 acc:  0.9133333333333333\n",
            "New set of weights found, iteration 322 loss:  0.3547752 acc:  0.9233333333333333\n",
            "New set of weights found, iteration 327 loss:  0.35104883 acc:  0.9266666666666666\n",
            "New set of weights found, iteration 330 loss:  0.34650895 acc:  0.9233333333333333\n",
            "New set of weights found, iteration 332 loss:  0.3382834 acc:  0.9266666666666666\n",
            "New set of weights found, iteration 334 loss:  0.33724326 acc:  0.9266666666666666\n",
            "New set of weights found, iteration 338 loss:  0.32472056 acc:  0.93\n",
            "New set of weights found, iteration 343 loss:  0.32345867 acc:  0.9266666666666666\n",
            "New set of weights found, iteration 345 loss:  0.3217446 acc:  0.93\n",
            "New set of weights found, iteration 347 loss:  0.32061502 acc:  0.92\n",
            "New set of weights found, iteration 348 loss:  0.31615657 acc:  0.93\n",
            "New set of weights found, iteration 351 loss:  0.3084577 acc:  0.9266666666666666\n",
            "New set of weights found, iteration 354 loss:  0.30489174 acc:  0.92\n",
            "New set of weights found, iteration 355 loss:  0.29995218 acc:  0.9233333333333333\n",
            "New set of weights found, iteration 363 loss:  0.29957393 acc:  0.9266666666666666\n",
            "New set of weights found, iteration 366 loss:  0.29841217 acc:  0.9266666666666666\n",
            "New set of weights found, iteration 372 loss:  0.28985375 acc:  0.9266666666666666\n",
            "New set of weights found, iteration 378 loss:  0.28417572 acc:  0.93\n",
            "New set of weights found, iteration 382 loss:  0.28351793 acc:  0.93\n",
            "New set of weights found, iteration 389 loss:  0.27943885 acc:  0.9233333333333333\n",
            "New set of weights found, iteration 392 loss:  0.27722925 acc:  0.9266666666666666\n",
            "New set of weights found, iteration 405 loss:  0.27528533 acc:  0.9133333333333333\n",
            "New set of weights found, iteration 406 loss:  0.27460143 acc:  0.9266666666666666\n",
            "New set of weights found, iteration 408 loss:  0.2710612 acc:  0.9133333333333333\n",
            "New set of weights found, iteration 411 loss:  0.2694756 acc:  0.9233333333333333\n",
            "New set of weights found, iteration 412 loss:  0.2649215 acc:  0.9233333333333333\n",
            "New set of weights found, iteration 413 loss:  0.26160672 acc:  0.92\n",
            "New set of weights found, iteration 414 loss:  0.26027718 acc:  0.9266666666666666\n",
            "New set of weights found, iteration 418 loss:  0.25994137 acc:  0.9233333333333333\n",
            "New set of weights found, iteration 422 loss:  0.25397167 acc:  0.92\n",
            "New set of weights found, iteration 423 loss:  0.2534732 acc:  0.9133333333333333\n",
            "New set of weights found, iteration 424 loss:  0.24422452 acc:  0.9166666666666666\n",
            "New set of weights found, iteration 425 loss:  0.24326663 acc:  0.9133333333333333\n",
            "New set of weights found, iteration 439 loss:  0.24125023 acc:  0.9266666666666666\n",
            "New set of weights found, iteration 445 loss:  0.23965162 acc:  0.9266666666666666\n",
            "New set of weights found, iteration 449 loss:  0.234785 acc:  0.9266666666666666\n",
            "New set of weights found, iteration 456 loss:  0.23242655 acc:  0.9266666666666666\n",
            "New set of weights found, iteration 457 loss:  0.23226367 acc:  0.9266666666666666\n",
            "New set of weights found, iteration 474 loss:  0.23186895 acc:  0.9266666666666666\n",
            "New set of weights found, iteration 475 loss:  0.23104395 acc:  0.9266666666666666\n",
            "New set of weights found, iteration 477 loss:  0.22904079 acc:  0.9233333333333333\n",
            "New set of weights found, iteration 478 loss:  0.2289004 acc:  0.9266666666666666\n",
            "New set of weights found, iteration 489 loss:  0.22750992 acc:  0.9266666666666666\n",
            "New set of weights found, iteration 502 loss:  0.22545515 acc:  0.9266666666666666\n",
            "New set of weights found, iteration 507 loss:  0.22383133 acc:  0.9233333333333333\n",
            "New set of weights found, iteration 514 loss:  0.2208256 acc:  0.9266666666666666\n",
            "New set of weights found, iteration 520 loss:  0.22062747 acc:  0.9166666666666666\n",
            "New set of weights found, iteration 521 loss:  0.2165533 acc:  0.9266666666666666\n",
            "New set of weights found, iteration 524 loss:  0.21591477 acc:  0.9166666666666666\n",
            "New set of weights found, iteration 525 loss:  0.21488297 acc:  0.9233333333333333\n",
            "New set of weights found, iteration 538 loss:  0.21203747 acc:  0.9266666666666666\n",
            "New set of weights found, iteration 544 loss:  0.20863405 acc:  0.9133333333333333\n",
            "New set of weights found, iteration 552 loss:  0.20513496 acc:  0.91\n",
            "New set of weights found, iteration 555 loss:  0.2047587 acc:  0.9133333333333333\n",
            "New set of weights found, iteration 558 loss:  0.20348953 acc:  0.9266666666666666\n",
            "New set of weights found, iteration 563 loss:  0.20212303 acc:  0.9266666666666666\n",
            "New set of weights found, iteration 570 loss:  0.2020175 acc:  0.9266666666666666\n",
            "New set of weights found, iteration 575 loss:  0.20133626 acc:  0.9166666666666666\n",
            "New set of weights found, iteration 576 loss:  0.19818096 acc:  0.9233333333333333\n",
            "New set of weights found, iteration 577 loss:  0.1979749 acc:  0.9266666666666666\n",
            "New set of weights found, iteration 610 loss:  0.19575574 acc:  0.9233333333333333\n",
            "New set of weights found, iteration 626 loss:  0.19487213 acc:  0.9233333333333333\n",
            "New set of weights found, iteration 628 loss:  0.19254842 acc:  0.9266666666666666\n",
            "New set of weights found, iteration 631 loss:  0.19105764 acc:  0.9266666666666666\n",
            "New set of weights found, iteration 644 loss:  0.19082291 acc:  0.9266666666666666\n",
            "New set of weights found, iteration 647 loss:  0.19066371 acc:  0.9133333333333333\n",
            "New set of weights found, iteration 649 loss:  0.19047658 acc:  0.9266666666666666\n",
            "New set of weights found, iteration 653 loss:  0.18974443 acc:  0.9266666666666666\n",
            "New set of weights found, iteration 690 loss:  0.18965825 acc:  0.9266666666666666\n",
            "New set of weights found, iteration 691 loss:  0.18952243 acc:  0.93\n",
            "New set of weights found, iteration 696 loss:  0.18931495 acc:  0.9266666666666666\n",
            "New set of weights found, iteration 716 loss:  0.18833008 acc:  0.9266666666666666\n",
            "New set of weights found, iteration 719 loss:  0.18805136 acc:  0.93\n",
            "New set of weights found, iteration 722 loss:  0.18729888 acc:  0.9266666666666666\n",
            "New set of weights found, iteration 748 loss:  0.18719813 acc:  0.9233333333333333\n",
            "New set of weights found, iteration 753 loss:  0.18649133 acc:  0.9266666666666666\n",
            "New set of weights found, iteration 779 loss:  0.18517219 acc:  0.9266666666666666\n",
            "New set of weights found, iteration 812 loss:  0.1845271 acc:  0.9266666666666666\n",
            "New set of weights found, iteration 817 loss:  0.18398914 acc:  0.9233333333333333\n",
            "New set of weights found, iteration 819 loss:  0.18363124 acc:  0.9266666666666666\n",
            "New set of weights found, iteration 830 loss:  0.18298864 acc:  0.9166666666666666\n",
            "New set of weights found, iteration 841 loss:  0.18236092 acc:  0.9233333333333333\n",
            "New set of weights found, iteration 846 loss:  0.18167426 acc:  0.9266666666666666\n",
            "New set of weights found, iteration 847 loss:  0.1813782 acc:  0.9233333333333333\n",
            "New set of weights found, iteration 856 loss:  0.18133405 acc:  0.9233333333333333\n",
            "New set of weights found, iteration 864 loss:  0.18020004 acc:  0.9266666666666666\n",
            "New set of weights found, iteration 870 loss:  0.1799821 acc:  0.9233333333333333\n",
            "New set of weights found, iteration 878 loss:  0.17942198 acc:  0.9266666666666666\n",
            "New set of weights found, iteration 886 loss:  0.17817551 acc:  0.9233333333333333\n",
            "New set of weights found, iteration 907 loss:  0.17794047 acc:  0.9266666666666666\n",
            "New set of weights found, iteration 915 loss:  0.17786074 acc:  0.9266666666666666\n",
            "New set of weights found, iteration 922 loss:  0.17780478 acc:  0.9233333333333333\n",
            "New set of weights found, iteration 925 loss:  0.17758258 acc:  0.9233333333333333\n",
            "New set of weights found, iteration 969 loss:  0.17719764 acc:  0.9233333333333333\n",
            "New set of weights found, iteration 991 loss:  0.17705636 acc:  0.9266666666666666\n",
            "New set of weights found, iteration 1002 loss:  0.177028 acc:  0.9266666666666666\n",
            "New set of weights found, iteration 1005 loss:  0.17693754 acc:  0.9266666666666666\n",
            "New set of weights found, iteration 1007 loss:  0.17624566 acc:  0.9233333333333333\n",
            "New set of weights found, iteration 1013 loss:  0.17598782 acc:  0.9266666666666666\n",
            "New set of weights found, iteration 1020 loss:  0.17577194 acc:  0.9233333333333333\n",
            "New set of weights found, iteration 1081 loss:  0.17557582 acc:  0.9233333333333333\n",
            "New set of weights found, iteration 1082 loss:  0.17552829 acc:  0.9233333333333333\n",
            "New set of weights found, iteration 1088 loss:  0.17540139 acc:  0.93\n",
            "New set of weights found, iteration 1089 loss:  0.17468038 acc:  0.9233333333333333\n",
            "New set of weights found, iteration 1157 loss:  0.17457508 acc:  0.93\n",
            "New set of weights found, iteration 1162 loss:  0.17454481 acc:  0.93\n",
            "New set of weights found, iteration 1173 loss:  0.17433043 acc:  0.9266666666666666\n",
            "New set of weights found, iteration 1177 loss:  0.17432213 acc:  0.9266666666666666\n",
            "New set of weights found, iteration 1279 loss:  0.17415431 acc:  0.9266666666666666\n",
            "New set of weights found, iteration 1370 loss:  0.17404856 acc:  0.9233333333333333\n",
            "New set of weights found, iteration 1371 loss:  0.17389564 acc:  0.9233333333333333\n",
            "New set of weights found, iteration 1406 loss:  0.17383522 acc:  0.9266666666666666\n",
            "New set of weights found, iteration 1447 loss:  0.17379661 acc:  0.9266666666666666\n",
            "New set of weights found, iteration 1601 loss:  0.17365216 acc:  0.9266666666666666\n",
            "New set of weights found, iteration 1653 loss:  0.17341845 acc:  0.93\n",
            "New set of weights found, iteration 1682 loss:  0.1731208 acc:  0.9333333333333333\n",
            "New set of weights found, iteration 1819 loss:  0.17306708 acc:  0.9366666666666666\n",
            "New set of weights found, iteration 1821 loss:  0.17294748 acc:  0.9333333333333333\n",
            "New set of weights found, iteration 2221 loss:  0.17294282 acc:  0.93\n",
            "New set of weights found, iteration 2575 loss:  0.17288338 acc:  0.9333333333333333\n",
            "New set of weights found, iteration 3079 loss:  0.17281877 acc:  0.9333333333333333\n",
            "New set of weights found, iteration 5383 loss:  0.17281146 acc:  0.9333333333333333\n",
            "New set of weights found, iteration 5973 loss:  0.17280106 acc:  0.9333333333333333\n",
            "New set of weights found, iteration 7446 loss:  0.17280102 acc:  0.9333333333333333\n",
            "New set of weights found, iteration 9397 loss:  0.17279711 acc:  0.93\n"
          ]
        }
      ]
    },
    {
      "cell_type": "code",
      "source": [
        "plt.plot(best_loss_list)\n",
        "plt.grid(True)\n",
        "plt.xlabel('Iterations')\n",
        "plt.ylabel('Loss')\n",
        "plt.title('Loss over iterations')"
      ],
      "metadata": {
        "colab": {
          "base_uri": "https://localhost:8080/",
          "height": 489
        },
        "id": "BxmNL9K6uDop",
        "outputId": "70fdefe2-ea5d-4e58-d60d-b65a41203185"
      },
      "execution_count": 26,
      "outputs": [
        {
          "output_type": "execute_result",
          "data": {
            "text/plain": [
              "Text(0.5, 1.0, 'Loss over iterations')"
            ]
          },
          "metadata": {},
          "execution_count": 26
        },
        {
          "output_type": "display_data",
          "data": {
            "text/plain": [
              "<Figure size 640x480 with 1 Axes>"
            ],
            "image/png": "[encoded data removed]"
          },
          "metadata": {}
        }
      ]
    },
    {
      "cell_type": "code",
      "source": [
        "#Trying with spiral dataset\n",
        "\n",
        "\n",
        "if __name__ == '__main__':\n",
        "  X, y = spiral_data(samples=100,classes = 3)\n",
        "  dense1 = Layer_Dense(2,3)\n",
        "  activation1 = Activation_ReLU()\n",
        "  dense2 = Layer_Dense(3,3)\n",
        "  activation2 = Activation_SoftMax()\n",
        "\n",
        "  loss_function = Loss_CategoricalCrossEntropy()\n",
        "\n",
        "  lowest_loss = 9999999\n",
        "  best_dense1_weights = dense1.weights.copy()\n",
        "  best_dense1_biases = dense1.biases.copy()\n",
        "\n",
        "  best_dense2_weights = dense2.weights.copy()\n",
        "  best_dense2_biases = dense2.biases.copy()\n",
        "  best_loss_list = []\n",
        "\n",
        "  for iteration in range(10000):\n",
        "    \n",
        "    #update weights with some small random values\n",
        "    dense1.weights += 0.05 * np.random.randn(2,3)\n",
        "    dense1.biases += 0.05 * np.random.randn(1,3)\n",
        "\n",
        "    dense2.weights += 0.05 * np.random.randn(3,3)\n",
        "    dense2.biases += 0.05 * np.random.randn(1,3)\n",
        "\n",
        "    # Perform a forward pass of our training data through this layer\n",
        "    dense1.forward(X)\n",
        "    activation1.forward(dense1.output)\n",
        "    dense2.forward(activation1.output)\n",
        "    activation2.forward(dense2.output)\n",
        "\n",
        "    loss = loss_function.calculate(activation2.output,y)\n",
        "\n",
        "    predictions = np.argmax(activation2.output, axis = 1)\n",
        "    accuracy = np.mean(predictions == y)\n",
        "\n",
        "    if loss < lowest_loss:\n",
        "      print('New set of weights found, iteration', iteration,\n",
        "            'loss: ', loss,\n",
        "            'acc: ', accuracy)\n",
        "      \n",
        "      best_dense1_weights = dense1.weights.copy()\n",
        "      best_dense1_biases = dense1.biases.copy()\n",
        "\n",
        "      best_dense2_weights = dense2.weights.copy()\n",
        "      best_dense2_biases = dense2.biases.copy()\n",
        "\n",
        "      lowest_loss = loss\n",
        "      best_loss_list.append(loss)\n",
        "\n",
        "    else:\n",
        "      dense1.weights = best_dense1_weights.copy()\n",
        "      dense1.biases = best_dense1_biases.copy()\n",
        "\n",
        "      dense2.weights = best_dense2_weights.copy()\n",
        "      dense2.biases = best_dense2_biases.copy()\n",
        "      best_loss_list.append(lowest_loss)\n"
      ],
      "metadata": {
        "colab": {
          "base_uri": "https://localhost:8080/"
        },
        "id": "U3hdOkFMvsAR",
        "outputId": "6267d7ea-4681-4814-bf89-f8463bfa8692"
      },
      "execution_count": 27,
      "outputs": [
        {
          "output_type": "stream",
          "name": "stdout",
          "text": [
            "New set of weights found, iteration 0 loss:  1.0999306 acc:  0.3333333333333333\n",
            "New set of weights found, iteration 2 loss:  1.0999146 acc:  0.3333333333333333\n",
            "New set of weights found, iteration 4 loss:  1.0990082 acc:  0.35\n",
            "New set of weights found, iteration 6 loss:  1.0979306 acc:  0.36666666666666664\n",
            "New set of weights found, iteration 11 loss:  1.0977046 acc:  0.34\n",
            "New set of weights found, iteration 13 loss:  1.0971706 acc:  0.4066666666666667\n",
            "New set of weights found, iteration 14 loss:  1.0967075 acc:  0.3333333333333333\n",
            "New set of weights found, iteration 17 loss:  1.0966543 acc:  0.3433333333333333\n",
            "New set of weights found, iteration 20 loss:  1.0956889 acc:  0.3433333333333333\n",
            "New set of weights found, iteration 21 loss:  1.0954334 acc:  0.33666666666666667\n",
            "New set of weights found, iteration 26 loss:  1.0953525 acc:  0.35333333333333333\n",
            "New set of weights found, iteration 37 loss:  1.0946891 acc:  0.36666666666666664\n",
            "New set of weights found, iteration 40 loss:  1.0944422 acc:  0.41\n",
            "New set of weights found, iteration 44 loss:  1.094288 acc:  0.3433333333333333\n",
            "New set of weights found, iteration 46 loss:  1.0925826 acc:  0.41333333333333333\n",
            "New set of weights found, iteration 50 loss:  1.0920107 acc:  0.38333333333333336\n",
            "New set of weights found, iteration 56 loss:  1.0905578 acc:  0.37333333333333335\n",
            "New set of weights found, iteration 60 loss:  1.0884258 acc:  0.3566666666666667\n",
            "New set of weights found, iteration 64 loss:  1.0878363 acc:  0.39666666666666667\n",
            "New set of weights found, iteration 66 loss:  1.0872027 acc:  0.4033333333333333\n",
            "New set of weights found, iteration 83 loss:  1.0865781 acc:  0.4033333333333333\n",
            "New set of weights found, iteration 99 loss:  1.0861712 acc:  0.3566666666666667\n",
            "New set of weights found, iteration 101 loss:  1.0860814 acc:  0.42333333333333334\n",
            "New set of weights found, iteration 107 loss:  1.0860054 acc:  0.41333333333333333\n",
            "New set of weights found, iteration 109 loss:  1.0855178 acc:  0.41333333333333333\n",
            "New set of weights found, iteration 118 loss:  1.0851074 acc:  0.41333333333333333\n",
            "New set of weights found, iteration 125 loss:  1.084995 acc:  0.37333333333333335\n",
            "New set of weights found, iteration 132 loss:  1.0844084 acc:  0.4033333333333333\n",
            "New set of weights found, iteration 136 loss:  1.0838114 acc:  0.38\n",
            "New set of weights found, iteration 156 loss:  1.0837214 acc:  0.41\n",
            "New set of weights found, iteration 172 loss:  1.0835732 acc:  0.38666666666666666\n",
            "New set of weights found, iteration 178 loss:  1.0833362 acc:  0.4166666666666667\n",
            "New set of weights found, iteration 179 loss:  1.0831696 acc:  0.41\n",
            "New set of weights found, iteration 180 loss:  1.0826844 acc:  0.44\n",
            "New set of weights found, iteration 189 loss:  1.0824242 acc:  0.42333333333333334\n",
            "New set of weights found, iteration 192 loss:  1.0822772 acc:  0.41333333333333333\n",
            "New set of weights found, iteration 194 loss:  1.0812584 acc:  0.4266666666666667\n",
            "New set of weights found, iteration 198 loss:  1.0804493 acc:  0.44666666666666666\n",
            "New set of weights found, iteration 202 loss:  1.0797077 acc:  0.43\n",
            "New set of weights found, iteration 210 loss:  1.0795382 acc:  0.43666666666666665\n",
            "New set of weights found, iteration 215 loss:  1.0789545 acc:  0.4633333333333333\n",
            "New set of weights found, iteration 216 loss:  1.0789266 acc:  0.3933333333333333\n",
            "New set of weights found, iteration 217 loss:  1.0771216 acc:  0.4166666666666667\n",
            "New set of weights found, iteration 223 loss:  1.0770037 acc:  0.41333333333333333\n",
            "New set of weights found, iteration 231 loss:  1.0764405 acc:  0.43666666666666665\n",
            "New set of weights found, iteration 234 loss:  1.0764384 acc:  0.45666666666666667\n",
            "New set of weights found, iteration 235 loss:  1.0757941 acc:  0.4666666666666667\n",
            "New set of weights found, iteration 236 loss:  1.0756738 acc:  0.44666666666666666\n",
            "New set of weights found, iteration 238 loss:  1.0748285 acc:  0.45\n",
            "New set of weights found, iteration 245 loss:  1.0735905 acc:  0.43\n",
            "New set of weights found, iteration 264 loss:  1.0729747 acc:  0.44333333333333336\n",
            "New set of weights found, iteration 313 loss:  1.0728166 acc:  0.43333333333333335\n",
            "New set of weights found, iteration 316 loss:  1.0717474 acc:  0.43666666666666665\n",
            "New set of weights found, iteration 323 loss:  1.0716529 acc:  0.43666666666666665\n",
            "New set of weights found, iteration 341 loss:  1.0711863 acc:  0.44666666666666666\n",
            "New set of weights found, iteration 352 loss:  1.0709231 acc:  0.45666666666666667\n",
            "New set of weights found, iteration 368 loss:  1.0707316 acc:  0.45\n",
            "New set of weights found, iteration 380 loss:  1.0706811 acc:  0.42333333333333334\n",
            "New set of weights found, iteration 390 loss:  1.0706065 acc:  0.44333333333333336\n",
            "New set of weights found, iteration 402 loss:  1.070179 acc:  0.4533333333333333\n",
            "New set of weights found, iteration 421 loss:  1.0695335 acc:  0.44333333333333336\n",
            "New set of weights found, iteration 429 loss:  1.0688164 acc:  0.44666666666666666\n",
            "New set of weights found, iteration 454 loss:  1.0681686 acc:  0.42333333333333334\n",
            "New set of weights found, iteration 457 loss:  1.0681281 acc:  0.44666666666666666\n",
            "New set of weights found, iteration 458 loss:  1.0679 acc:  0.44\n",
            "New set of weights found, iteration 463 loss:  1.0673704 acc:  0.44666666666666666\n",
            "New set of weights found, iteration 467 loss:  1.0662452 acc:  0.43666666666666665\n",
            "New set of weights found, iteration 482 loss:  1.0658842 acc:  0.44\n",
            "New set of weights found, iteration 487 loss:  1.0647507 acc:  0.44333333333333336\n",
            "New set of weights found, iteration 496 loss:  1.0647063 acc:  0.44\n",
            "New set of weights found, iteration 503 loss:  1.0638764 acc:  0.44\n",
            "New set of weights found, iteration 546 loss:  1.0632424 acc:  0.44666666666666666\n",
            "New set of weights found, iteration 552 loss:  1.0626863 acc:  0.44666666666666666\n",
            "New set of weights found, iteration 559 loss:  1.0622951 acc:  0.44333333333333336\n",
            "New set of weights found, iteration 707 loss:  1.062099 acc:  0.44\n",
            "New set of weights found, iteration 712 loss:  1.0619642 acc:  0.4533333333333333\n",
            "New set of weights found, iteration 750 loss:  1.0605235 acc:  0.44333333333333336\n",
            "New set of weights found, iteration 753 loss:  1.0604248 acc:  0.45666666666666667\n",
            "New set of weights found, iteration 771 loss:  1.0598097 acc:  0.45666666666666667\n",
            "New set of weights found, iteration 777 loss:  1.0594102 acc:  0.4533333333333333\n",
            "New set of weights found, iteration 812 loss:  1.0588306 acc:  0.45\n",
            "New set of weights found, iteration 815 loss:  1.05726 acc:  0.45\n",
            "New set of weights found, iteration 824 loss:  1.0567074 acc:  0.45666666666666667\n",
            "New set of weights found, iteration 828 loss:  1.0565299 acc:  0.4533333333333333\n",
            "New set of weights found, iteration 867 loss:  1.0564061 acc:  0.46\n",
            "New set of weights found, iteration 944 loss:  1.056109 acc:  0.4533333333333333\n",
            "New set of weights found, iteration 963 loss:  1.0559349 acc:  0.44666666666666666\n",
            "New set of weights found, iteration 978 loss:  1.0557985 acc:  0.44666666666666666\n",
            "New set of weights found, iteration 991 loss:  1.0550098 acc:  0.43666666666666665\n",
            "New set of weights found, iteration 993 loss:  1.0544487 acc:  0.44666666666666666\n",
            "New set of weights found, iteration 1000 loss:  1.0543674 acc:  0.45\n",
            "New set of weights found, iteration 1012 loss:  1.0541539 acc:  0.44333333333333336\n",
            "New set of weights found, iteration 1015 loss:  1.0539992 acc:  0.46\n",
            "New set of weights found, iteration 1016 loss:  1.0537168 acc:  0.45666666666666667\n",
            "New set of weights found, iteration 1020 loss:  1.0535574 acc:  0.44333333333333336\n",
            "New set of weights found, iteration 1030 loss:  1.0533313 acc:  0.45\n",
            "New set of weights found, iteration 1138 loss:  1.053288 acc:  0.44333333333333336\n",
            "New set of weights found, iteration 1140 loss:  1.0532235 acc:  0.4266666666666667\n",
            "New set of weights found, iteration 1150 loss:  1.0524724 acc:  0.44333333333333336\n",
            "New set of weights found, iteration 1152 loss:  1.0524026 acc:  0.43666666666666665\n",
            "New set of weights found, iteration 1154 loss:  1.0520166 acc:  0.44333333333333336\n",
            "New set of weights found, iteration 1155 loss:  1.0512851 acc:  0.43666666666666665\n",
            "New set of weights found, iteration 1164 loss:  1.0508451 acc:  0.43\n",
            "New set of weights found, iteration 1236 loss:  1.0508337 acc:  0.45666666666666667\n",
            "New set of weights found, iteration 1288 loss:  1.0507901 acc:  0.46\n",
            "New set of weights found, iteration 1351 loss:  1.0506499 acc:  0.44333333333333336\n",
            "New set of weights found, iteration 1383 loss:  1.0506169 acc:  0.42333333333333334\n",
            "New set of weights found, iteration 1390 loss:  1.050401 acc:  0.44333333333333336\n",
            "New set of weights found, iteration 1391 loss:  1.0503037 acc:  0.44333333333333336\n",
            "New set of weights found, iteration 1399 loss:  1.050124 acc:  0.45\n",
            "New set of weights found, iteration 1419 loss:  1.0496737 acc:  0.43\n",
            "New set of weights found, iteration 1458 loss:  1.0495664 acc:  0.4533333333333333\n",
            "New set of weights found, iteration 1464 loss:  1.0494304 acc:  0.45\n",
            "New set of weights found, iteration 1553 loss:  1.0492717 acc:  0.44666666666666666\n",
            "New set of weights found, iteration 1671 loss:  1.0490513 acc:  0.42\n",
            "New set of weights found, iteration 1686 loss:  1.0489773 acc:  0.44333333333333336\n",
            "New set of weights found, iteration 1910 loss:  1.0488846 acc:  0.4533333333333333\n",
            "New set of weights found, iteration 1976 loss:  1.0487794 acc:  0.45666666666666667\n",
            "New set of weights found, iteration 2131 loss:  1.0487187 acc:  0.43666666666666665\n",
            "New set of weights found, iteration 2219 loss:  1.0483892 acc:  0.4266666666666667\n",
            "New set of weights found, iteration 2610 loss:  1.0481321 acc:  0.44333333333333336\n",
            "New set of weights found, iteration 2611 loss:  1.047798 acc:  0.43666666666666665\n",
            "New set of weights found, iteration 2673 loss:  1.0470927 acc:  0.45\n",
            "New set of weights found, iteration 2698 loss:  1.0468822 acc:  0.4266666666666667\n",
            "New set of weights found, iteration 2708 loss:  1.0466651 acc:  0.41\n",
            "New set of weights found, iteration 2739 loss:  1.0464449 acc:  0.4266666666666667\n",
            "New set of weights found, iteration 2771 loss:  1.0463363 acc:  0.38666666666666666\n",
            "New set of weights found, iteration 2796 loss:  1.0459633 acc:  0.4066666666666667\n",
            "New set of weights found, iteration 2803 loss:  1.0456102 acc:  0.43333333333333335\n",
            "New set of weights found, iteration 2826 loss:  1.0452869 acc:  0.44\n",
            "New set of weights found, iteration 2838 loss:  1.0451204 acc:  0.43666666666666665\n",
            "New set of weights found, iteration 2980 loss:  1.0449101 acc:  0.44666666666666666\n",
            "New set of weights found, iteration 2988 loss:  1.0447322 acc:  0.45\n",
            "New set of weights found, iteration 2997 loss:  1.0446373 acc:  0.44\n",
            "New set of weights found, iteration 3019 loss:  1.0444779 acc:  0.45666666666666667\n",
            "New set of weights found, iteration 3033 loss:  1.0443755 acc:  0.45\n",
            "New set of weights found, iteration 3069 loss:  1.044297 acc:  0.43333333333333335\n",
            "New set of weights found, iteration 3102 loss:  1.0439073 acc:  0.43333333333333335\n",
            "New set of weights found, iteration 3119 loss:  1.0438724 acc:  0.43\n",
            "New set of weights found, iteration 3171 loss:  1.0438477 acc:  0.42\n",
            "New set of weights found, iteration 3178 loss:  1.0438021 acc:  0.41333333333333333\n",
            "New set of weights found, iteration 3279 loss:  1.0437945 acc:  0.42333333333333334\n",
            "New set of weights found, iteration 3322 loss:  1.043703 acc:  0.42\n",
            "New set of weights found, iteration 3328 loss:  1.0436513 acc:  0.41\n",
            "New set of weights found, iteration 3334 loss:  1.0436265 acc:  0.4166666666666667\n",
            "New set of weights found, iteration 3383 loss:  1.043525 acc:  0.43\n",
            "New set of weights found, iteration 3387 loss:  1.0432746 acc:  0.46\n",
            "New set of weights found, iteration 3414 loss:  1.04302 acc:  0.42333333333333334\n",
            "New set of weights found, iteration 3480 loss:  1.0426898 acc:  0.44\n",
            "New set of weights found, iteration 3619 loss:  1.0426247 acc:  0.42\n",
            "New set of weights found, iteration 3624 loss:  1.0422782 acc:  0.42333333333333334\n",
            "New set of weights found, iteration 4135 loss:  1.0419028 acc:  0.43\n",
            "New set of weights found, iteration 4171 loss:  1.0416949 acc:  0.43\n",
            "New set of weights found, iteration 4904 loss:  1.041332 acc:  0.43\n",
            "New set of weights found, iteration 4968 loss:  1.0413158 acc:  0.43333333333333335\n",
            "New set of weights found, iteration 5207 loss:  1.0410358 acc:  0.42333333333333334\n",
            "New set of weights found, iteration 5718 loss:  1.0410156 acc:  0.43\n",
            "New set of weights found, iteration 6044 loss:  1.040955 acc:  0.43666666666666665\n",
            "New set of weights found, iteration 6086 loss:  1.0407733 acc:  0.43333333333333335\n",
            "New set of weights found, iteration 6517 loss:  1.0405902 acc:  0.43\n",
            "New set of weights found, iteration 6692 loss:  1.0404191 acc:  0.45\n",
            "New set of weights found, iteration 6818 loss:  1.0403206 acc:  0.43\n",
            "New set of weights found, iteration 7080 loss:  1.0402877 acc:  0.45\n",
            "New set of weights found, iteration 7375 loss:  1.040147 acc:  0.45\n",
            "New set of weights found, iteration 7414 loss:  1.0398666 acc:  0.44\n",
            "New set of weights found, iteration 7453 loss:  1.0397941 acc:  0.43\n",
            "New set of weights found, iteration 7620 loss:  1.0395234 acc:  0.43666666666666665\n",
            "New set of weights found, iteration 7636 loss:  1.0394403 acc:  0.45666666666666667\n",
            "New set of weights found, iteration 7748 loss:  1.0394212 acc:  0.43333333333333335\n",
            "New set of weights found, iteration 7809 loss:  1.0393648 acc:  0.44333333333333336\n",
            "New set of weights found, iteration 8169 loss:  1.0391185 acc:  0.44666666666666666\n",
            "New set of weights found, iteration 9375 loss:  1.039089 acc:  0.43\n",
            "New set of weights found, iteration 9463 loss:  1.0390884 acc:  0.43333333333333335\n",
            "New set of weights found, iteration 9560 loss:  1.0390747 acc:  0.44\n",
            "New set of weights found, iteration 9566 loss:  1.0390706 acc:  0.43\n",
            "New set of weights found, iteration 9577 loss:  1.0390205 acc:  0.4633333333333333\n",
            "New set of weights found, iteration 9606 loss:  1.0389625 acc:  0.4266666666666667\n",
            "New set of weights found, iteration 9895 loss:  1.0389309 acc:  0.4633333333333333\n"
          ]
        }
      ]
    },
    {
      "cell_type": "code",
      "source": [
        "plt.plot(best_loss_list)\n",
        "plt.grid(True)\n",
        "plt.xlabel('Iterations')\n",
        "plt.ylabel('Loss')\n",
        "plt.title('Loss over iterations')"
      ],
      "metadata": {
        "colab": {
          "base_uri": "https://localhost:8080/",
          "height": 489
        },
        "id": "jy_ScG7uv6bS",
        "outputId": "19b5a17c-0883-4b74-e3dd-8bfb141fe648"
      },
      "execution_count": 28,
      "outputs": [
        {
          "output_type": "execute_result",
          "data": {
            "text/plain": [
              "Text(0.5, 1.0, 'Loss over iterations')"
            ]
          },
          "metadata": {},
          "execution_count": 28
        },
        {
          "output_type": "display_data",
          "data": {
            "text/plain": [
              "<Figure size 640x480 with 1 Axes>"
            ],
            "image/png": "[encoded data removed]"
          },
          "metadata": {}
        }
      ]
    },
    {
      "cell_type": "markdown",
      "source": [
        "# Backpropagation"
      ],
      "metadata": {
        "id": "h09Hkh2j7kDP"
      }
    },
    {
      "cell_type": "code",
      "source": [
        "import numpy as np\n",
        "import nnfs\n",
        "\n",
        "nnfs.init()\n",
        "\n",
        "softmax_outputs = np.array([[0.7,0.1,0.2],\n",
        "                            [0.1,0.5,0.4],\n",
        "                            [0.02,0.9,0.08]])\n",
        "\n",
        "class_targets = np.array([0,1,1])\n",
        "\n",
        "\n",
        "softmax_loss = Activation_Softmax_Loss_CategoricalCrossentropy()\n",
        "softmax_loss.backward(softmax_outputs, class_targets)\n",
        "dvalues1 = softmax_loss.dinputs\n",
        "\n",
        "activation = Activation_SoftMax()\n",
        "activation.output = softmax_outputs\n",
        "loss = Loss_CategoricalCrossEntropy()\n",
        "loss.backward(softmax_outputs, class_targets)\n",
        "activation.backward(loss.dinputs)\n",
        "dvalues2 = activation.dinputs\n",
        "\n",
        "print('Gradients: combined loss and activation:')\n",
        "print(dvalues1)\n",
        "\n",
        "print('Gradients: separed loss and activation:')\n",
        "print(dvalues2)"
      ],
      "metadata": {
        "colab": {
          "base_uri": "https://localhost:8080/"
        },
        "id": "gRbxffOK7f0D",
        "outputId": "c97884d7-3d7c-48f2-ee29-2be3c7df9737"
      },
      "execution_count": 29,
      "outputs": [
        {
          "output_type": "stream",
          "name": "stdout",
          "text": [
            "Gradients: combined loss and activation:\n",
            "[[-0.1         0.03333333  0.06666667]\n",
            " [ 0.03333333 -0.16666667  0.13333333]\n",
            " [ 0.00666667 -0.03333333  0.02666667]]\n",
            "Gradients: separed loss and activation:\n",
            "[[-0.09999999  0.03333334  0.06666667]\n",
            " [ 0.03333334 -0.16666667  0.13333334]\n",
            " [ 0.00666667 -0.03333333  0.02666667]]\n"
          ]
        }
      ]
    },
    {
      "cell_type": "code",
      "source": [
        "#Verifying time difference between methods\n",
        "\n",
        "from timeit import timeit\n",
        "\n",
        "nnfs.init()\n",
        "\n",
        "softmax_outputs = np.array([[0.7,0.1,0.2],\n",
        "                            [0.1,0.5,0.4],\n",
        "                            [0.02,0.9,0.08]])\n",
        "\n",
        "class_targets = np.array([0,1,1])\n",
        "\n",
        "def f1():\n",
        "  softmax_loss = Activation_Softmax_Loss_CategoricalCrossentropy()\n",
        "  softmax_loss.backward(softmax_outputs, class_targets)\n",
        "  dvalues1 = softmax_loss.dinputs\n",
        "\n",
        "def f2():\n",
        "  activation = Activation_SoftMax()\n",
        "  activation.output = softmax_outputs\n",
        "  loss = Loss_CategoricalCrossEntropy()\n",
        "  loss.backward(softmax_outputs, class_targets)\n",
        "  activation.backward(loss.dinputs)\n",
        "  dvalues2 = activation.dinputs\n",
        "\n",
        "t1 = timeit(lambda: f1(), number=10000)\n",
        "t2 = timeit(lambda: f2(), number= 10000)\n",
        "\n",
        "print('Ratio execution velocity :', t2/t1)"
      ],
      "metadata": {
        "colab": {
          "base_uri": "https://localhost:8080/"
        },
        "id": "aqAnbMo3INqs",
        "outputId": "39f37be9-0de0-472d-8362-3176afc312c5"
      },
      "execution_count": 30,
      "outputs": [
        {
          "output_type": "stream",
          "name": "stdout",
          "text": [
            "Ratio execution velocity : 8.070789504211685\n"
          ]
        }
      ]
    },
    {
      "cell_type": "code",
      "source": [
        "if __name__ == '__main__':\n",
        "  X, y = spiral_data(samples=100,classes = 3)\n",
        "  dense1 = Layer_Dense(2,3)\n",
        "  activation1 = Activation_ReLU()\n",
        "\n",
        "  dense2 = Layer_Dense(3,3)\n",
        "\n",
        "  loss_activation = Activation_Softmax_Loss_CategoricalCrossentropy()\n",
        "\n",
        "  dense1.forward(X)\n",
        "\n",
        "  activation1.forward(dense1.output)\n",
        "\n",
        "  dense2.forward(activation1.output)\n",
        "\n",
        "  loss= loss_activation.forward(dense2.output,y)\n",
        "\n",
        "  predictions = np.argmax(loss_activation.output, axis=1)\n",
        "  if len(y.shape) == 2:\n",
        "    y = np.argmax(y,axis=1)\n",
        "  acc = np.mean(predictions==y)\n",
        "  print('loss: ', loss)\n",
        "  print('acc: ', acc)\n",
        "\n",
        "  #Backward pass\n",
        "\n",
        "  loss_activation.backward(loss_activation.output,y)\n",
        "  dense2.backward(loss_activation.dinputs)\n",
        "  \n",
        "  activation1.backward(dense2.dinputs)\n",
        "  dense1.backward(activation1.dinputs)\n",
        "\n",
        "  print(dense1.weights)\n",
        "  (dense1.dbiases)\n",
        "  print(dense2.weights)\n",
        "  print(dense2.dbiases)\n",
        "  "
      ],
      "metadata": {
        "colab": {
          "base_uri": "https://localhost:8080/"
        },
        "id": "WeizknYCINtp",
        "outputId": "2dafead0-1eb3-46b1-8bd7-af074d55b5aa"
      },
      "execution_count": 31,
      "outputs": [
        {
          "output_type": "stream",
          "name": "stdout",
          "text": [
            "loss:  1.0986104\n",
            "acc:  0.34\n",
            "[[-0.01306527  0.01658131 -0.00118164]\n",
            " [-0.00680178  0.00666383 -0.0046072 ]]\n",
            "[[-0.01334258 -0.01346717  0.00693773]\n",
            " [-0.00159573 -0.00133702  0.01077744]\n",
            " [-0.01126826 -0.00730678 -0.0038488 ]]\n",
            "[[-1.0729185e-05 -9.4610732e-06  2.0027859e-05]]\n"
          ]
        }
      ]
    },
    {
      "cell_type": "markdown",
      "source": [],
      "metadata": {
        "id": "YOQRfYDZMV1J"
      }
    },
    {
      "cell_type": "markdown",
      "source": [],
      "metadata": {
        "id": "l7h7bGxmMV3M"
      }
    },
    {
      "cell_type": "markdown",
      "source": [
        "# Optimizers"
      ],
      "metadata": {
        "id": "JsnFvdWoMV4p"
      }
    },
    {
      "cell_type": "code",
      "source": [
        "class Optimizer_SGD:\n",
        "\n",
        "  def __init__(self, learning_rate = 1., decay = 0., momentum = 0.):\n",
        "    self.learning_rate = learning_rate\n",
        "    self.current_learning_rate = learning_rate\n",
        "    self.decay = decay\n",
        "    self.iterations = 0\n",
        "    self.momentum = momentum\n",
        "  \n",
        "  def pre_update_params(self):\n",
        "    if self.decay:\n",
        "      self.current_learning_rate = self.learning_rate * (1. / (1. + self.decay * self.iterations))\n",
        "\n",
        "\n",
        "  def update_params(self, layer):\n",
        "    if self.momentum:\n",
        "      if not hasattr(layer, 'weight_momentums'):\n",
        "        layer.weight_momentums = np.zeros_like(layer.weights)\n",
        "        layer.bias_momentums = np.zeros_like(layer.biases)\n",
        "        \n",
        "      weight_updates = self.momentum*layer.weight_momentums - self.current_learning_rate * layer.dweights\n",
        "      layer.weight_momentums = weight_updates\n",
        "\n",
        "      bias_updates = self.momentum*layer.bias_momentums - self.current_learning_rate * layer.dbiases\n",
        "      layer.bias_momentums = bias_updates\n",
        "   \n",
        "    #Vanilla SGD updates\n",
        "    else:\n",
        "      weight_updates = -self.current_learning_rate * layer.dweights\n",
        "      bias_updates = -self.current_learning_rate * layer.dbiases\n",
        "    \n",
        "    layer.weights += weight_updates\n",
        "    layer.biases += bias_updates\n",
        "      \n",
        "  \n",
        "  def post_update_params(self):\n",
        "    self.iterations += 1"
      ],
      "metadata": {
        "id": "wmgYkmndMX6h"
      },
      "execution_count": 32,
      "outputs": []
    },
    {
      "cell_type": "code",
      "source": [
        "#learning rate 2\n",
        "\n",
        "if __name__ == '__main__':\n",
        "\n",
        "  X, y = spiral_data(samples=100,classes = 3)\n",
        "\n",
        "  dense1 = Layer_Dense(2,64)\n",
        "  activation1 = Activation_ReLU()\n",
        "\n",
        "  dense2 = Layer_Dense(64,3)\n",
        "\n",
        "  loss_activation = Activation_Softmax_Loss_CategoricalCrossentropy() \n",
        "\n",
        "  optimizer = Optimizer_SGD(2)\n",
        "\n",
        "  best_loss_list0 = []\n",
        "  lowest_loss = 9999999\n",
        "\n",
        "  for epoch in range(10001):\n",
        "    dense1.forward(X)\n",
        "\n",
        "    activation1.forward(dense1.output)\n",
        "\n",
        "    dense2.forward(activation1.output)\n",
        "\n",
        "    loss= loss_activation.forward(dense2.output,y)\n",
        "    if loss < lowest_loss:\n",
        "      best_loss_list0.append(loss)\n",
        "      lowest_loss = loss\n",
        "    else:\n",
        "      best_loss_list0.append(lowest_loss)\n",
        "\n",
        "    predictions = np.argmax(loss_activation.output, axis=1)\n",
        "    if len(y.shape) == 2:\n",
        "      y = np.argmax(y,axis=1)\n",
        "    acc = np.mean(predictions==y)\n",
        "\n",
        "    if not epoch % 100:\n",
        "      print(f'epoch: {epoch} ' + f'loss: {round(loss, 2)} ' + f'acc: {round(acc,2)}')\n",
        "\n",
        "    #Backward pass\n",
        "\n",
        "    loss_activation.backward(loss_activation.output,y)\n",
        "    dense2.backward(loss_activation.dinputs)\n",
        "    \n",
        "    activation1.backward(dense2.dinputs)\n",
        "    dense1.backward(activation1.dinputs)\n",
        "\n",
        "    optimizer.update_params(dense1)\n",
        "    optimizer.update_params(dense2)\n"
      ],
      "metadata": {
        "colab": {
          "base_uri": "https://localhost:8080/"
        },
        "id": "xjssMeppNUY1",
        "outputId": "e0723033-ad13-413b-80cd-d92f944a9863"
      },
      "execution_count": 33,
      "outputs": [
        {
          "output_type": "stream",
          "name": "stdout",
          "text": [
            "epoch: 0 loss: 1.100000023841858 acc: 0.35\n",
            "epoch: 100 loss: 1.059999942779541 acc: 0.41\n",
            "epoch: 200 loss: 1.059999942779541 acc: 0.41\n",
            "epoch: 300 loss: 1.0499999523162842 acc: 0.39\n",
            "epoch: 400 loss: 1.0399999618530273 acc: 0.4\n",
            "epoch: 500 loss: 1.0199999809265137 acc: 0.42\n",
            "epoch: 600 loss: 1.0199999809265137 acc: 0.41\n",
            "epoch: 700 loss: 1.0099999904632568 acc: 0.43\n",
            "epoch: 800 loss: 1.0 acc: 0.43\n",
            "epoch: 900 loss: 0.9800000190734863 acc: 0.48\n",
            "epoch: 1000 loss: 0.9800000190734863 acc: 0.45\n",
            "epoch: 1100 loss: 0.9399999976158142 acc: 0.49\n",
            "epoch: 1200 loss: 0.9200000166893005 acc: 0.51\n",
            "epoch: 1300 loss: 0.8899999856948853 acc: 0.53\n",
            "epoch: 1400 loss: 0.9100000262260437 acc: 0.57\n",
            "epoch: 1500 loss: 0.8500000238418579 acc: 0.56\n",
            "epoch: 1600 loss: 0.8299999833106995 acc: 0.6\n",
            "epoch: 1700 loss: 0.8600000143051147 acc: 0.59\n",
            "epoch: 1800 loss: 0.8399999737739563 acc: 0.62\n",
            "epoch: 1900 loss: 0.75 acc: 0.64\n",
            "epoch: 2000 loss: 0.8100000023841858 acc: 0.62\n",
            "epoch: 2100 loss: 0.7400000095367432 acc: 0.66\n",
            "epoch: 2200 loss: 0.7799999713897705 acc: 0.6\n",
            "epoch: 2300 loss: 0.8100000023841858 acc: 0.62\n",
            "epoch: 2400 loss: 0.7300000190734863 acc: 0.64\n",
            "epoch: 2500 loss: 0.7900000214576721 acc: 0.59\n",
            "epoch: 2600 loss: 0.699999988079071 acc: 0.61\n",
            "epoch: 2700 loss: 0.7200000286102295 acc: 0.65\n",
            "epoch: 2800 loss: 0.7200000286102295 acc: 0.65\n",
            "epoch: 2900 loss: 0.699999988079071 acc: 0.65\n",
            "epoch: 3000 loss: 0.7200000286102295 acc: 0.66\n",
            "epoch: 3100 loss: 0.7099999785423279 acc: 0.66\n",
            "epoch: 3200 loss: 0.6600000262260437 acc: 0.68\n",
            "epoch: 3300 loss: 0.6899999976158142 acc: 0.66\n",
            "epoch: 3400 loss: 0.6899999976158142 acc: 0.67\n",
            "epoch: 3500 loss: 0.6600000262260437 acc: 0.68\n",
            "epoch: 3600 loss: 0.6299999952316284 acc: 0.7\n",
            "epoch: 3700 loss: 0.6899999976158142 acc: 0.68\n",
            "epoch: 3800 loss: 0.6100000143051147 acc: 0.68\n",
            "epoch: 3900 loss: 0.7200000286102295 acc: 0.66\n",
            "epoch: 4000 loss: 0.6100000143051147 acc: 0.75\n",
            "epoch: 4100 loss: 0.699999988079071 acc: 0.62\n",
            "epoch: 4200 loss: 0.6000000238418579 acc: 0.73\n",
            "epoch: 4300 loss: 0.5799999833106995 acc: 0.73\n",
            "epoch: 4400 loss: 0.5699999928474426 acc: 0.75\n",
            "epoch: 4500 loss: 0.550000011920929 acc: 0.73\n",
            "epoch: 4600 loss: 0.6200000047683716 acc: 0.75\n",
            "epoch: 4700 loss: 0.6100000143051147 acc: 0.71\n",
            "epoch: 4800 loss: 0.6499999761581421 acc: 0.67\n",
            "epoch: 4900 loss: 0.5699999928474426 acc: 0.74\n",
            "epoch: 5000 loss: 0.5899999737739563 acc: 0.74\n",
            "epoch: 5100 loss: 0.5400000214576721 acc: 0.72\n",
            "epoch: 5200 loss: 0.5299999713897705 acc: 0.74\n",
            "epoch: 5300 loss: 0.7200000286102295 acc: 0.65\n",
            "epoch: 5400 loss: 0.5299999713897705 acc: 0.74\n",
            "epoch: 5500 loss: 0.5299999713897705 acc: 0.77\n",
            "epoch: 5600 loss: 0.550000011920929 acc: 0.75\n",
            "epoch: 5700 loss: 0.5299999713897705 acc: 0.74\n",
            "epoch: 5800 loss: 0.49000000953674316 acc: 0.75\n",
            "epoch: 5900 loss: 0.49000000953674316 acc: 0.75\n",
            "epoch: 6000 loss: 0.47999998927116394 acc: 0.76\n",
            "epoch: 6100 loss: 0.5099999904632568 acc: 0.76\n",
            "epoch: 6200 loss: 0.5400000214576721 acc: 0.75\n",
            "epoch: 6300 loss: 0.49000000953674316 acc: 0.74\n",
            "epoch: 6400 loss: 0.3799999952316284 acc: 0.81\n",
            "epoch: 6500 loss: 0.36000001430511475 acc: 0.81\n",
            "epoch: 6600 loss: 0.550000011920929 acc: 0.76\n",
            "epoch: 6700 loss: 0.4699999988079071 acc: 0.8\n",
            "epoch: 6800 loss: 0.41999998688697815 acc: 0.81\n",
            "epoch: 6900 loss: 0.5400000214576721 acc: 0.75\n",
            "epoch: 7000 loss: 0.46000000834465027 acc: 0.79\n",
            "epoch: 7100 loss: 0.44999998807907104 acc: 0.8\n",
            "epoch: 7200 loss: 0.44999998807907104 acc: 0.8\n",
            "epoch: 7300 loss: 0.44999998807907104 acc: 0.8\n",
            "epoch: 7400 loss: 0.41999998688697815 acc: 0.8\n",
            "epoch: 7500 loss: 0.5400000214576721 acc: 0.76\n",
            "epoch: 7600 loss: 0.4399999976158142 acc: 0.81\n",
            "epoch: 7700 loss: 0.4000000059604645 acc: 0.81\n",
            "epoch: 7800 loss: 0.3700000047683716 acc: 0.81\n",
            "epoch: 7900 loss: 0.46000000834465027 acc: 0.77\n",
            "epoch: 8000 loss: 0.4399999976158142 acc: 0.78\n",
            "epoch: 8100 loss: 0.44999998807907104 acc: 0.8\n",
            "epoch: 8200 loss: 0.4699999988079071 acc: 0.8\n",
            "epoch: 8300 loss: 0.4699999988079071 acc: 0.77\n",
            "epoch: 8400 loss: 0.4099999964237213 acc: 0.78\n",
            "epoch: 8500 loss: 0.49000000953674316 acc: 0.76\n",
            "epoch: 8600 loss: 0.44999998807907104 acc: 0.81\n",
            "epoch: 8700 loss: 0.49000000953674316 acc: 0.76\n",
            "epoch: 8800 loss: 0.4399999976158142 acc: 0.79\n",
            "epoch: 8900 loss: 0.49000000953674316 acc: 0.76\n",
            "epoch: 9000 loss: 0.3799999952316284 acc: 0.79\n",
            "epoch: 9100 loss: 1.2599999904632568 acc: 0.64\n",
            "epoch: 9200 loss: 0.4399999976158142 acc: 0.81\n",
            "epoch: 9300 loss: 0.47999998927116394 acc: 0.77\n",
            "epoch: 9400 loss: 0.38999998569488525 acc: 0.77\n",
            "epoch: 9500 loss: 0.4300000071525574 acc: 0.8\n",
            "epoch: 9600 loss: 0.41999998688697815 acc: 0.82\n",
            "epoch: 9700 loss: 0.44999998807907104 acc: 0.81\n",
            "epoch: 9800 loss: 0.41999998688697815 acc: 0.81\n",
            "epoch: 9900 loss: 0.36000001430511475 acc: 0.83\n",
            "epoch: 10000 loss: 0.36000001430511475 acc: 0.82\n"
          ]
        }
      ]
    },
    {
      "cell_type": "code",
      "source": [
        "#learning rate 1\n",
        "\n",
        "if __name__ == '__main__':\n",
        "\n",
        "  X, y = spiral_data(samples=100,classes = 3)\n",
        "\n",
        "  dense1 = Layer_Dense(2,64)\n",
        "  activation1 = Activation_ReLU()\n",
        "\n",
        "  dense2 = Layer_Dense(64,3)\n",
        "\n",
        "  loss_activation = Activation_Softmax_Loss_CategoricalCrossentropy() \n",
        "\n",
        "  optimizer = Optimizer_SGD(1)\n",
        "\n",
        "  best_loss_list1 = []\n",
        "  lowest_loss = 9999999\n",
        "\n",
        "  for epoch in range(10001):\n",
        "    dense1.forward(X)\n",
        "\n",
        "    activation1.forward(dense1.output)\n",
        "\n",
        "    dense2.forward(activation1.output)\n",
        "\n",
        "    loss= loss_activation.forward(dense2.output,y)\n",
        "    if loss < lowest_loss:\n",
        "      best_loss_list1.append(loss)\n",
        "      lowest_loss = loss\n",
        "    else:\n",
        "      best_loss_list1.append(lowest_loss)\n",
        "\n",
        "    predictions = np.argmax(loss_activation.output, axis=1)\n",
        "    if len(y.shape) == 2:\n",
        "      y = np.argmax(y,axis=1)\n",
        "    acc = np.mean(predictions==y)\n",
        "\n",
        "    if not epoch % 100:\n",
        "      print(f'epoch: {epoch} ' + f'loss: {round(loss, 2)} ' + f'acc: {round(acc,2)}')\n",
        "\n",
        "    #Backward pass\n",
        "\n",
        "    loss_activation.backward(loss_activation.output,y)\n",
        "    dense2.backward(loss_activation.dinputs)\n",
        "    \n",
        "    activation1.backward(dense2.dinputs)\n",
        "    dense1.backward(activation1.dinputs)\n",
        "\n",
        "    optimizer.update_params(dense1)\n",
        "    optimizer.update_params(dense2)\n"
      ],
      "metadata": {
        "colab": {
          "base_uri": "https://localhost:8080/"
        },
        "id": "XsbFGCxySA9P",
        "outputId": "418321a3-ef16-4c57-97fd-1eb57e9b9416"
      },
      "execution_count": 34,
      "outputs": [
        {
          "output_type": "stream",
          "name": "stdout",
          "text": [
            "epoch: 0 loss: 1.100000023841858 acc: 0.37\n",
            "epoch: 100 loss: 1.0700000524520874 acc: 0.42\n",
            "epoch: 200 loss: 1.059999942779541 acc: 0.41\n",
            "epoch: 300 loss: 1.059999942779541 acc: 0.41\n",
            "epoch: 400 loss: 1.059999942779541 acc: 0.42\n",
            "epoch: 500 loss: 1.059999942779541 acc: 0.42\n",
            "epoch: 600 loss: 1.059999942779541 acc: 0.42\n",
            "epoch: 700 loss: 1.059999942779541 acc: 0.42\n",
            "epoch: 800 loss: 1.0499999523162842 acc: 0.43\n",
            "epoch: 900 loss: 1.0399999618530273 acc: 0.45\n",
            "epoch: 1000 loss: 1.0199999809265137 acc: 0.46\n",
            "epoch: 1100 loss: 1.0199999809265137 acc: 0.42\n",
            "epoch: 1200 loss: 1.0099999904632568 acc: 0.42\n",
            "epoch: 1300 loss: 1.0199999809265137 acc: 0.41\n",
            "epoch: 1400 loss: 0.9900000095367432 acc: 0.42\n",
            "epoch: 1500 loss: 1.0199999809265137 acc: 0.4\n",
            "epoch: 1600 loss: 0.9900000095367432 acc: 0.41\n",
            "epoch: 1700 loss: 0.9900000095367432 acc: 0.44\n",
            "epoch: 1800 loss: 0.9900000095367432 acc: 0.44\n",
            "epoch: 1900 loss: 0.9800000190734863 acc: 0.5\n",
            "epoch: 2000 loss: 0.9800000190734863 acc: 0.52\n",
            "epoch: 2100 loss: 0.9800000190734863 acc: 0.43\n",
            "epoch: 2200 loss: 0.9900000095367432 acc: 0.41\n",
            "epoch: 2300 loss: 0.9599999785423279 acc: 0.52\n",
            "epoch: 2400 loss: 0.949999988079071 acc: 0.47\n",
            "epoch: 2500 loss: 0.9399999976158142 acc: 0.51\n",
            "epoch: 2600 loss: 0.9700000286102295 acc: 0.49\n",
            "epoch: 2700 loss: 0.9599999785423279 acc: 0.51\n",
            "epoch: 2800 loss: 0.9300000071525574 acc: 0.56\n",
            "epoch: 2900 loss: 0.8899999856948853 acc: 0.58\n",
            "epoch: 3000 loss: 0.8799999952316284 acc: 0.54\n",
            "epoch: 3100 loss: 0.8700000047683716 acc: 0.61\n",
            "epoch: 3200 loss: 0.8700000047683716 acc: 0.58\n",
            "epoch: 3300 loss: 0.8199999928474426 acc: 0.6\n",
            "epoch: 3400 loss: 0.8299999833106995 acc: 0.61\n",
            "epoch: 3500 loss: 0.8299999833106995 acc: 0.58\n",
            "epoch: 3600 loss: 0.7900000214576721 acc: 0.6\n",
            "epoch: 3700 loss: 0.8399999737739563 acc: 0.53\n",
            "epoch: 3800 loss: 0.7799999713897705 acc: 0.63\n",
            "epoch: 3900 loss: 0.7200000286102295 acc: 0.68\n",
            "epoch: 4000 loss: 0.7200000286102295 acc: 0.65\n",
            "epoch: 4100 loss: 0.7599999904632568 acc: 0.62\n",
            "epoch: 4200 loss: 0.6899999976158142 acc: 0.69\n",
            "epoch: 4300 loss: 0.6899999976158142 acc: 0.67\n",
            "epoch: 4400 loss: 0.9599999785423279 acc: 0.51\n",
            "epoch: 4500 loss: 0.7099999785423279 acc: 0.67\n",
            "epoch: 4600 loss: 0.699999988079071 acc: 0.66\n",
            "epoch: 4700 loss: 0.7400000095367432 acc: 0.65\n",
            "epoch: 4800 loss: 0.699999988079071 acc: 0.67\n",
            "epoch: 4900 loss: 0.6399999856948853 acc: 0.7\n",
            "epoch: 5000 loss: 0.6600000262260437 acc: 0.68\n",
            "epoch: 5100 loss: 0.6600000262260437 acc: 0.69\n",
            "epoch: 5200 loss: 0.6499999761581421 acc: 0.7\n",
            "epoch: 5300 loss: 0.6000000238418579 acc: 0.71\n",
            "epoch: 5400 loss: 0.6100000143051147 acc: 0.71\n",
            "epoch: 5500 loss: 0.7900000214576721 acc: 0.6\n",
            "epoch: 5600 loss: 1.25 acc: 0.5\n",
            "epoch: 5700 loss: 0.6700000166893005 acc: 0.68\n",
            "epoch: 5800 loss: 0.6200000047683716 acc: 0.71\n",
            "epoch: 5900 loss: 0.6000000238418579 acc: 0.72\n",
            "epoch: 6000 loss: 0.6000000238418579 acc: 0.73\n",
            "epoch: 6100 loss: 0.6000000238418579 acc: 0.73\n",
            "epoch: 6200 loss: 0.6100000143051147 acc: 0.73\n",
            "epoch: 6300 loss: 0.6100000143051147 acc: 0.72\n",
            "epoch: 6400 loss: 0.6200000047683716 acc: 0.72\n",
            "epoch: 6500 loss: 0.6299999952316284 acc: 0.71\n",
            "epoch: 6600 loss: 0.6000000238418579 acc: 0.73\n",
            "epoch: 6700 loss: 0.6499999761581421 acc: 0.69\n",
            "epoch: 6800 loss: 0.9599999785423279 acc: 0.57\n",
            "epoch: 6900 loss: 0.6100000143051147 acc: 0.71\n",
            "epoch: 7000 loss: 0.6000000238418579 acc: 0.73\n",
            "epoch: 7100 loss: 0.6299999952316284 acc: 0.73\n",
            "epoch: 7200 loss: 0.7099999785423279 acc: 0.68\n",
            "epoch: 7300 loss: 0.6299999952316284 acc: 0.7\n",
            "epoch: 7400 loss: 0.5899999737739563 acc: 0.74\n",
            "epoch: 7500 loss: 0.6200000047683716 acc: 0.73\n",
            "epoch: 7600 loss: 0.6000000238418579 acc: 0.73\n",
            "epoch: 7700 loss: 0.6000000238418579 acc: 0.71\n",
            "epoch: 7800 loss: 0.6000000238418579 acc: 0.74\n",
            "epoch: 7900 loss: 0.9100000262260437 acc: 0.6\n",
            "epoch: 8000 loss: 0.550000011920929 acc: 0.72\n",
            "epoch: 8100 loss: 1.0099999904632568 acc: 0.59\n",
            "epoch: 8200 loss: 0.5799999833106995 acc: 0.73\n",
            "epoch: 8300 loss: 0.5899999737739563 acc: 0.73\n",
            "epoch: 8400 loss: 0.5899999737739563 acc: 0.71\n",
            "epoch: 8500 loss: 0.5699999928474426 acc: 0.72\n",
            "epoch: 8600 loss: 0.6100000143051147 acc: 0.71\n",
            "epoch: 8700 loss: 0.5899999737739563 acc: 0.73\n",
            "epoch: 8800 loss: 0.5799999833106995 acc: 0.72\n",
            "epoch: 8900 loss: 1.5 acc: 0.5\n",
            "epoch: 9000 loss: 0.5899999737739563 acc: 0.73\n",
            "epoch: 9100 loss: 1.3799999952316284 acc: 0.52\n",
            "epoch: 9200 loss: 0.6000000238418579 acc: 0.74\n",
            "epoch: 9300 loss: 0.5899999737739563 acc: 0.73\n",
            "epoch: 9400 loss: 0.5699999928474426 acc: 0.72\n",
            "epoch: 9500 loss: 0.5600000023841858 acc: 0.73\n",
            "epoch: 9600 loss: 0.5600000023841858 acc: 0.71\n",
            "epoch: 9700 loss: 0.5799999833106995 acc: 0.73\n",
            "epoch: 9800 loss: 1.0499999523162842 acc: 0.59\n",
            "epoch: 9900 loss: 0.5799999833106995 acc: 0.74\n",
            "epoch: 10000 loss: 0.5600000023841858 acc: 0.73\n"
          ]
        }
      ]
    },
    {
      "cell_type": "code",
      "source": [
        "#learning rate 0.5\n",
        "\n",
        "if __name__ == '__main__':\n",
        "\n",
        "  X, y = spiral_data(samples=100,classes = 3)\n",
        "\n",
        "  dense1 = Layer_Dense(2,64)\n",
        "  activation1 = Activation_ReLU()\n",
        "\n",
        "  dense2 = Layer_Dense(64,3)\n",
        "\n",
        "  loss_activation = Activation_Softmax_Loss_CategoricalCrossentropy() \n",
        "\n",
        "  optimizer = Optimizer_SGD(0.5)\n",
        "\n",
        "  best_loss_list2 = []\n",
        "  lowest_loss = 9999999\n",
        "\n",
        "  for epoch in range(10001):\n",
        "    dense1.forward(X)\n",
        "\n",
        "    activation1.forward(dense1.output)\n",
        "\n",
        "    dense2.forward(activation1.output)\n",
        "\n",
        "    loss= loss_activation.forward(dense2.output,y)\n",
        "    if loss < lowest_loss:\n",
        "      best_loss_list2.append(loss)\n",
        "      lowest_loss = loss\n",
        "    else:\n",
        "      best_loss_list2.append(lowest_loss)\n",
        "\n",
        "    predictions = np.argmax(loss_activation.output, axis=1)\n",
        "    if len(y.shape) == 2:\n",
        "      y = np.argmax(y,axis=1)\n",
        "    acc = np.mean(predictions==y)\n",
        "\n",
        "    if not epoch % 100:\n",
        "      print(f'epoch: {epoch} ' + f'loss: {round(loss, 2)} ' + f'acc: {round(acc,2)}')\n",
        "\n",
        "    #Backward pass\n",
        "\n",
        "    loss_activation.backward(loss_activation.output,y)\n",
        "    dense2.backward(loss_activation.dinputs)\n",
        "    \n",
        "    activation1.backward(dense2.dinputs)\n",
        "    dense1.backward(activation1.dinputs)\n",
        "\n",
        "    optimizer.update_params(dense1)\n",
        "    optimizer.update_params(dense2)\n"
      ],
      "metadata": {
        "colab": {
          "base_uri": "https://localhost:8080/"
        },
        "id": "NETlN2iBTGxm",
        "outputId": "825facc2-7cc3-4f29-a6a4-302ecef9c15d"
      },
      "execution_count": 35,
      "outputs": [
        {
          "output_type": "stream",
          "name": "stdout",
          "text": [
            "epoch: 0 loss: 1.100000023841858 acc: 0.35\n",
            "epoch: 100 loss: 1.100000023841858 acc: 0.38\n",
            "epoch: 200 loss: 1.0800000429153442 acc: 0.39\n",
            "epoch: 300 loss: 1.0800000429153442 acc: 0.4\n",
            "epoch: 400 loss: 1.0700000524520874 acc: 0.42\n",
            "epoch: 500 loss: 1.0700000524520874 acc: 0.41\n",
            "epoch: 600 loss: 1.0700000524520874 acc: 0.41\n",
            "epoch: 700 loss: 1.0700000524520874 acc: 0.41\n",
            "epoch: 800 loss: 1.0700000524520874 acc: 0.42\n",
            "epoch: 900 loss: 1.0700000524520874 acc: 0.42\n",
            "epoch: 1000 loss: 1.0700000524520874 acc: 0.41\n",
            "epoch: 1100 loss: 1.0700000524520874 acc: 0.4\n",
            "epoch: 1200 loss: 1.0700000524520874 acc: 0.39\n",
            "epoch: 1300 loss: 1.0700000524520874 acc: 0.4\n",
            "epoch: 1400 loss: 1.059999942779541 acc: 0.39\n",
            "epoch: 1500 loss: 1.059999942779541 acc: 0.4\n",
            "epoch: 1600 loss: 1.059999942779541 acc: 0.39\n",
            "epoch: 1700 loss: 1.0499999523162842 acc: 0.43\n",
            "epoch: 1800 loss: 1.0399999618530273 acc: 0.44\n",
            "epoch: 1900 loss: 1.0199999809265137 acc: 0.44\n",
            "epoch: 2000 loss: 1.0099999904632568 acc: 0.42\n",
            "epoch: 2100 loss: 1.0199999809265137 acc: 0.44\n",
            "epoch: 2200 loss: 1.0199999809265137 acc: 0.43\n",
            "epoch: 2300 loss: 1.0099999904632568 acc: 0.44\n",
            "epoch: 2400 loss: 1.0099999904632568 acc: 0.44\n",
            "epoch: 2500 loss: 1.0 acc: 0.44\n",
            "epoch: 2600 loss: 1.0 acc: 0.44\n",
            "epoch: 2700 loss: 1.0 acc: 0.44\n",
            "epoch: 2800 loss: 0.9900000095367432 acc: 0.43\n",
            "epoch: 2900 loss: 0.9900000095367432 acc: 0.43\n",
            "epoch: 3000 loss: 0.9900000095367432 acc: 0.43\n",
            "epoch: 3100 loss: 0.9900000095367432 acc: 0.43\n",
            "epoch: 3200 loss: 0.9800000190734863 acc: 0.42\n",
            "epoch: 3300 loss: 0.9800000190734863 acc: 0.42\n",
            "epoch: 3400 loss: 0.9800000190734863 acc: 0.42\n",
            "epoch: 3500 loss: 0.9700000286102295 acc: 0.43\n",
            "epoch: 3600 loss: 0.9700000286102295 acc: 0.43\n",
            "epoch: 3700 loss: 0.9700000286102295 acc: 0.44\n",
            "epoch: 3800 loss: 0.9700000286102295 acc: 0.46\n",
            "epoch: 3900 loss: 0.9599999785423279 acc: 0.46\n",
            "epoch: 4000 loss: 0.9599999785423279 acc: 0.47\n",
            "epoch: 4100 loss: 0.9700000286102295 acc: 0.55\n",
            "epoch: 4200 loss: 0.9599999785423279 acc: 0.46\n",
            "epoch: 4300 loss: 0.9599999785423279 acc: 0.48\n",
            "epoch: 4400 loss: 0.9700000286102295 acc: 0.47\n",
            "epoch: 4500 loss: 0.9800000190734863 acc: 0.43\n",
            "epoch: 4600 loss: 0.9800000190734863 acc: 0.48\n",
            "epoch: 4700 loss: 0.9700000286102295 acc: 0.54\n",
            "epoch: 4800 loss: 0.9599999785423279 acc: 0.56\n",
            "epoch: 4900 loss: 0.9599999785423279 acc: 0.46\n",
            "epoch: 5000 loss: 0.9700000286102295 acc: 0.48\n",
            "epoch: 5100 loss: 0.949999988079071 acc: 0.47\n",
            "epoch: 5200 loss: 0.9700000286102295 acc: 0.52\n",
            "epoch: 5300 loss: 0.9599999785423279 acc: 0.53\n",
            "epoch: 5400 loss: 0.949999988079071 acc: 0.48\n",
            "epoch: 5500 loss: 0.9700000286102295 acc: 0.53\n",
            "epoch: 5600 loss: 0.9800000190734863 acc: 0.51\n",
            "epoch: 5700 loss: 0.9599999785423279 acc: 0.53\n",
            "epoch: 5800 loss: 0.949999988079071 acc: 0.55\n",
            "epoch: 5900 loss: 0.9599999785423279 acc: 0.48\n",
            "epoch: 6000 loss: 0.9700000286102295 acc: 0.55\n",
            "epoch: 6100 loss: 0.9399999976158142 acc: 0.52\n",
            "epoch: 6200 loss: 0.9599999785423279 acc: 0.52\n",
            "epoch: 6300 loss: 0.9399999976158142 acc: 0.52\n",
            "epoch: 6400 loss: 0.949999988079071 acc: 0.49\n",
            "epoch: 6500 loss: 0.9700000286102295 acc: 0.48\n",
            "epoch: 6600 loss: 0.9700000286102295 acc: 0.55\n",
            "epoch: 6700 loss: 0.949999988079071 acc: 0.46\n",
            "epoch: 6800 loss: 0.9599999785423279 acc: 0.57\n",
            "epoch: 6900 loss: 0.9300000071525574 acc: 0.5\n",
            "epoch: 7000 loss: 0.9599999785423279 acc: 0.48\n",
            "epoch: 7100 loss: 0.9700000286102295 acc: 0.54\n",
            "epoch: 7200 loss: 0.9900000095367432 acc: 0.46\n",
            "epoch: 7300 loss: 0.9599999785423279 acc: 0.56\n",
            "epoch: 7400 loss: 0.9300000071525574 acc: 0.5\n",
            "epoch: 7500 loss: 0.9599999785423279 acc: 0.49\n",
            "epoch: 7600 loss: 0.9599999785423279 acc: 0.51\n",
            "epoch: 7700 loss: 0.9599999785423279 acc: 0.47\n",
            "epoch: 7800 loss: 0.9599999785423279 acc: 0.56\n",
            "epoch: 7900 loss: 0.9300000071525574 acc: 0.52\n",
            "epoch: 8000 loss: 0.949999988079071 acc: 0.47\n",
            "epoch: 8100 loss: 0.9599999785423279 acc: 0.5\n",
            "epoch: 8200 loss: 0.9399999976158142 acc: 0.47\n",
            "epoch: 8300 loss: 0.949999988079071 acc: 0.57\n",
            "epoch: 8400 loss: 0.9599999785423279 acc: 0.52\n",
            "epoch: 8500 loss: 0.9700000286102295 acc: 0.5\n",
            "epoch: 8600 loss: 0.9599999785423279 acc: 0.54\n",
            "epoch: 8700 loss: 0.9300000071525574 acc: 0.52\n",
            "epoch: 8800 loss: 0.9599999785423279 acc: 0.51\n",
            "epoch: 8900 loss: 0.9599999785423279 acc: 0.55\n",
            "epoch: 9000 loss: 0.9599999785423279 acc: 0.47\n",
            "epoch: 9100 loss: 0.949999988079071 acc: 0.56\n",
            "epoch: 9200 loss: 0.9200000166893005 acc: 0.52\n",
            "epoch: 9300 loss: 0.9399999976158142 acc: 0.48\n",
            "epoch: 9400 loss: 0.9399999976158142 acc: 0.51\n",
            "epoch: 9500 loss: 0.9300000071525574 acc: 0.51\n",
            "epoch: 9600 loss: 0.9399999976158142 acc: 0.57\n",
            "epoch: 9700 loss: 0.9599999785423279 acc: 0.54\n",
            "epoch: 9800 loss: 0.9599999785423279 acc: 0.51\n",
            "epoch: 9900 loss: 0.9300000071525574 acc: 0.57\n",
            "epoch: 10000 loss: 0.949999988079071 acc: 0.54\n"
          ]
        }
      ]
    },
    {
      "cell_type": "code",
      "source": [
        "plt.plot(best_loss_list0)\n",
        "plt.plot(best_loss_list1)\n",
        "plt.plot(best_loss_list2)\n",
        "plt.grid(True)\n",
        "plt.xlabel('Iterations')\n",
        "plt.ylabel('Loss')\n",
        "plt.title('Loss over iterations')\n",
        "plt.legend(['lr = 2', 'lr = 1', 'lr = 0.5'])\n",
        "plt.show()"
      ],
      "metadata": {
        "colab": {
          "base_uri": "https://localhost:8080/",
          "height": 472
        },
        "id": "7RZLb2ErQ8m0",
        "outputId": "ca89f229-e36b-4ab0-feef-23070be368dc"
      },
      "execution_count": 36,
      "outputs": [
        {
          "output_type": "display_data",
          "data": {
            "text/plain": [
              "<Figure size 640x480 with 1 Axes>"
            ],
            "image/png": "[encoded data removed]"
          },
          "metadata": {}
        }
      ]
    },
    {
      "cell_type": "markdown",
      "source": [
        "#Learning rate decay"
      ],
      "metadata": {
        "id": "E_ovw9I-UXa1"
      }
    },
    {
      "cell_type": "code",
      "source": [
        "#learning rate 2\n",
        "\n",
        "if __name__ == '__main__':\n",
        "\n",
        "  X, y = spiral_data(samples=100,classes = 3)\n",
        "\n",
        "  dense1 = Layer_Dense(2,64)\n",
        "  activation1 = Activation_ReLU()\n",
        "\n",
        "  dense2 = Layer_Dense(64,3)\n",
        "\n",
        "  loss_activation = Activation_Softmax_Loss_CategoricalCrossentropy() \n",
        "\n",
        "  optimizer = Optimizer_SGD(decay = 1e-3)\n",
        "\n",
        "  best_loss_list = []\n",
        "  learning_rate_list = []\n",
        "  accuracy_list = []\n",
        "  lowest_loss = 9999999\n",
        "  highest_accuracy = 0\n",
        "\n",
        "  for epoch in range(10001):\n",
        "    dense1.forward(X)\n",
        "\n",
        "    activation1.forward(dense1.output)\n",
        "\n",
        "    dense2.forward(activation1.output)\n",
        "\n",
        "    loss= loss_activation.forward(dense2.output,y)\n",
        "    if loss < lowest_loss:\n",
        "      best_loss_list.append(loss)\n",
        "      lowest_loss = loss\n",
        "    else:\n",
        "      best_loss_list.append(lowest_loss)\n",
        "\n",
        "    predictions = np.argmax(loss_activation.output, axis=1)\n",
        "    if len(y.shape) == 2:\n",
        "      y = np.argmax(y,axis=1)\n",
        "    acc = np.mean(predictions==y)\n",
        "    if acc > highest_accuracy:\n",
        "      accuracy_list.append(acc)\n",
        "      highest_accuracy = acc\n",
        "    else:\n",
        "      accuracy_list.append(highest_accuracy)\n",
        "\n",
        "\n",
        "    if not epoch % 100:\n",
        "      print(f'epoch: {epoch} ' +\n",
        "            f'loss: {round(loss, 2)} ' +\n",
        "            f'acc: {round(acc,2)} ' + \n",
        "            f'lr: {optimizer.current_learning_rate}')\n",
        "\n",
        "    #Backward pass\n",
        "\n",
        "    loss_activation.backward(loss_activation.output,y)\n",
        "    dense2.backward(loss_activation.dinputs)\n",
        "    \n",
        "    activation1.backward(dense2.dinputs)\n",
        "    dense1.backward(activation1.dinputs)\n",
        "\n",
        "    optimizer.pre_update_params()\n",
        "    optimizer.update_params(dense1)\n",
        "    optimizer.update_params(dense2)\n",
        "    optimizer.post_update_params()\n",
        "    \n",
        "    learning_rate_list.append(optimizer.current_learning_rate)\n"
      ],
      "metadata": {
        "colab": {
          "base_uri": "https://localhost:8080/"
        },
        "id": "PWI_uXbgT-p8",
        "outputId": "8f857a8e-9684-4d34-9d60-cbd6fcb1ae27"
      },
      "execution_count": 37,
      "outputs": [
        {
          "output_type": "stream",
          "name": "stdout",
          "text": [
            "epoch: 0 loss: 1.100000023841858 acc: 0.34 lr: 1.0\n",
            "epoch: 100 loss: 1.0800000429153442 acc: 0.42 lr: 0.9099181073703367\n",
            "epoch: 200 loss: 1.0700000524520874 acc: 0.42 lr: 0.8340283569641367\n",
            "epoch: 300 loss: 1.0700000524520874 acc: 0.43 lr: 0.7698229407236336\n",
            "epoch: 400 loss: 1.0700000524520874 acc: 0.42 lr: 0.7147962830593281\n",
            "epoch: 500 loss: 1.059999942779541 acc: 0.43 lr: 0.66711140760507\n",
            "epoch: 600 loss: 1.059999942779541 acc: 0.43 lr: 0.6253908692933083\n",
            "epoch: 700 loss: 1.059999942779541 acc: 0.44 lr: 0.5885815185403178\n",
            "epoch: 800 loss: 1.0499999523162842 acc: 0.43 lr: 0.5558643690939411\n",
            "epoch: 900 loss: 1.0399999618530273 acc: 0.43 lr: 0.526592943654555\n",
            "epoch: 1000 loss: 1.0299999713897705 acc: 0.45 lr: 0.5002501250625312\n",
            "epoch: 1100 loss: 1.0199999809265137 acc: 0.49 lr: 0.4764173415912339\n",
            "epoch: 1200 loss: 1.0099999904632568 acc: 0.5 lr: 0.45475216007276037\n",
            "epoch: 1300 loss: 1.0099999904632568 acc: 0.5 lr: 0.43497172683775553\n",
            "epoch: 1400 loss: 1.0 acc: 0.51 lr: 0.4168403501458941\n",
            "epoch: 1500 loss: 0.9900000095367432 acc: 0.51 lr: 0.4001600640256102\n",
            "epoch: 1600 loss: 0.9800000190734863 acc: 0.51 lr: 0.3847633705271258\n",
            "epoch: 1700 loss: 0.9700000286102295 acc: 0.52 lr: 0.3705075954057058\n",
            "epoch: 1800 loss: 0.9700000286102295 acc: 0.51 lr: 0.35727045373347627\n",
            "epoch: 1900 loss: 0.9700000286102295 acc: 0.47 lr: 0.3449465332873405\n",
            "epoch: 2000 loss: 0.9700000286102295 acc: 0.49 lr: 0.33344448149383127\n",
            "epoch: 2100 loss: 0.9599999785423279 acc: 0.5 lr: 0.32268473701193934\n",
            "epoch: 2200 loss: 0.9599999785423279 acc: 0.5 lr: 0.31259768677711786\n",
            "epoch: 2300 loss: 0.949999988079071 acc: 0.51 lr: 0.3031221582297666\n",
            "epoch: 2400 loss: 0.949999988079071 acc: 0.51 lr: 0.29420417769932333\n",
            "epoch: 2500 loss: 0.9399999976158142 acc: 0.52 lr: 0.2857959416976279\n",
            "epoch: 2600 loss: 0.9399999976158142 acc: 0.51 lr: 0.2778549597110308\n",
            "epoch: 2700 loss: 0.9399999976158142 acc: 0.51 lr: 0.2703433360367667\n",
            "epoch: 2800 loss: 0.9300000071525574 acc: 0.52 lr: 0.26322716504343247\n",
            "epoch: 2900 loss: 0.9300000071525574 acc: 0.52 lr: 0.25647601949217746\n",
            "epoch: 3000 loss: 0.9300000071525574 acc: 0.51 lr: 0.25006251562890724\n",
            "epoch: 3100 loss: 0.9200000166893005 acc: 0.51 lr: 0.2439619419370578\n",
            "epoch: 3200 loss: 0.9200000166893005 acc: 0.52 lr: 0.23815194093831865\n",
            "epoch: 3300 loss: 0.9200000166893005 acc: 0.52 lr: 0.23261223540358225\n",
            "epoch: 3400 loss: 0.9100000262260437 acc: 0.52 lr: 0.22732439190725165\n",
            "epoch: 3500 loss: 0.9100000262260437 acc: 0.53 lr: 0.22227161591464767\n",
            "epoch: 3600 loss: 0.8999999761581421 acc: 0.52 lr: 0.21743857360295715\n",
            "epoch: 3700 loss: 0.8999999761581421 acc: 0.52 lr: 0.21281123643328367\n",
            "epoch: 3800 loss: 0.8999999761581421 acc: 0.52 lr: 0.20837674515524068\n",
            "epoch: 3900 loss: 0.8899999856948853 acc: 0.54 lr: 0.20412329046744235\n",
            "epoch: 4000 loss: 0.8799999952316284 acc: 0.54 lr: 0.2000400080016003\n",
            "epoch: 4100 loss: 0.8799999952316284 acc: 0.55 lr: 0.19611688566385566\n",
            "epoch: 4200 loss: 0.8799999952316284 acc: 0.55 lr: 0.19234468166955185\n",
            "epoch: 4300 loss: 0.8700000047683716 acc: 0.56 lr: 0.18871485185884126\n",
            "epoch: 4400 loss: 0.8700000047683716 acc: 0.56 lr: 0.18521948508983144\n",
            "epoch: 4500 loss: 0.8600000143051147 acc: 0.56 lr: 0.18185124568103292\n",
            "epoch: 4600 loss: 0.8600000143051147 acc: 0.58 lr: 0.1786033220217896\n",
            "epoch: 4700 loss: 0.8600000143051147 acc: 0.58 lr: 0.1754693805930865\n",
            "epoch: 4800 loss: 0.8500000238418579 acc: 0.58 lr: 0.17244352474564578\n",
            "epoch: 4900 loss: 0.8500000238418579 acc: 0.58 lr: 0.16952025767079165\n",
            "epoch: 5000 loss: 0.8399999737739563 acc: 0.59 lr: 0.16669444907484582\n",
            "epoch: 5100 loss: 0.8399999737739563 acc: 0.59 lr: 0.16396130513198884\n",
            "epoch: 5200 loss: 0.8299999833106995 acc: 0.59 lr: 0.16131634134537828\n",
            "epoch: 5300 loss: 0.8299999833106995 acc: 0.59 lr: 0.15875535799333226\n",
            "epoch: 5400 loss: 0.8299999833106995 acc: 0.6 lr: 0.1562744178777934\n",
            "epoch: 5500 loss: 0.8199999928474426 acc: 0.6 lr: 0.15386982612709646\n",
            "epoch: 5600 loss: 0.8199999928474426 acc: 0.6 lr: 0.15153811183512653\n",
            "epoch: 5700 loss: 0.8199999928474426 acc: 0.6 lr: 0.14927601134497687\n",
            "epoch: 5800 loss: 0.8100000023841858 acc: 0.6 lr: 0.14708045300779526\n",
            "epoch: 5900 loss: 0.8100000023841858 acc: 0.6 lr: 0.14494854326714016\n",
            "epoch: 6000 loss: 0.800000011920929 acc: 0.61 lr: 0.1428775539362766\n",
            "epoch: 6100 loss: 0.800000011920929 acc: 0.61 lr: 0.1408649105507818\n",
            "epoch: 6200 loss: 0.800000011920929 acc: 0.62 lr: 0.13890818169190167\n",
            "epoch: 6300 loss: 0.800000011920929 acc: 0.63 lr: 0.13700506918755992\n",
            "epoch: 6400 loss: 0.7900000214576721 acc: 0.64 lr: 0.13515339910798757\n",
            "epoch: 6500 loss: 0.7900000214576721 acc: 0.63 lr: 0.13335111348179757\n",
            "epoch: 6600 loss: 0.7799999713897705 acc: 0.64 lr: 0.13159626266614027\n",
            "epoch: 6700 loss: 0.7799999713897705 acc: 0.64 lr: 0.12988699831146902\n",
            "epoch: 6800 loss: 0.7799999713897705 acc: 0.66 lr: 0.12822156686754713\n",
            "epoch: 6900 loss: 0.7699999809265137 acc: 0.66 lr: 0.126598303582732\n",
            "epoch: 7000 loss: 0.7699999809265137 acc: 0.66 lr: 0.12501562695336915\n",
            "epoch: 7100 loss: 0.7699999809265137 acc: 0.66 lr: 0.12347203358439313\n",
            "epoch: 7200 loss: 0.7599999904632568 acc: 0.67 lr: 0.12196609342602757\n",
            "epoch: 7300 loss: 0.7599999904632568 acc: 0.68 lr: 0.12049644535486204\n",
            "epoch: 7400 loss: 0.75 acc: 0.68 lr: 0.11906179307060363\n",
            "epoch: 7500 loss: 0.75 acc: 0.68 lr: 0.11766090128250381\n",
            "epoch: 7600 loss: 0.7400000095367432 acc: 0.69 lr: 0.11629259216187929\n",
            "epoch: 7700 loss: 0.7400000095367432 acc: 0.69 lr: 0.11495574203931487\n",
            "epoch: 7800 loss: 0.7400000095367432 acc: 0.69 lr: 0.11364927832708263\n",
            "epoch: 7900 loss: 0.7300000190734863 acc: 0.69 lr: 0.11237217664906168\n",
            "epoch: 8000 loss: 0.7300000190734863 acc: 0.7 lr: 0.11112345816201799\n",
            "epoch: 8100 loss: 0.7300000190734863 acc: 0.7 lr: 0.10990218705352237\n",
            "epoch: 8200 loss: 0.7200000286102295 acc: 0.69 lr: 0.10870746820306555\n",
            "epoch: 8300 loss: 0.7200000286102295 acc: 0.69 lr: 0.1075384449940854\n",
            "epoch: 8400 loss: 0.7200000286102295 acc: 0.69 lr: 0.10639429726566654\n",
            "epoch: 8500 loss: 0.7099999785423279 acc: 0.7 lr: 0.10527423939362038\n",
            "epoch: 8600 loss: 0.7099999785423279 acc: 0.7 lr: 0.10417751849150952\n",
            "epoch: 8700 loss: 0.7099999785423279 acc: 0.7 lr: 0.10310341272296113\n",
            "epoch: 8800 loss: 0.699999988079071 acc: 0.7 lr: 0.1020512297173181\n",
            "epoch: 8900 loss: 0.699999988079071 acc: 0.7 lr: 0.10102030508132134\n",
            "epoch: 9000 loss: 0.699999988079071 acc: 0.71 lr: 0.1000100010001\n",
            "epoch: 9100 loss: 0.6899999976158142 acc: 0.71 lr: 0.09901970492127933\n",
            "epoch: 9200 loss: 0.6899999976158142 acc: 0.7 lr: 0.09804882831650162\n",
            "epoch: 9300 loss: 0.6800000071525574 acc: 0.7 lr: 0.09709680551509856\n",
            "epoch: 9400 loss: 0.6800000071525574 acc: 0.7 lr: 0.09616309260505818\n",
            "epoch: 9500 loss: 0.6800000071525574 acc: 0.7 lr: 0.09524716639679968\n",
            "epoch: 9600 loss: 0.6800000071525574 acc: 0.7 lr: 0.09434852344560807\n",
            "epoch: 9700 loss: 0.6800000071525574 acc: 0.7 lr: 0.09346667912889055\n",
            "epoch: 9800 loss: 0.6700000166893005 acc: 0.7 lr: 0.09260116677470137\n",
            "epoch: 9900 loss: 0.6700000166893005 acc: 0.7 lr: 0.09175153683824203\n",
            "epoch: 10000 loss: 0.6700000166893005 acc: 0.71 lr: 0.09091735612328393\n"
          ]
        }
      ]
    },
    {
      "cell_type": "code",
      "source": [
        "fig, axs = plt.subplots(3,1, figsize = (15,10))\n",
        "fig.suptitle('NN metrics')\n",
        "axs[0].plot(best_loss_list, color = 'r',  label='Loss')\n",
        "axs[0].set_ylabel('Loss')\n",
        "\n",
        "axs[1].plot(accuracy_list, color = 'g',  label='Accuracy')\n",
        "axs[1].set_ylabel('Accuracy')\n",
        "\n",
        "axs[2].plot(learning_rate_list, color = 'b', label='Learning rate')\n",
        "axs[2].set_ylabel('Learning rate')\n",
        "\n",
        "axs[2].get_shared_x_axes().join(axs[2],axs[1], axs[0])\n",
        "axs[2].grid(axis=\"x\")\n",
        "\n",
        "axs[0].grid()\n",
        "axs[1].grid()\n",
        "axs[2].grid()\n",
        "\n",
        "fig.supxlabel('Epochs')\n"
      ],
      "metadata": {
        "colab": {
          "base_uri": "https://localhost:8080/",
          "height": 760
        },
        "id": "KfVpYrnUWzgo",
        "outputId": "b8e0a34f-e50e-4368-af0b-9dab9b3c0f3c"
      },
      "execution_count": 38,
      "outputs": [
        {
          "output_type": "stream",
          "name": "stderr",
          "text": [
            "<ipython-input-38-893fdaefb703>:12: MatplotlibDeprecationWarning: The join function was deprecated in Matplotlib 3.6 and will be removed two minor releases later.\n",
            "  axs[2].get_shared_x_axes().join(axs[2],axs[1], axs[0])\n"
          ]
        },
        {
          "output_type": "execute_result",
          "data": {
            "text/plain": [
              "Text(0.5, 0.01, 'Epochs')"
            ]
          },
          "metadata": {},
          "execution_count": 38
        },
        {
          "output_type": "display_data",
          "data": {
            "text/plain": [
              "<Figure size 1500x1000 with 3 Axes>"
            ],
            "image/png": "[encoded data removed]"
          },
          "metadata": {}
        }
      ]
    },
    {
      "cell_type": "code",
      "source": [
        "#With momentum\n",
        "\n",
        "#learning rate 2\n",
        "\n",
        "if __name__ == '__main__':\n",
        "\n",
        "  X, y = spiral_data(samples=100,classes = 3)\n",
        "\n",
        "  dense1 = Layer_Dense(2,64)\n",
        "  activation1 = Activation_ReLU()\n",
        "\n",
        "  dense2 = Layer_Dense(64,3)\n",
        "\n",
        "  loss_activation = Activation_Softmax_Loss_CategoricalCrossentropy() \n",
        "\n",
        "  optimizer = Optimizer_SGD(decay = 1e-3, momentum = 0.9)\n",
        "\n",
        "  best_loss_list = []\n",
        "  learning_rate_list = []\n",
        "  accuracy_list = []\n",
        "  lowest_loss = 9999999\n",
        "  highest_accuracy = 0\n",
        "\n",
        "  for epoch in range(10001):\n",
        "    dense1.forward(X)\n",
        "\n",
        "    activation1.forward(dense1.output)\n",
        "\n",
        "    dense2.forward(activation1.output)\n",
        "\n",
        "    loss= loss_activation.forward(dense2.output,y)\n",
        "    if loss < lowest_loss:\n",
        "      best_loss_list.append(loss)\n",
        "      lowest_loss = loss\n",
        "    else:\n",
        "      best_loss_list.append(lowest_loss)\n",
        "\n",
        "    predictions = np.argmax(loss_activation.output, axis=1)\n",
        "    if len(y.shape) == 2:\n",
        "      y = np.argmax(y,axis=1)\n",
        "    acc = np.mean(predictions==y)\n",
        "    if acc > highest_accuracy:\n",
        "      accuracy_list.append(acc)\n",
        "      highest_accuracy = acc\n",
        "    else:\n",
        "      accuracy_list.append(highest_accuracy)\n",
        "\n",
        "\n",
        "    if not epoch % 100:\n",
        "      print(f'epoch: {epoch} ' +\n",
        "            f'loss: {round(loss, 2)} ' +\n",
        "            f'acc: {round(acc,2)} ' + \n",
        "            f'lr: {optimizer.current_learning_rate}')\n",
        "\n",
        "    #Backward pass\n",
        "\n",
        "    loss_activation.backward(loss_activation.output,y)\n",
        "    dense2.backward(loss_activation.dinputs)\n",
        "    \n",
        "    activation1.backward(dense2.dinputs)\n",
        "    dense1.backward(activation1.dinputs)\n",
        "\n",
        "    optimizer.pre_update_params()\n",
        "    optimizer.update_params(dense1)\n",
        "    optimizer.update_params(dense2)\n",
        "    optimizer.post_update_params()\n",
        "    \n",
        "    learning_rate_list.append(optimizer.current_learning_rate)\n"
      ],
      "metadata": {
        "colab": {
          "base_uri": "https://localhost:8080/"
        },
        "id": "IxHKTUhkcCHX",
        "outputId": "a66be7d7-06ef-4d24-c69d-430b2e2eb970"
      },
      "execution_count": 39,
      "outputs": [
        {
          "output_type": "stream",
          "name": "stdout",
          "text": [
            "epoch: 0 loss: 1.100000023841858 acc: 0.32 lr: 1.0\n",
            "epoch: 100 loss: 1.0700000524520874 acc: 0.42 lr: 0.9099181073703367\n",
            "epoch: 200 loss: 0.9599999785423279 acc: 0.47 lr: 0.8340283569641367\n",
            "epoch: 300 loss: 0.9599999785423279 acc: 0.48 lr: 0.7698229407236336\n",
            "epoch: 400 loss: 0.8299999833106995 acc: 0.53 lr: 0.7147962830593281\n",
            "epoch: 500 loss: 0.800000011920929 acc: 0.54 lr: 0.66711140760507\n",
            "epoch: 600 loss: 0.7599999904632568 acc: 0.57 lr: 0.6253908692933083\n",
            "epoch: 700 loss: 0.6100000143051147 acc: 0.68 lr: 0.5885815185403178\n",
            "epoch: 800 loss: 0.550000011920929 acc: 0.74 lr: 0.5558643690939411\n",
            "epoch: 900 loss: 0.5099999904632568 acc: 0.76 lr: 0.526592943654555\n",
            "epoch: 1000 loss: 0.47999998927116394 acc: 0.77 lr: 0.5002501250625312\n",
            "epoch: 1100 loss: 0.4399999976158142 acc: 0.78 lr: 0.4764173415912339\n",
            "epoch: 1200 loss: 0.41999998688697815 acc: 0.79 lr: 0.45475216007276037\n",
            "epoch: 1300 loss: 0.4099999964237213 acc: 0.79 lr: 0.43497172683775553\n",
            "epoch: 1400 loss: 0.4000000059604645 acc: 0.79 lr: 0.4168403501458941\n",
            "epoch: 1500 loss: 0.38999998569488525 acc: 0.8 lr: 0.4001600640256102\n",
            "epoch: 1600 loss: 0.36000001430511475 acc: 0.84 lr: 0.3847633705271258\n",
            "epoch: 1700 loss: 0.3400000035762787 acc: 0.84 lr: 0.3705075954057058\n",
            "epoch: 1800 loss: 0.33000001311302185 acc: 0.85 lr: 0.35727045373347627\n",
            "epoch: 1900 loss: 0.3199999928474426 acc: 0.85 lr: 0.3449465332873405\n",
            "epoch: 2000 loss: 0.3199999928474426 acc: 0.86 lr: 0.33344448149383127\n",
            "epoch: 2100 loss: 0.3100000023841858 acc: 0.86 lr: 0.32268473701193934\n",
            "epoch: 2200 loss: 0.3100000023841858 acc: 0.85 lr: 0.31259768677711786\n",
            "epoch: 2300 loss: 0.3100000023841858 acc: 0.86 lr: 0.3031221582297666\n",
            "epoch: 2400 loss: 0.30000001192092896 acc: 0.86 lr: 0.29420417769932333\n",
            "epoch: 2500 loss: 0.30000001192092896 acc: 0.86 lr: 0.2857959416976279\n",
            "epoch: 2600 loss: 0.30000001192092896 acc: 0.86 lr: 0.2778549597110308\n",
            "epoch: 2700 loss: 0.30000001192092896 acc: 0.86 lr: 0.2703433360367667\n",
            "epoch: 2800 loss: 0.30000001192092896 acc: 0.86 lr: 0.26322716504343247\n",
            "epoch: 2900 loss: 0.28999999165534973 acc: 0.86 lr: 0.25647601949217746\n",
            "epoch: 3000 loss: 0.28999999165534973 acc: 0.86 lr: 0.25006251562890724\n",
            "epoch: 3100 loss: 0.28999999165534973 acc: 0.86 lr: 0.2439619419370578\n",
            "epoch: 3200 loss: 0.28999999165534973 acc: 0.87 lr: 0.23815194093831865\n",
            "epoch: 3300 loss: 0.28999999165534973 acc: 0.87 lr: 0.23261223540358225\n",
            "epoch: 3400 loss: 0.28999999165534973 acc: 0.87 lr: 0.22732439190725165\n",
            "epoch: 3500 loss: 0.28999999165534973 acc: 0.87 lr: 0.22227161591464767\n",
            "epoch: 3600 loss: 0.28999999165534973 acc: 0.87 lr: 0.21743857360295715\n",
            "epoch: 3700 loss: 0.28999999165534973 acc: 0.87 lr: 0.21281123643328367\n",
            "epoch: 3800 loss: 0.28999999165534973 acc: 0.87 lr: 0.20837674515524068\n",
            "epoch: 3900 loss: 0.28999999165534973 acc: 0.87 lr: 0.20412329046744235\n",
            "epoch: 4000 loss: 0.2800000011920929 acc: 0.87 lr: 0.2000400080016003\n",
            "epoch: 4100 loss: 0.2800000011920929 acc: 0.87 lr: 0.19611688566385566\n",
            "epoch: 4200 loss: 0.2800000011920929 acc: 0.87 lr: 0.19234468166955185\n",
            "epoch: 4300 loss: 0.2800000011920929 acc: 0.87 lr: 0.18871485185884126\n",
            "epoch: 4400 loss: 0.2800000011920929 acc: 0.87 lr: 0.18521948508983144\n",
            "epoch: 4500 loss: 0.2800000011920929 acc: 0.87 lr: 0.18185124568103292\n",
            "epoch: 4600 loss: 0.2800000011920929 acc: 0.87 lr: 0.1786033220217896\n",
            "epoch: 4700 loss: 0.2800000011920929 acc: 0.87 lr: 0.1754693805930865\n",
            "epoch: 4800 loss: 0.2800000011920929 acc: 0.87 lr: 0.17244352474564578\n",
            "epoch: 4900 loss: 0.2800000011920929 acc: 0.87 lr: 0.16952025767079165\n",
            "epoch: 5000 loss: 0.2800000011920929 acc: 0.88 lr: 0.16669444907484582\n",
            "epoch: 5100 loss: 0.2800000011920929 acc: 0.88 lr: 0.16396130513198884\n",
            "epoch: 5200 loss: 0.2800000011920929 acc: 0.88 lr: 0.16131634134537828\n",
            "epoch: 5300 loss: 0.2800000011920929 acc: 0.88 lr: 0.15875535799333226\n",
            "epoch: 5400 loss: 0.2800000011920929 acc: 0.88 lr: 0.1562744178777934\n",
            "epoch: 5500 loss: 0.2800000011920929 acc: 0.88 lr: 0.15386982612709646\n",
            "epoch: 5600 loss: 0.2800000011920929 acc: 0.88 lr: 0.15153811183512653\n",
            "epoch: 5700 loss: 0.2800000011920929 acc: 0.88 lr: 0.14927601134497687\n",
            "epoch: 5800 loss: 0.2800000011920929 acc: 0.88 lr: 0.14708045300779526\n",
            "epoch: 5900 loss: 0.2800000011920929 acc: 0.88 lr: 0.14494854326714016\n",
            "epoch: 6000 loss: 0.2800000011920929 acc: 0.88 lr: 0.1428775539362766\n",
            "epoch: 6100 loss: 0.27000001072883606 acc: 0.88 lr: 0.1408649105507818\n",
            "epoch: 6200 loss: 0.27000001072883606 acc: 0.88 lr: 0.13890818169190167\n",
            "epoch: 6300 loss: 0.27000001072883606 acc: 0.88 lr: 0.13700506918755992\n",
            "epoch: 6400 loss: 0.27000001072883606 acc: 0.88 lr: 0.13515339910798757\n",
            "epoch: 6500 loss: 0.27000001072883606 acc: 0.88 lr: 0.13335111348179757\n",
            "epoch: 6600 loss: 0.27000001072883606 acc: 0.88 lr: 0.13159626266614027\n",
            "epoch: 6700 loss: 0.27000001072883606 acc: 0.88 lr: 0.12988699831146902\n",
            "epoch: 6800 loss: 0.27000001072883606 acc: 0.88 lr: 0.12822156686754713\n",
            "epoch: 6900 loss: 0.27000001072883606 acc: 0.88 lr: 0.126598303582732\n",
            "epoch: 7000 loss: 0.27000001072883606 acc: 0.88 lr: 0.12501562695336915\n",
            "epoch: 7100 loss: 0.27000001072883606 acc: 0.88 lr: 0.12347203358439313\n",
            "epoch: 7200 loss: 0.27000001072883606 acc: 0.88 lr: 0.12196609342602757\n",
            "epoch: 7300 loss: 0.27000001072883606 acc: 0.88 lr: 0.12049644535486204\n",
            "epoch: 7400 loss: 0.27000001072883606 acc: 0.88 lr: 0.11906179307060363\n",
            "epoch: 7500 loss: 0.27000001072883606 acc: 0.88 lr: 0.11766090128250381\n",
            "epoch: 7600 loss: 0.27000001072883606 acc: 0.88 lr: 0.11629259216187929\n",
            "epoch: 7700 loss: 0.27000001072883606 acc: 0.88 lr: 0.11495574203931487\n",
            "epoch: 7800 loss: 0.27000001072883606 acc: 0.88 lr: 0.11364927832708263\n",
            "epoch: 7900 loss: 0.27000001072883606 acc: 0.89 lr: 0.11237217664906168\n",
            "epoch: 8000 loss: 0.27000001072883606 acc: 0.89 lr: 0.11112345816201799\n",
            "epoch: 8100 loss: 0.27000001072883606 acc: 0.89 lr: 0.10990218705352237\n",
            "epoch: 8200 loss: 0.27000001072883606 acc: 0.88 lr: 0.10870746820306555\n",
            "epoch: 8300 loss: 0.27000001072883606 acc: 0.89 lr: 0.1075384449940854\n",
            "epoch: 8400 loss: 0.27000001072883606 acc: 0.89 lr: 0.10639429726566654\n",
            "epoch: 8500 loss: 0.27000001072883606 acc: 0.89 lr: 0.10527423939362038\n",
            "epoch: 8600 loss: 0.27000001072883606 acc: 0.89 lr: 0.10417751849150952\n",
            "epoch: 8700 loss: 0.27000001072883606 acc: 0.88 lr: 0.10310341272296113\n",
            "epoch: 8800 loss: 0.27000001072883606 acc: 0.88 lr: 0.1020512297173181\n",
            "epoch: 8900 loss: 0.27000001072883606 acc: 0.89 lr: 0.10102030508132134\n",
            "epoch: 9000 loss: 0.27000001072883606 acc: 0.89 lr: 0.1000100010001\n",
            "epoch: 9100 loss: 0.27000001072883606 acc: 0.89 lr: 0.09901970492127933\n",
            "epoch: 9200 loss: 0.27000001072883606 acc: 0.89 lr: 0.09804882831650162\n",
            "epoch: 9300 loss: 0.27000001072883606 acc: 0.89 lr: 0.09709680551509856\n",
            "epoch: 9400 loss: 0.27000001072883606 acc: 0.89 lr: 0.09616309260505818\n",
            "epoch: 9500 loss: 0.27000001072883606 acc: 0.89 lr: 0.09524716639679968\n",
            "epoch: 9600 loss: 0.27000001072883606 acc: 0.89 lr: 0.09434852344560807\n",
            "epoch: 9700 loss: 0.27000001072883606 acc: 0.89 lr: 0.09346667912889055\n",
            "epoch: 9800 loss: 0.27000001072883606 acc: 0.89 lr: 0.09260116677470137\n",
            "epoch: 9900 loss: 0.27000001072883606 acc: 0.89 lr: 0.09175153683824203\n",
            "epoch: 10000 loss: 0.27000001072883606 acc: 0.89 lr: 0.09091735612328393\n"
          ]
        }
      ]
    },
    {
      "cell_type": "code",
      "source": [
        "fig, axs = plt.subplots(3,1, figsize = (15,10))\n",
        "fig.suptitle('NN metrics')\n",
        "axs[0].plot(best_loss_list, color = 'r',  label='Loss')\n",
        "axs[0].set_ylabel('Loss')\n",
        "\n",
        "axs[1].plot(accuracy_list, color = 'g',  label='Accuracy')\n",
        "axs[1].set_ylabel('Accuracy')\n",
        "\n",
        "axs[2].plot(learning_rate_list, color = 'b', label='Learning rate')\n",
        "axs[2].set_ylabel('Learning rate')\n",
        "\n",
        "axs[2].get_shared_x_axes().join(axs[2],axs[1], axs[0])\n",
        "axs[2].grid(axis=\"x\")\n",
        "\n",
        "axs[0].grid()\n",
        "axs[1].grid()\n",
        "axs[2].grid()\n",
        "\n",
        "fig.supxlabel('Epochs')\n"
      ],
      "metadata": {
        "colab": {
          "base_uri": "https://localhost:8080/",
          "height": 760
        },
        "id": "16ATPGW7dYul",
        "outputId": "35d1c24a-5f46-4def-e91e-01826c806982"
      },
      "execution_count": 40,
      "outputs": [
        {
          "output_type": "stream",
          "name": "stderr",
          "text": [
            "<ipython-input-40-893fdaefb703>:12: MatplotlibDeprecationWarning: The join function was deprecated in Matplotlib 3.6 and will be removed two minor releases later.\n",
            "  axs[2].get_shared_x_axes().join(axs[2],axs[1], axs[0])\n"
          ]
        },
        {
          "output_type": "execute_result",
          "data": {
            "text/plain": [
              "Text(0.5, 0.01, 'Epochs')"
            ]
          },
          "metadata": {},
          "execution_count": 40
        },
        {
          "output_type": "display_data",
          "data": {
            "text/plain": [
              "<Figure size 1500x1000 with 3 Axes>"
            ],
            "image/png": "[encoded data removed]"
          },
          "metadata": {}
        }
      ]
    },
    {
      "cell_type": "markdown",
      "source": [
        "#AdaGrad\n"
      ],
      "metadata": {
        "id": "BOU0D-FHFiyL"
      }
    },
    {
      "cell_type": "code",
      "source": [
        "class Optimizer_AdaGrad:\n",
        "\n",
        "  def __init__(self, learning_rate = 1., decay = 0., epsilon = 1e-7):\n",
        "    self.learning_rate = learning_rate\n",
        "    self.current_learning_rate = learning_rate\n",
        "    self.decay = decay\n",
        "    self.iterations = 0\n",
        "    self.epsilon = epsilon\n",
        "  \n",
        "  def pre_update_params(self):\n",
        "    if self.decay:\n",
        "      self.current_learning_rate = self.learning_rate * (1. / (1. + self.decay * self.iterations))\n",
        "\n",
        "\n",
        "  def update_params(self, layer):\n",
        "    if not hasattr(layer, 'weight_cache'):\n",
        "      layer.weight_cache = np.zeros_like(layer.weights)\n",
        "      layer.bias_cache = np.zeros_like(layer.biases)\n",
        "        \n",
        "    layer.weight_cache += layer.dweights**2\n",
        "    layer.bias_cache += layer.dbiases**2\n",
        "\n",
        "    layer.weights += -self.current_learning_rate * layer.dweights / (np.sqrt(layer.weight_cache) + self.epsilon)\n",
        "    layer.biases += -self.current_learning_rate * layer.dbiases / (np.sqrt(layer.bias_cache) + self.epsilon)\n",
        "  def post_update_params(self):\n",
        "    self.iterations += 1"
      ],
      "metadata": {
        "id": "JVop2NIUcDSi"
      },
      "execution_count": 45,
      "outputs": []
    },
    {
      "cell_type": "code",
      "source": [
        "#With AdaGrad\n",
        "\n",
        "#learning rate 1\n",
        "\n",
        "if __name__ == '__main__':\n",
        "\n",
        "  X, y = spiral_data(samples=100,classes = 3)\n",
        "\n",
        "  dense1 = Layer_Dense(2,64)\n",
        "  activation1 = Activation_ReLU()\n",
        "\n",
        "  dense2 = Layer_Dense(64,3)\n",
        "\n",
        "  loss_activation = Activation_Softmax_Loss_CategoricalCrossentropy() \n",
        "\n",
        "  optimizer = Optimizer_AdaGrad(decay = 1e-4)\n",
        "\n",
        "  best_loss_list = []\n",
        "  learning_rate_list = []\n",
        "  accuracy_list = []\n",
        "  lowest_loss = 9999999\n",
        "  highest_accuracy = 0\n",
        "\n",
        "  for epoch in range(10001):\n",
        "    dense1.forward(X)\n",
        "\n",
        "    activation1.forward(dense1.output)\n",
        "\n",
        "    dense2.forward(activation1.output)\n",
        "\n",
        "    loss= loss_activation.forward(dense2.output,y)\n",
        "    if loss < lowest_loss:\n",
        "      best_loss_list.append(loss)\n",
        "      lowest_loss = loss\n",
        "    else:\n",
        "      best_loss_list.append(lowest_loss)\n",
        "\n",
        "    predictions = np.argmax(loss_activation.output, axis=1)\n",
        "    if len(y.shape) == 2:\n",
        "      y = np.argmax(y,axis=1)\n",
        "    acc = np.mean(predictions==y)\n",
        "    if acc > highest_accuracy:\n",
        "      accuracy_list.append(acc)\n",
        "      highest_accuracy = acc\n",
        "    else:\n",
        "      accuracy_list.append(highest_accuracy)\n",
        "\n",
        "\n",
        "    if not epoch % 100:\n",
        "      print(f'epoch: {epoch} ' +\n",
        "            f'loss: {round(loss, 2)} ' +\n",
        "            f'acc: {round(acc,2)} ' + \n",
        "            f'lr: {optimizer.current_learning_rate}')\n",
        "\n",
        "    #Backward pass\n",
        "\n",
        "    loss_activation.backward(loss_activation.output,y)\n",
        "    dense2.backward(loss_activation.dinputs)\n",
        "    \n",
        "    activation1.backward(dense2.dinputs)\n",
        "    dense1.backward(activation1.dinputs)\n",
        "\n",
        "    optimizer.pre_update_params()\n",
        "    optimizer.update_params(dense1)\n",
        "    optimizer.update_params(dense2)\n",
        "    optimizer.post_update_params()\n",
        "    \n",
        "    learning_rate_list.append(optimizer.current_learning_rate)\n"
      ],
      "metadata": {
        "colab": {
          "base_uri": "https://localhost:8080/"
        },
        "id": "KcwfdazmHcTC",
        "outputId": "5a59323a-3e5a-4d5a-d6ab-135250d38979"
      },
      "execution_count": 46,
      "outputs": [
        {
          "output_type": "stream",
          "name": "stdout",
          "text": [
            "epoch: 0 loss: 1.100000023841858 acc: 0.33 lr: 1.0\n",
            "epoch: 100 loss: 0.9900000095367432 acc: 0.43 lr: 0.9901970492127933\n",
            "epoch: 200 loss: 0.9300000071525574 acc: 0.51 lr: 0.9804882831650161\n",
            "epoch: 300 loss: 0.9100000262260437 acc: 0.52 lr: 0.9709680551509855\n",
            "epoch: 400 loss: 0.8799999952316284 acc: 0.53 lr: 0.9616309260505818\n",
            "epoch: 500 loss: 0.8500000238418579 acc: 0.55 lr: 0.9524716639679969\n",
            "epoch: 600 loss: 0.8299999833106995 acc: 0.56 lr: 0.9434852344560807\n",
            "epoch: 700 loss: 0.8199999928474426 acc: 0.56 lr: 0.9346667912889054\n",
            "epoch: 800 loss: 0.800000011920929 acc: 0.57 lr: 0.9260116677470135\n",
            "epoch: 900 loss: 0.7900000214576721 acc: 0.59 lr: 0.9175153683824203\n",
            "epoch: 1000 loss: 0.7799999713897705 acc: 0.58 lr: 0.9091735612328392\n",
            "epoch: 1100 loss: 0.7699999809265137 acc: 0.6 lr: 0.9009820704567978\n",
            "epoch: 1200 loss: 0.7599999904632568 acc: 0.61 lr: 0.892936869363336\n",
            "epoch: 1300 loss: 0.7400000095367432 acc: 0.61 lr: 0.8850340738118416\n",
            "epoch: 1400 loss: 0.7300000190734863 acc: 0.63 lr: 0.8772699359592947\n",
            "epoch: 1500 loss: 0.7200000286102295 acc: 0.65 lr: 0.8696408383337683\n",
            "epoch: 1600 loss: 0.7099999785423279 acc: 0.66 lr: 0.8621432882145013\n",
            "epoch: 1700 loss: 0.699999988079071 acc: 0.65 lr: 0.8547739123001966\n",
            "epoch: 1800 loss: 0.6899999976158142 acc: 0.68 lr: 0.8475294516484448\n",
            "epoch: 1900 loss: 0.6700000166893005 acc: 0.68 lr: 0.8404067568703253\n",
            "epoch: 2000 loss: 0.6700000166893005 acc: 0.68 lr: 0.8334027835652972\n",
            "epoch: 2100 loss: 0.6600000262260437 acc: 0.68 lr: 0.8265145879824779\n",
            "epoch: 2200 loss: 0.6499999761581421 acc: 0.67 lr: 0.8197393228953193\n",
            "epoch: 2300 loss: 0.6399999856948853 acc: 0.68 lr: 0.8130742336775347\n",
            "epoch: 2400 loss: 0.6299999952316284 acc: 0.69 lr: 0.8065166545689169\n",
            "epoch: 2500 loss: 0.6200000047683716 acc: 0.69 lr: 0.8000640051204096\n",
            "epoch: 2600 loss: 0.6200000047683716 acc: 0.69 lr: 0.7937137868084768\n",
            "epoch: 2700 loss: 0.6100000143051147 acc: 0.71 lr: 0.7874635798094338\n",
            "epoch: 2800 loss: 0.6000000238418579 acc: 0.7 lr: 0.7813110399249941\n",
            "epoch: 2900 loss: 0.6000000238418579 acc: 0.7 lr: 0.7752538956508256\n",
            "epoch: 3000 loss: 0.5899999737739563 acc: 0.72 lr: 0.7692899453804138\n",
            "epoch: 3100 loss: 0.5799999833106995 acc: 0.71 lr: 0.7634170547370028\n",
            "epoch: 3200 loss: 0.5799999833106995 acc: 0.72 lr: 0.7576331540268202\n",
            "epoch: 3300 loss: 0.5699999928474426 acc: 0.7 lr: 0.7519362358072035\n",
            "epoch: 3400 loss: 0.550000011920929 acc: 0.7 lr: 0.7463243525636241\n",
            "epoch: 3500 loss: 0.5600000023841858 acc: 0.71 lr: 0.7407956144899621\n",
            "epoch: 3600 loss: 0.5400000214576721 acc: 0.71 lr: 0.735348187366718\n",
            "epoch: 3700 loss: 0.5400000214576721 acc: 0.72 lr: 0.7299802905321557\n",
            "epoch: 3800 loss: 0.5400000214576721 acc: 0.71 lr: 0.7246901949416624\n",
            "epoch: 3900 loss: 0.5299999713897705 acc: 0.73 lr: 0.7194762213108857\n",
            "epoch: 4000 loss: 0.5299999713897705 acc: 0.73 lr: 0.7143367383384527\n",
            "epoch: 4100 loss: 0.5299999713897705 acc: 0.73 lr: 0.7092701610043266\n",
            "epoch: 4200 loss: 0.5199999809265137 acc: 0.73 lr: 0.7042749489400663\n",
            "epoch: 4300 loss: 0.5199999809265137 acc: 0.73 lr: 0.6993496048674733\n",
            "epoch: 4400 loss: 0.5199999809265137 acc: 0.73 lr: 0.6944926731022988\n",
            "epoch: 4500 loss: 0.5099999904632568 acc: 0.74 lr: 0.6897027381198704\n",
            "epoch: 4600 loss: 0.5099999904632568 acc: 0.74 lr: 0.6849784231796698\n",
            "epoch: 4700 loss: 0.5099999904632568 acc: 0.74 lr: 0.6803183890060548\n",
            "epoch: 4800 loss: 0.5099999904632568 acc: 0.74 lr: 0.6757213325224677\n",
            "epoch: 4900 loss: 0.5 acc: 0.75 lr: 0.6711859856366199\n",
            "epoch: 5000 loss: 0.49000000953674316 acc: 0.75 lr: 0.6667111140742716\n",
            "epoch: 5100 loss: 0.49000000953674316 acc: 0.75 lr: 0.6622955162593549\n",
            "epoch: 5200 loss: 0.49000000953674316 acc: 0.76 lr: 0.6579380222383051\n",
            "epoch: 5300 loss: 0.47999998927116394 acc: 0.76 lr: 0.6536374926465782\n",
            "epoch: 5400 loss: 0.47999998927116394 acc: 0.76 lr: 0.649392817715436\n",
            "epoch: 5500 loss: 0.47999998927116394 acc: 0.77 lr: 0.6452029163171817\n",
            "epoch: 5600 loss: 0.47999998927116394 acc: 0.77 lr: 0.6410667350471184\n",
            "epoch: 5700 loss: 0.4699999988079071 acc: 0.77 lr: 0.6369832473405949\n",
            "epoch: 5800 loss: 0.4699999988079071 acc: 0.77 lr: 0.6329514526235838\n",
            "epoch: 5900 loss: 0.4699999988079071 acc: 0.77 lr: 0.6289703754953141\n",
            "epoch: 6000 loss: 0.46000000834465027 acc: 0.77 lr: 0.6250390649415589\n",
            "epoch: 6100 loss: 0.46000000834465027 acc: 0.77 lr: 0.6211565935772407\n",
            "epoch: 6200 loss: 0.46000000834465027 acc: 0.77 lr: 0.6173220569170937\n",
            "epoch: 6300 loss: 0.46000000834465027 acc: 0.77 lr: 0.6135345726731701\n",
            "epoch: 6400 loss: 0.46000000834465027 acc: 0.77 lr: 0.6097932800780536\n",
            "epoch: 6500 loss: 0.46000000834465027 acc: 0.77 lr: 0.6060973392326807\n",
            "epoch: 6600 loss: 0.44999998807907104 acc: 0.77 lr: 0.6024459304777396\n",
            "epoch: 6700 loss: 0.44999998807907104 acc: 0.77 lr: 0.5988382537876519\n",
            "epoch: 6800 loss: 0.44999998807907104 acc: 0.77 lr: 0.5952735281862016\n",
            "epoch: 6900 loss: 0.44999998807907104 acc: 0.77 lr: 0.5917509911829102\n",
            "epoch: 7000 loss: 0.44999998807907104 acc: 0.77 lr: 0.5882698982293076\n",
            "epoch: 7100 loss: 0.44999998807907104 acc: 0.77 lr: 0.5848295221942803\n",
            "epoch: 7200 loss: 0.44999998807907104 acc: 0.77 lr: 0.5814291528577243\n",
            "epoch: 7300 loss: 0.44999998807907104 acc: 0.77 lr: 0.5780680964217585\n",
            "epoch: 7400 loss: 0.44999998807907104 acc: 0.77 lr: 0.5747456750387954\n",
            "epoch: 7500 loss: 0.44999998807907104 acc: 0.77 lr: 0.5714612263557918\n",
            "epoch: 7600 loss: 0.44999998807907104 acc: 0.76 lr: 0.5682141030740383\n",
            "epoch: 7700 loss: 0.4399999976158142 acc: 0.76 lr: 0.5650036725238714\n",
            "epoch: 7800 loss: 0.4399999976158142 acc: 0.76 lr: 0.5618293162537221\n",
            "epoch: 7900 loss: 0.4399999976158142 acc: 0.76 lr: 0.5586904296329404\n",
            "epoch: 8000 loss: 0.4399999976158142 acc: 0.75 lr: 0.5555864214678593\n",
            "epoch: 8100 loss: 0.4399999976158142 acc: 0.75 lr: 0.5525167136305873\n",
            "epoch: 8200 loss: 0.4399999976158142 acc: 0.75 lr: 0.5494807407000385\n",
            "epoch: 8300 loss: 0.4399999976158142 acc: 0.76 lr: 0.5464779496147331\n",
            "epoch: 8400 loss: 0.4399999976158142 acc: 0.76 lr: 0.5435077993369205\n",
            "epoch: 8500 loss: 0.4399999976158142 acc: 0.76 lr: 0.5405697605275961\n",
            "epoch: 8600 loss: 0.4399999976158142 acc: 0.77 lr: 0.5376633152320017\n",
            "epoch: 8700 loss: 0.4399999976158142 acc: 0.76 lr: 0.5347879565752179\n",
            "epoch: 8800 loss: 0.4399999976158142 acc: 0.76 lr: 0.5319431884674717\n",
            "epoch: 8900 loss: 0.4399999976158142 acc: 0.76 lr: 0.5291285253188\n",
            "epoch: 9000 loss: 0.4300000071525574 acc: 0.76 lr: 0.5263434917627243\n",
            "epoch: 9100 loss: 0.4300000071525574 acc: 0.76 lr: 0.5235876223886068\n",
            "epoch: 9200 loss: 0.4300000071525574 acc: 0.76 lr: 0.5208604614823689\n",
            "epoch: 9300 loss: 0.4300000071525574 acc: 0.77 lr: 0.5181615627752734\n",
            "epoch: 9400 loss: 0.4300000071525574 acc: 0.76 lr: 0.5154904892004742\n",
            "epoch: 9500 loss: 0.4300000071525574 acc: 0.76 lr: 0.5128468126570593\n",
            "epoch: 9600 loss: 0.4300000071525574 acc: 0.76 lr: 0.5102301137813153\n",
            "epoch: 9700 loss: 0.4300000071525574 acc: 0.76 lr: 0.5076399817249606\n",
            "epoch: 9800 loss: 0.4300000071525574 acc: 0.76 lr: 0.5050760139400979\n",
            "epoch: 9900 loss: 0.4300000071525574 acc: 0.76 lr: 0.5025378159706518\n",
            "epoch: 10000 loss: 0.4300000071525574 acc: 0.76 lr: 0.5000250012500626\n"
          ]
        }
      ]
    },
    {
      "cell_type": "code",
      "source": [
        "fig, axs = plt.subplots(3,1, figsize = (15,10))\n",
        "fig.suptitle('NN metrics')\n",
        "axs[0].plot(best_loss_list, color = 'r',  label='Loss')\n",
        "axs[0].set_ylabel('Loss')\n",
        "\n",
        "axs[1].plot(accuracy_list, color = 'g',  label='Accuracy')\n",
        "axs[1].set_ylabel('Accuracy')\n",
        "\n",
        "axs[2].plot(learning_rate_list, color = 'b', label='Learning rate')\n",
        "axs[2].set_ylabel('Learning rate')\n",
        "\n",
        "axs[2].get_shared_x_axes().join(axs[2],axs[1], axs[0])\n",
        "axs[2].grid(axis=\"x\")\n",
        "\n",
        "axs[0].grid()\n",
        "axs[1].grid()\n",
        "axs[2].grid()\n",
        "\n",
        "fig.supxlabel('Epochs')\n"
      ],
      "metadata": {
        "colab": {
          "base_uri": "https://localhost:8080/",
          "height": 760
        },
        "id": "VnjncBawHvDM",
        "outputId": "411d1d73-4e7d-49b8-f5c4-fa189e252f30"
      },
      "execution_count": 47,
      "outputs": [
        {
          "output_type": "stream",
          "name": "stderr",
          "text": [
            "<ipython-input-47-893fdaefb703>:12: MatplotlibDeprecationWarning: The join function was deprecated in Matplotlib 3.6 and will be removed two minor releases later.\n",
            "  axs[2].get_shared_x_axes().join(axs[2],axs[1], axs[0])\n"
          ]
        },
        {
          "output_type": "execute_result",
          "data": {
            "text/plain": [
              "Text(0.5, 0.01, 'Epochs')"
            ]
          },
          "metadata": {},
          "execution_count": 47
        },
        {
          "output_type": "display_data",
          "data": {
            "text/plain": [
              "<Figure size 1500x1000 with 3 Axes>"
            ],
            "image/png": "[encoded data removed]"
          },
          "metadata": {}
        }
      ]
    },
    {
      "cell_type": "markdown",
      "source": [
        "# RMSProp"
      ],
      "metadata": {
        "id": "j_a5qGzgI2nS"
      }
    },
    {
      "cell_type": "code",
      "source": [],
      "metadata": {
        "id": "OvzMUobHI6LI"
      },
      "execution_count": null,
      "outputs": []
    }
  ]
}